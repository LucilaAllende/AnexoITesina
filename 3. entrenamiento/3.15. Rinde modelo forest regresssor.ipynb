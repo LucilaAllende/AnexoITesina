{
 "cells": [
  {
   "attachments": {},
   "cell_type": "markdown",
   "id": "634062c4",
   "metadata": {},
   "source": [
    "# 3.15. Modelo para predecir el rinde"
   ]
  },
  {
   "cell_type": "markdown",
   "id": "b9e450c0",
   "metadata": {},
   "source": [
    "La siguiente celda de código utiliza algunas de las bibliotecas más populares para el tratamiento y análisis de datos.\n",
    "\n",
    "- `import numpy as np`: se importa la biblioteca `NumPy` y se le asigna un alias `np`, esto se hace para que sea más fácil de usar y escribir en el código. NumPy es una biblioteca que proporciona soporte para cálculos matemáticos y de matrices en Python.\n",
    "- `import pandas as pd`: se importa la biblioteca `Pandas` y se le asigna un alias `pd`. Pandas es una biblioteca que proporciona estructuras de datos flexibles para el análisis de datos y herramientas para trabajar con datos estructurados.\n",
    "- `import matplotlib.pyplot as plt`: se importa la biblioteca `Matplotlib`, que se utiliza para crear visualizaciones en Python, y se le asigna un alias `plt`.\n",
    "- `%matplotlib inline`: se habilita la visualización en línea de gráficos `Matplotlib`, lo que significa que los gráficos se mostrarán directamente en el cuaderno de Jupyter en el que se está trabajando.\n",
    "- `from sklearn.ensemble import RandomForestRegressor`: se importa la biblioteca `RandomForestRegressor` que se utiliza para crear modelos de regresión aleatorios que utilizan árboles de decisión. Estos modelos se utilizan a menudo para predecir valores numéricos a partir de características del conjunto de datos.\n",
    "- `from sklearn.metrics import mean_squared_error, mean_absolute_error`: se importan algunas métricas de evaluación de modelos, incluyendo `mean_squared_error` y `mean_absolute_error`. Estas métricas se utilizan para evaluar el rendimiento del modelo en términos de precisión y ajuste.\n",
    "- `from skforecast.ForecasterAutoreg import ForecasterAutoreg`: se importa la biblioteca `ForecasterAutoreg` que se especializa en modelos de predicción de series de tiempo en Python.\n",
    "- `from statsmodels.iolib.smpickle import save_pickle`: se importa `save_pickle` que se utiliza para guardar modelos de predicción en archivos para su posterior uso."
   ]
  },
  {
   "cell_type": "code",
   "execution_count": 1,
   "id": "f3dcbf6b",
   "metadata": {},
   "outputs": [],
   "source": [
    "import numpy as np\n",
    "import pandas as pd\n",
    "import matplotlib.pyplot as plt\n",
    "from matplotlib.dates import YearLocator\n",
    "%matplotlib inline\n",
    "\n",
    "from sklearn.ensemble import RandomForestRegressor\n",
    "from sklearn.metrics import mean_squared_error, mean_absolute_error\n",
    "\n",
    "from skforecast.ForecasterAutoreg import ForecasterAutoreg\n",
    "\n",
    "from statsmodels.iolib.smpickle import save_pickle"
   ]
  },
  {
   "cell_type": "markdown",
   "id": "39dc7380",
   "metadata": {},
   "source": [
    "## Preparación de los datos"
   ]
  },
  {
   "cell_type": "markdown",
   "id": "be9b2415",
   "metadata": {},
   "source": [
    "A continuación, en la siguiente celda de código, se presenta un conjunto de datos que fue creado manualmente utilizando información del Mirabueno. El conjunto de datos abarca un período de 36 años y se enfoca en la medición de el rinde de la lana y su correspondiente fecha."
   ]
  },
  {
   "cell_type": "code",
   "execution_count": 2,
   "id": "357008c8",
   "metadata": {
    "scrolled": true
   },
   "outputs": [
    {
     "data": {
      "text/html": [
       "<div>\n",
       "<style scoped>\n",
       "    .dataframe tbody tr th:only-of-type {\n",
       "        vertical-align: middle;\n",
       "    }\n",
       "\n",
       "    .dataframe tbody tr th {\n",
       "        vertical-align: top;\n",
       "    }\n",
       "\n",
       "    .dataframe thead th {\n",
       "        text-align: right;\n",
       "    }\n",
       "</style>\n",
       "<table border=\"1\" class=\"dataframe\">\n",
       "  <thead>\n",
       "    <tr style=\"text-align: right;\">\n",
       "      <th></th>\n",
       "      <th>fecha</th>\n",
       "      <th>rinde</th>\n",
       "    </tr>\n",
       "  </thead>\n",
       "  <tbody>\n",
       "    <tr>\n",
       "      <th>0</th>\n",
       "      <td>1985-12-31</td>\n",
       "      <td>60.46</td>\n",
       "    </tr>\n",
       "    <tr>\n",
       "      <th>1</th>\n",
       "      <td>1986-12-31</td>\n",
       "      <td>61.52</td>\n",
       "    </tr>\n",
       "    <tr>\n",
       "      <th>2</th>\n",
       "      <td>1987-12-31</td>\n",
       "      <td>55.77</td>\n",
       "    </tr>\n",
       "    <tr>\n",
       "      <th>3</th>\n",
       "      <td>1988-12-31</td>\n",
       "      <td>61.69</td>\n",
       "    </tr>\n",
       "    <tr>\n",
       "      <th>4</th>\n",
       "      <td>1989-12-31</td>\n",
       "      <td>57.13</td>\n",
       "    </tr>\n",
       "    <tr>\n",
       "      <th>5</th>\n",
       "      <td>1990-12-31</td>\n",
       "      <td>59.84</td>\n",
       "    </tr>\n",
       "    <tr>\n",
       "      <th>6</th>\n",
       "      <td>1991-12-31</td>\n",
       "      <td>60.56</td>\n",
       "    </tr>\n",
       "    <tr>\n",
       "      <th>7</th>\n",
       "      <td>1992-12-31</td>\n",
       "      <td>54.04</td>\n",
       "    </tr>\n",
       "    <tr>\n",
       "      <th>8</th>\n",
       "      <td>1993-12-31</td>\n",
       "      <td>58.81</td>\n",
       "    </tr>\n",
       "    <tr>\n",
       "      <th>9</th>\n",
       "      <td>1994-12-31</td>\n",
       "      <td>61.83</td>\n",
       "    </tr>\n",
       "    <tr>\n",
       "      <th>10</th>\n",
       "      <td>1995-12-31</td>\n",
       "      <td>64.37</td>\n",
       "    </tr>\n",
       "    <tr>\n",
       "      <th>11</th>\n",
       "      <td>1996-12-31</td>\n",
       "      <td>60.43</td>\n",
       "    </tr>\n",
       "    <tr>\n",
       "      <th>12</th>\n",
       "      <td>1997-12-31</td>\n",
       "      <td>56.21</td>\n",
       "    </tr>\n",
       "    <tr>\n",
       "      <th>13</th>\n",
       "      <td>1998-12-31</td>\n",
       "      <td>61.39</td>\n",
       "    </tr>\n",
       "    <tr>\n",
       "      <th>14</th>\n",
       "      <td>1999-12-31</td>\n",
       "      <td>53.18</td>\n",
       "    </tr>\n",
       "    <tr>\n",
       "      <th>15</th>\n",
       "      <td>2000-12-31</td>\n",
       "      <td>65.27</td>\n",
       "    </tr>\n",
       "    <tr>\n",
       "      <th>16</th>\n",
       "      <td>2001-12-31</td>\n",
       "      <td>61.80</td>\n",
       "    </tr>\n",
       "    <tr>\n",
       "      <th>17</th>\n",
       "      <td>2002-12-31</td>\n",
       "      <td>61.65</td>\n",
       "    </tr>\n",
       "    <tr>\n",
       "      <th>18</th>\n",
       "      <td>2003-12-31</td>\n",
       "      <td>61.10</td>\n",
       "    </tr>\n",
       "    <tr>\n",
       "      <th>19</th>\n",
       "      <td>2004-12-31</td>\n",
       "      <td>57.50</td>\n",
       "    </tr>\n",
       "    <tr>\n",
       "      <th>20</th>\n",
       "      <td>2005-12-31</td>\n",
       "      <td>56.80</td>\n",
       "    </tr>\n",
       "    <tr>\n",
       "      <th>21</th>\n",
       "      <td>2006-12-31</td>\n",
       "      <td>57.80</td>\n",
       "    </tr>\n",
       "    <tr>\n",
       "      <th>22</th>\n",
       "      <td>2007-12-31</td>\n",
       "      <td>58.30</td>\n",
       "    </tr>\n",
       "    <tr>\n",
       "      <th>23</th>\n",
       "      <td>2008-12-31</td>\n",
       "      <td>58.90</td>\n",
       "    </tr>\n",
       "    <tr>\n",
       "      <th>24</th>\n",
       "      <td>2009-12-31</td>\n",
       "      <td>53.10</td>\n",
       "    </tr>\n",
       "    <tr>\n",
       "      <th>25</th>\n",
       "      <td>2010-12-31</td>\n",
       "      <td>56.70</td>\n",
       "    </tr>\n",
       "    <tr>\n",
       "      <th>26</th>\n",
       "      <td>2011-12-31</td>\n",
       "      <td>55.00</td>\n",
       "    </tr>\n",
       "    <tr>\n",
       "      <th>27</th>\n",
       "      <td>2012-12-31</td>\n",
       "      <td>53.90</td>\n",
       "    </tr>\n",
       "    <tr>\n",
       "      <th>28</th>\n",
       "      <td>2013-12-31</td>\n",
       "      <td>53.90</td>\n",
       "    </tr>\n",
       "    <tr>\n",
       "      <th>29</th>\n",
       "      <td>2014-12-31</td>\n",
       "      <td>56.10</td>\n",
       "    </tr>\n",
       "    <tr>\n",
       "      <th>30</th>\n",
       "      <td>2015-12-31</td>\n",
       "      <td>59.10</td>\n",
       "    </tr>\n",
       "    <tr>\n",
       "      <th>31</th>\n",
       "      <td>2016-12-31</td>\n",
       "      <td>60.00</td>\n",
       "    </tr>\n",
       "    <tr>\n",
       "      <th>32</th>\n",
       "      <td>2017-12-31</td>\n",
       "      <td>59.30</td>\n",
       "    </tr>\n",
       "    <tr>\n",
       "      <th>33</th>\n",
       "      <td>2018-12-31</td>\n",
       "      <td>61.30</td>\n",
       "    </tr>\n",
       "    <tr>\n",
       "      <th>34</th>\n",
       "      <td>2019-12-31</td>\n",
       "      <td>56.90</td>\n",
       "    </tr>\n",
       "    <tr>\n",
       "      <th>35</th>\n",
       "      <td>2020-12-31</td>\n",
       "      <td>56.10</td>\n",
       "    </tr>\n",
       "  </tbody>\n",
       "</table>\n",
       "</div>"
      ],
      "text/plain": [
       "         fecha  rinde\n",
       "0   1985-12-31  60.46\n",
       "1   1986-12-31  61.52\n",
       "2   1987-12-31  55.77\n",
       "3   1988-12-31  61.69\n",
       "4   1989-12-31  57.13\n",
       "5   1990-12-31  59.84\n",
       "6   1991-12-31  60.56\n",
       "7   1992-12-31  54.04\n",
       "8   1993-12-31  58.81\n",
       "9   1994-12-31  61.83\n",
       "10  1995-12-31  64.37\n",
       "11  1996-12-31  60.43\n",
       "12  1997-12-31  56.21\n",
       "13  1998-12-31  61.39\n",
       "14  1999-12-31  53.18\n",
       "15  2000-12-31  65.27\n",
       "16  2001-12-31  61.80\n",
       "17  2002-12-31  61.65\n",
       "18  2003-12-31  61.10\n",
       "19  2004-12-31  57.50\n",
       "20  2005-12-31  56.80\n",
       "21  2006-12-31  57.80\n",
       "22  2007-12-31  58.30\n",
       "23  2008-12-31  58.90\n",
       "24  2009-12-31  53.10\n",
       "25  2010-12-31  56.70\n",
       "26  2011-12-31  55.00\n",
       "27  2012-12-31  53.90\n",
       "28  2013-12-31  53.90\n",
       "29  2014-12-31  56.10\n",
       "30  2015-12-31  59.10\n",
       "31  2016-12-31  60.00\n",
       "32  2017-12-31  59.30\n",
       "33  2018-12-31  61.30\n",
       "34  2019-12-31  56.90\n",
       "35  2020-12-31  56.10"
      ]
     },
     "execution_count": 2,
     "metadata": {},
     "output_type": "execute_result"
    }
   ],
   "source": [
    "datos = pd.read_csv('datos/lana_mirabueno_rinde.csv', sep=',')\n",
    "datos"
   ]
  },
  {
   "cell_type": "markdown",
   "id": "74cd8ec0",
   "metadata": {},
   "source": [
    "En resumen, el siguiente código convierte la columna `fecha` en el índice, elimina la columna original, renombra la columna `rinde` como `y`, convierte los datos a una frecuencia anual y finalmente ordena los datos por el índice. El resultado final es un DataFrame limpio y organizado que puede ser utilizado para análisis de series de tiempo. La función `datos.head()` muestra las primeras cinco filas del DataFrame resultante."
   ]
  },
  {
   "cell_type": "code",
   "execution_count": 3,
   "id": "ee3dd3d5",
   "metadata": {},
   "outputs": [
    {
     "data": {
      "text/html": [
       "<div>\n",
       "<style scoped>\n",
       "    .dataframe tbody tr th:only-of-type {\n",
       "        vertical-align: middle;\n",
       "    }\n",
       "\n",
       "    .dataframe tbody tr th {\n",
       "        vertical-align: top;\n",
       "    }\n",
       "\n",
       "    .dataframe thead th {\n",
       "        text-align: right;\n",
       "    }\n",
       "</style>\n",
       "<table border=\"1\" class=\"dataframe\">\n",
       "  <thead>\n",
       "    <tr style=\"text-align: right;\">\n",
       "      <th></th>\n",
       "      <th>y</th>\n",
       "    </tr>\n",
       "    <tr>\n",
       "      <th>fecha</th>\n",
       "      <th></th>\n",
       "    </tr>\n",
       "  </thead>\n",
       "  <tbody>\n",
       "    <tr>\n",
       "      <th>1985-12-31</th>\n",
       "      <td>60.46</td>\n",
       "    </tr>\n",
       "    <tr>\n",
       "      <th>1986-12-31</th>\n",
       "      <td>61.52</td>\n",
       "    </tr>\n",
       "    <tr>\n",
       "      <th>1987-12-31</th>\n",
       "      <td>55.77</td>\n",
       "    </tr>\n",
       "    <tr>\n",
       "      <th>1988-12-31</th>\n",
       "      <td>61.69</td>\n",
       "    </tr>\n",
       "    <tr>\n",
       "      <th>1989-12-31</th>\n",
       "      <td>57.13</td>\n",
       "    </tr>\n",
       "  </tbody>\n",
       "</table>\n",
       "</div>"
      ],
      "text/plain": [
       "                y\n",
       "fecha            \n",
       "1985-12-31  60.46\n",
       "1986-12-31  61.52\n",
       "1987-12-31  55.77\n",
       "1988-12-31  61.69\n",
       "1989-12-31  57.13"
      ]
     },
     "execution_count": 3,
     "metadata": {},
     "output_type": "execute_result"
    }
   ],
   "source": [
    "datos = datos.set_index(pd.to_datetime(datos['fecha'], format='%Y/%m/%d')).drop(columns=['fecha']).rename(columns={'rinde': 'y'}).asfreq('A').sort_index()\n",
    "datos.head()"
   ]
  },
  {
   "cell_type": "markdown",
   "id": "0650f93b",
   "metadata": {},
   "source": [
    "Las siguientes celdas utilizan las funciones max y min de Pandas para obtener el rango de valores del rinde."
   ]
  },
  {
   "cell_type": "code",
   "execution_count": 4,
   "id": "11f48ff6",
   "metadata": {},
   "outputs": [
    {
     "data": {
      "text/plain": [
       "65.27"
      ]
     },
     "execution_count": 4,
     "metadata": {},
     "output_type": "execute_result"
    }
   ],
   "source": [
    "datos['y'].max()"
   ]
  },
  {
   "cell_type": "code",
   "execution_count": 5,
   "id": "59d3c322",
   "metadata": {},
   "outputs": [
    {
     "data": {
      "text/plain": [
       "53.1"
      ]
     },
     "execution_count": 5,
     "metadata": {},
     "output_type": "execute_result"
    }
   ],
   "source": [
    "datos['y'].min()"
   ]
  },
  {
   "cell_type": "markdown",
   "id": "f853b4f4",
   "metadata": {},
   "source": [
    "El siguiente código verifica si el índice temporal del DataFrame (`datos`) está completo, es decir, si no faltan fechas entre la fecha mínima y la fecha máxima en el índice.\n",
    "\n",
    "Para hacerlo, se crea un rango de fechas (`pd.date_range()`) que va desde la fecha mínima hasta la fecha máxima del índice, con la misma frecuencia que tiene el índice (`datos.index.freq`). Luego, se compara si todas las fechas del índice (`datos.index`) están presentes en este rango de fechas creado. Si esto es verdadero para todas las fechas, entonces se puede decir que el índice temporal está completo."
   ]
  },
  {
   "cell_type": "code",
   "execution_count": 6,
   "id": "d619b8a1",
   "metadata": {},
   "outputs": [
    {
     "data": {
      "text/plain": [
       "True"
      ]
     },
     "execution_count": 6,
     "metadata": {},
     "output_type": "execute_result"
    }
   ],
   "source": [
    "(datos.index == pd.date_range(\n",
    "                    start = datos.index.min(),\n",
    "                    end   = datos.index.max(),\n",
    "                    freq  = datos.index.freq)\n",
    ").all()"
   ]
  },
  {
   "cell_type": "markdown",
   "id": "d3647446",
   "metadata": {},
   "source": [
    "El siguiente código divide los datos en conjuntos de entrenamiento y prueba para su posterior uso en el modelado y la evaluación. En particular, se utiliza el parámetro `steps` para indicar la cantidad de puntos de datos que se deben reservar para el conjunto de prueba. Luego, se crea el conjunto de entrenamiento `datos_train` seleccionando todos los puntos de datos menos los últimos steps y el conjunto de prueba `datos_test` seleccionando los últimos steps puntos de datos."
   ]
  },
  {
   "cell_type": "code",
   "execution_count": 7,
   "id": "8747bf39",
   "metadata": {},
   "outputs": [],
   "source": [
    "steps = 3\n",
    "datos_train = datos[:-steps]\n",
    "datos_test  = datos[-steps:]"
   ]
  },
  {
   "cell_type": "markdown",
   "id": "949ea379",
   "metadata": {},
   "source": [
    "La siguiente celda de código muestra un gráfico con los datos de entrenamiento y prueba. El eje x muestra las fechas en formato de años, con una separación de un año entre cada marca de tiempo. El eje y muestra el rinde de la lana.\n",
    "\n",
    "`YearLocator()` es una función de la librería matplotlib.dates que determina las posiciones de las marcas de tiempo en el eje x. En este caso, se utiliza para establecer las marcas de tiempo en años.\n",
    "\n",
    "`plt.style.use('ggplot')` se utiliza para aplicar el estilo 'ggplot' a la gráfica.\n",
    "\n",
    "`ax.plot()` se utiliza para trazar los datos de entrenamiento en la gráfica.\n",
    "\n",
    "`ax.scatter()` se utiliza para trazar los datos de prueba en la gráfica.\n",
    "\n",
    "`ax.set_xlabel()` y `ax.set_ylabel()` se utilizan para establecer las etiquetas de los ejes x e y, respectivamente.\n",
    "\n",
    "`ax.legend()` se utiliza para mostrar la leyenda de la gráfica.\n",
    "\n",
    "`ax.xaxis.set_major_locator()` se utiliza para establecer el separación de las marcas de tiempo en el eje x.\n",
    "\n",
    "`plt.xticks()` se utiliza para establecer la rotación y alineación de las marcas de tiempo en el eje x.\n",
    "\n",
    "`ax.xaxis.set_major_formatter()` se utiliza para establecer el formato de las marcas de tiempo en el eje x.\n",
    "\n",
    "Finalmente, se imprimen las fechas mínima y máxima de los conjuntos de entrenamiento y prueba junto con su longitud, utilizando `print()`."
   ]
  },
  {
   "cell_type": "code",
   "execution_count": 8,
   "id": "65df546f",
   "metadata": {},
   "outputs": [
    {
     "name": "stdout",
     "output_type": "stream",
     "text": [
      "Fechas train : 1985-12-31 00:00:00 --- 2017-12-31 00:00:00  (n=33)\n",
      "Fechas test  : 2018-12-31 00:00:00 --- 2020-12-31 00:00:00  (n=3)\n"
     ]
    },
    {
     "data": {
      "image/png": "[encoded data removed]",
      "text/plain": [
       "<Figure size 1152x648 with 1 Axes>"
      ]
     },
     "metadata": {},
     "output_type": "display_data"
    }
   ],
   "source": [
    "years = YearLocator()\n",
    "plt.style.use('ggplot')\n",
    "\n",
    "fig, ax = plt.subplots(figsize=(16, 9))\n",
    "ax.plot(datos_train.index, datos_train['y'], label='train')\n",
    "ax.scatter(datos_test.index, datos_test['y'], label='test')\n",
    "ax.set_xlabel('Fecha')\n",
    "ax.set_ylabel('Rinde')\n",
    "ax.legend()\n",
    "\n",
    "ax.xaxis.set_major_locator(years)\n",
    "plt.xticks(rotation=30, ha='right')\n",
    "ax.xaxis.set_major_formatter(plt.matplotlib.dates.DateFormatter('%Y'))\n",
    "\n",
    "print(f\"Fechas train : {datos_train.index.min()} --- {datos_train.index.max()}  (n={len(datos_train)})\")\n",
    "print(f\"Fechas test  : {datos_test.index.min()} --- {datos_test.index.max()}  (n={len(datos_test)})\")"
   ]
  },
  {
   "cell_type": "markdown",
   "id": "82106976",
   "metadata": {},
   "source": [
    "## Entrenar al modelo"
   ]
  },
  {
   "cell_type": "markdown",
   "id": "8d464ce2",
   "metadata": {},
   "source": [
    "Lo siguiente que hacemos es crear y entrenar un modelo de forecasting utilizando un `RandomForestRegressor` y la clase `ForecasterAutoreg` de la librería `skforecast`. Al establecer `random_state=123` en el modelo de `RandomForestRegressor`, se fija la semilla en 123 para la generación de los números aleatorios en el modelo, lo que permite que los resultados del modelo sean reproducibles. El modelo utiliza 24 lags (retrasos) como variables predictoras y se entrena con los datos de entrenamiento `datos_train`. Finalmente, se devuelve el modelo entrenado `forecaster`."
   ]
  },
  {
   "cell_type": "code",
   "execution_count": 9,
   "id": "5a8e355b",
   "metadata": {},
   "outputs": [
    {
     "data": {
      "text/plain": [
       "================= \n",
       "ForecasterAutoreg \n",
       "================= \n",
       "Regressor: RandomForestRegressor(random_state=123) \n",
       "Lags: [ 1  2  3  4  5  6  7  8  9 10 11 12 13 14 15 16 17 18 19 20 21 22 23 24] \n",
       "Transformer for y: None \n",
       "Transformer for exog: None \n",
       "Window size: 24 \n",
       "Included exogenous: False \n",
       "Type of exogenous variable: None \n",
       "Exogenous variables names: None \n",
       "Training range: [Timestamp('1985-12-31 00:00:00'), Timestamp('2017-12-31 00:00:00')] \n",
       "Training index type: DatetimeIndex \n",
       "Training index frequency: A-DEC \n",
       "Regressor parameters: {'bootstrap': True, 'ccp_alpha': 0.0, 'criterion': 'squared_error', 'max_depth': None, 'max_features': 1.0, 'max_leaf_nodes': None, 'max_samples': None, 'min_impurity_decrease': 0.0, 'min_samples_leaf': 1, 'min_samples_split': 2, 'min_weight_fraction_leaf': 0.0, 'n_estimators': 100, 'n_jobs': None, 'oob_score': False, 'random_state': 123, 'verbose': 0, 'warm_start': False} \n",
       "Creation date: 2023-04-19 09:15:09 \n",
       "Last fit date: 2023-04-19 09:15:09 \n",
       "Skforecast version: 0.5.1 \n",
       "Python version: 3.9.7 "
      ]
     },
     "execution_count": 9,
     "metadata": {},
     "output_type": "execute_result"
    }
   ],
   "source": [
    "forecaster = ForecasterAutoreg(\n",
    "                regressor = RandomForestRegressor(random_state=123),\n",
    "                lags = 24\n",
    "             )\n",
    "\n",
    "forecaster.fit(y=datos_train['y'])\n",
    "forecaster"
   ]
  },
  {
   "cell_type": "markdown",
   "id": "1936d7f9",
   "metadata": {},
   "source": [
    "A continuación se realizan predicciones de la serie temporal utilizando el modelo entrenado `forecaster` en la celda anterior. `steps` indica el número de periodos hacia adelante que se quieren predecir. El resultado es un array con las predicciones de la serie temporal."
   ]
  },
  {
   "cell_type": "code",
   "execution_count": 10,
   "id": "beb54fb9",
   "metadata": {},
   "outputs": [
    {
     "data": {
      "text/plain": [
       "2018-12-31    57.834\n",
       "2019-12-31    57.210\n",
       "2020-12-31    56.714\n",
       "Freq: A-DEC, Name: pred, dtype: float64"
      ]
     },
     "execution_count": 10,
     "metadata": {},
     "output_type": "execute_result"
    }
   ],
   "source": [
    "steps = 3\n",
    "predicciones = forecaster.predict(steps=steps)\n",
    "predicciones"
   ]
  },
  {
   "cell_type": "markdown",
   "id": "5cca153f",
   "metadata": {},
   "source": [
    "## Analizar resultados"
   ]
  },
  {
   "cell_type": "markdown",
   "id": "f1aa195e",
   "metadata": {},
   "source": [
    "En este caso, al utilizar un modelo de ForecasterAutoreg con RandomForestRegressor, se han elegido tres métricas para evaluar el modelo: MAE, MSE y RMSE. Se ha decidido no utilizar dos métricas que se venían utilizando previamente: R2 y Varianza explicada. Esto se debe a que el coeficiente de determinación (R2) es una medida común de la calidad de un modelo de regresión, pero puede no ser la medida más adecuada para evaluar un modelo de ForecasterAutoreg. En un modelo de predicción, el objetivo es predecir valores futuros y no ajustar los valores pasados. El R2 se basa en la comparación de los valores ajustados y observados en los datos de entrenamiento, lo que no es necesariamente una medida relevante para la capacidad del modelo para predecir valores futuros.\n",
    "\n",
    "La varianza explicada, por otro lado, es una medida que indica cuánto de la varianza total de los datos puede explicarse mediante el modelo. Esta medida es útil para evaluar la capacidad del modelo para explicar la variabilidad en los datos. Sin embargo, en el caso de un modelo de predicción, esta medida puede no ser relevante, ya que lo importante es la capacidad del modelo para predecir valores futuros. En resumen, se han elegido las métricas más adecuadas para evaluar el modelo de predicción en cuestión y se han dejado de lado aquellas que no son relevantes para este propósito."
   ]
  },
  {
   "cell_type": "markdown",
   "id": "18f25287",
   "metadata": {},
   "source": [
    "### Error medio absoluto"
   ]
  },
  {
   "cell_type": "markdown",
   "id": "eed6103d",
   "metadata": {},
   "source": [
    "*Error medio absoluto* (**MAE**): Es la media de las diferencias absolutas entre el valor objetivo y el predicho. Al no elevar al cuadrado, no penaliza los errores grandes, lo que la hace no muy sensible a valores anómalos, por lo que no es una métrica recomendable en modelos en los que se deba prestar atención a éstos. Mientras mas cercano a cero mejor. Dentro de sklearn el método es **mean_absolute_error**."
   ]
  },
  {
   "cell_type": "code",
   "execution_count": 11,
   "id": "bf47151d",
   "metadata": {},
   "outputs": [
    {
     "data": {
      "text/plain": [
       "'MAE: 1.46 rinde'"
      ]
     },
     "execution_count": 11,
     "metadata": {},
     "output_type": "execute_result"
    }
   ],
   "source": [
    "'MAE: {:.2f} rinde'.format(mean_absolute_error(datos_test['y'], predicciones))"
   ]
  },
  {
   "cell_type": "markdown",
   "id": "f6e19a17",
   "metadata": {},
   "source": [
    "*Interpretación:* El valor obtenido de 1.49 indica que, en promedio, las predicciones del modelo tienen un error absoluto medio de 1.49 en relación al valor real del rinde. Es decir, si tomamos cualquier predicción del modelo y la comparamos con el valor real correspondiente, en promedio la diferencia absoluta será de 1.49. En este caso, como el rango de valores del rinde va de 53.1 a 65.27, el MAE podría considerarse relativamente bueno en relación a la magnitud de los valores del rinde."
   ]
  },
  {
   "cell_type": "markdown",
   "id": "d147ae00",
   "metadata": {},
   "source": [
    "### Error cuadrático medio"
   ]
  },
  {
   "cell_type": "markdown",
   "id": "425e7c51",
   "metadata": {},
   "source": [
    "*Error cuadrático medio* (**MSE**): Es la media de las diferencias entre el valor objetivo y el predicho al cuadrado. Al elevar al cuadrado los errores, magnifica los errores grandes, por lo que hay que utilizarla con cuidado cuando tenemos valores anómalos en nuestro conjunto de datos. Mientras mas cercano a cero mejor. Dentro de sklearn el método es **mean_squared_error**."
   ]
  },
  {
   "cell_type": "code",
   "execution_count": 12,
   "id": "376d3126",
   "metadata": {},
   "outputs": [
    {
     "data": {
      "text/plain": [
       "'MSE: 4.16 rinde'"
      ]
     },
     "execution_count": 12,
     "metadata": {},
     "output_type": "execute_result"
    }
   ],
   "source": [
    "'MSE: {:.2f} rinde'.format(mean_squared_error(datos_test['y'], predicciones))"
   ]
  },
  {
   "cell_type": "markdown",
   "id": "bf7802cf",
   "metadata": {},
   "source": [
    "*Interpretación:* un MSE de 4.64 indica que, en promedio, el modelo se equivoca en esa cantidad al predecir el rinde de la lana. En otras palabras, la diferencia entre los valores predichos y los valores reales del rinde, al ser elevados al cuadrado y promediados, resulta en un valor de 4.64. Al ser una medida cuadrática, penaliza más los errores grandes que los errores pequeños. Por lo tanto, el valor de 4.64 indica que el modelo puede estar teniendo dificultades para predecir correctamente los valores extremos del rango de valores del rinde."
   ]
  },
  {
   "cell_type": "markdown",
   "id": "cf50689b",
   "metadata": {},
   "source": [
    "### Raíz cuadrada del MSE"
   ]
  },
  {
   "cell_type": "markdown",
   "id": "6ac9e5fb",
   "metadata": {},
   "source": [
    "*Raíz cuadrada de la media del error al cuadrado* (**RMSE**): Es igual a la raíz cuadrada de la métrica anterior. La ventaja de esta métrica es que presenta el error en las mismas unidades que la variable objetivo, lo que la hace más fácil de entender. Mientras mas cercano a cero mejor. Dentro de sklearn el método es **mean_squared_error** con `squared = False`. "
   ]
  },
  {
   "cell_type": "code",
   "execution_count": 13,
   "id": "3aac55bf",
   "metadata": {},
   "outputs": [
    {
     "data": {
      "text/plain": [
       "'RMSE: 2.04 rinde'"
      ]
     },
     "execution_count": 13,
     "metadata": {},
     "output_type": "execute_result"
    }
   ],
   "source": [
    "'RMSE: {:.2f} rinde'.format(mean_squared_error(datos_test['y'], predicciones, squared = False))"
   ]
  },
  {
   "cell_type": "markdown",
   "id": "492cea59",
   "metadata": {},
   "source": [
    "*Interpretación:* un valor de 2.15 indica que, en promedio, las predicciones del modelo se desvían en 2.15 unidades de la medida de la variable objetivo (en este caso, el rinde de la lana). En este caso, dado que el rango de valores del rinde va de 53.1 a 65.27, una desviación de 2.15 unidades podría considerarse aceptable. "
   ]
  },
  {
   "cell_type": "markdown",
   "id": "c3c2fa50",
   "metadata": {},
   "source": [
    "El siguiente código genera un gráfico que muestra la serie de tiempo de los datos de entrenamiento (`datos_train['y']`) y luego agrega dos puntos de datos adicionales en el gráfico. Estos son los datos de prueba (`datos_test['y']`) representados por puntos rojos y las predicciones (`predicciones.values`) representadas por otro conjunto de puntos de color azul."
   ]
  },
  {
   "cell_type": "code",
   "execution_count": 14,
   "id": "81ca43d5",
   "metadata": {},
   "outputs": [
    {
     "data": {
      "image/png": "[encoded data removed]",
      "text/plain": [
       "<Figure size 1152x648 with 1 Axes>"
      ]
     },
     "metadata": {},
     "output_type": "display_data"
    }
   ],
   "source": [
    "years = YearLocator()\n",
    "plt.style.use('ggplot')\n",
    "\n",
    "fig, ax = plt.subplots(figsize=(16, 9))\n",
    "ax.plot(datos_train.index, datos_train['y'], label='train')\n",
    "ax.scatter(datos_test.index, datos_test['y'], label='real')\n",
    "ax.scatter(predicciones.index, predicciones.values, label='predicción')\n",
    "ax.set_xlabel('Fecha')\n",
    "ax.set_ylabel('Rinde')\n",
    "ax.legend()\n",
    "ax.xaxis.set_major_locator(years)\n",
    "plt.xticks(rotation=30, ha='right')\n",
    "ax.xaxis.set_major_formatter(plt.matplotlib.dates.DateFormatter('%Y'))"
   ]
  },
  {
   "cell_type": "markdown",
   "id": "efa7a8f6",
   "metadata": {},
   "source": [
    "El gráfico muestra que en general las predicciones del rinde fueron bastante aceptables, ya que dos de ellas están muy cerca del valor real. Sin embargo, para el año 2019 el modelo tuvo dificultades para predecir el rinde. Se podría considerar que este valor es casi extremo, y como indicó el MSE, el modelo tiende a tener dificultades para predecir este tipo de valores."
   ]
  },
  {
   "cell_type": "markdown",
   "id": "98a4cba9",
   "metadata": {},
   "source": [
    "Finalmente guardamos el modelo para ser usado en la aplicación"
   ]
  },
  {
   "cell_type": "code",
   "execution_count": 15,
   "id": "f7ca4721",
   "metadata": {},
   "outputs": [],
   "source": [
    "save_pickle(forecaster,'modelos/modelo_prediccion_lana_rinde')"
   ]
  }
 ],
 "metadata": {
  "kernelspec": {
   "display_name": "Python 3 (ipykernel)",
   "language": "python",
   "name": "python3"
  },
  "language_info": {
   "codemirror_mode": {
    "name": "ipython",
    "version": 3
   },
   "file_extension": ".py",
   "mimetype": "text/x-python",
   "name": "python",
   "nbconvert_exporter": "python",
   "pygments_lexer": "ipython3",
   "version": "3.9.7"
  },
  "toc": {
   "base_numbering": 1,
   "nav_menu": {},
   "number_sections": true,
   "sideBar": true,
   "skip_h1_title": false,
   "title_cell": "Table of Contents",
   "title_sidebar": "Contents",
   "toc_cell": false,
   "toc_position": {},
   "toc_section_display": true,
   "toc_window_display": false
  }
 },
 "nbformat": 4,
 "nbformat_minor": 5
}
