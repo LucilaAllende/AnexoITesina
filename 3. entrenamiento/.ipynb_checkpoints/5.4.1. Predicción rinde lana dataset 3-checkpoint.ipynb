{
 "cells": [
  {
   "cell_type": "markdown",
   "id": "4ac59da2",
   "metadata": {
    "id": "4ac59da2"
   },
   "source": [
    "# Gráficos y métricas RM - Dataset 3"
   ]
  },
  {
   "cell_type": "code",
   "execution_count": 1,
   "id": "86f384d0",
   "metadata": {
    "executionInfo": {
     "elapsed": 560,
     "status": "ok",
     "timestamp": 1664390386570,
     "user": {
      "displayName": "Lucila Allende",
      "userId": "00372317538275967677"
     },
     "user_tz": 180
    },
    "id": "86f384d0"
   },
   "outputs": [],
   "source": [
    "import numpy as np\n",
    "import pandas as pd\n",
    "\n",
    "from statsmodels.iolib.smpickle import save_pickle\n",
    "\n",
    "from sklearn import linear_model\n",
    "from sklearn.compose import ColumnTransformer\n",
    "from sklearn.preprocessing import StandardScaler\n",
    "from sklearn.model_selection import train_test_split\n",
    "from sklearn.metrics import mean_squared_error, r2_score, explained_variance_score, mean_absolute_error\n",
    "\n",
    "from sklearn import datasets, metrics\n",
    "from sklearn.model_selection import train_test_split\n",
    "from sklearn.model_selection import cross_val_score\n",
    "from sklearn.model_selection import KFold\n",
    "\n",
    "import matplotlib.pyplot as plt\n",
    "from mpl_toolkits.mplot3d import Axes3D\n",
    "import seaborn as sns"
   ]
  },
  {
   "cell_type": "code",
   "execution_count": 9,
   "id": "c528a622",
   "metadata": {
    "colab": {
     "base_uri": "https://localhost:8080/",
     "height": 661
    },
    "executionInfo": {
     "elapsed": 373,
     "status": "ok",
     "timestamp": 1664388402662,
     "user": {
      "displayName": "Lucila Allende",
      "userId": "00372317538275967677"
     },
     "user_tz": 180
    },
    "id": "c528a622",
    "outputId": "ec7c6624-373c-43c1-bcc8-53a545776375"
   },
   "outputs": [
    {
     "data": {
      "text/html": [
       "<div>\n",
       "<style scoped>\n",
       "    .dataframe tbody tr th:only-of-type {\n",
       "        vertical-align: middle;\n",
       "    }\n",
       "\n",
       "    .dataframe tbody tr th {\n",
       "        vertical-align: top;\n",
       "    }\n",
       "\n",
       "    .dataframe thead th {\n",
       "        text-align: right;\n",
       "    }\n",
       "</style>\n",
       "<table border=\"1\" class=\"dataframe\">\n",
       "  <thead>\n",
       "    <tr style=\"text-align: right;\">\n",
       "      <th></th>\n",
       "      <th>fecha</th>\n",
       "      <th>provincia</th>\n",
       "      <th>departamento</th>\n",
       "      <th>carneros</th>\n",
       "      <th>ovejas</th>\n",
       "      <th>borregos</th>\n",
       "      <th>capones</th>\n",
       "      <th>corderos_corderas</th>\n",
       "      <th>total_ovinos</th>\n",
       "      <th>kilos_lana</th>\n",
       "      <th>finura</th>\n",
       "      <th>rinde</th>\n",
       "      <th>humedad</th>\n",
       "      <th>cant_lluvia</th>\n",
       "      <th>tem_max</th>\n",
       "      <th>temp_media</th>\n",
       "      <th>temp_min</th>\n",
       "    </tr>\n",
       "  </thead>\n",
       "  <tbody>\n",
       "    <tr>\n",
       "      <th>0</th>\n",
       "      <td>2012-12-31</td>\n",
       "      <td>CHUBUT</td>\n",
       "      <td>BIEDMA</td>\n",
       "      <td>2740</td>\n",
       "      <td>52320</td>\n",
       "      <td>22319</td>\n",
       "      <td>25489</td>\n",
       "      <td>29517</td>\n",
       "      <td>132385</td>\n",
       "      <td>478116.00</td>\n",
       "      <td>19.30</td>\n",
       "      <td>55.68</td>\n",
       "      <td>58.40</td>\n",
       "      <td>46.40</td>\n",
       "      <td>18.10</td>\n",
       "      <td>12.40</td>\n",
       "      <td>6.70</td>\n",
       "    </tr>\n",
       "    <tr>\n",
       "      <th>1</th>\n",
       "      <td>2013-12-31</td>\n",
       "      <td>CHUBUT</td>\n",
       "      <td>BIEDMA</td>\n",
       "      <td>3925</td>\n",
       "      <td>70677</td>\n",
       "      <td>27227</td>\n",
       "      <td>33389</td>\n",
       "      <td>36961</td>\n",
       "      <td>172179</td>\n",
       "      <td>544941.00</td>\n",
       "      <td>19.80</td>\n",
       "      <td>55.00</td>\n",
       "      <td>64.70</td>\n",
       "      <td>226.50</td>\n",
       "      <td>19.90</td>\n",
       "      <td>14.20</td>\n",
       "      <td>8.80</td>\n",
       "    </tr>\n",
       "    <tr>\n",
       "      <th>2</th>\n",
       "      <td>2014-12-31</td>\n",
       "      <td>CHUBUT</td>\n",
       "      <td>BIEDMA</td>\n",
       "      <td>3223</td>\n",
       "      <td>61195</td>\n",
       "      <td>29491</td>\n",
       "      <td>29688</td>\n",
       "      <td>34926</td>\n",
       "      <td>158523</td>\n",
       "      <td>513951.00</td>\n",
       "      <td>19.22</td>\n",
       "      <td>58.86</td>\n",
       "      <td>60.50</td>\n",
       "      <td>331.30</td>\n",
       "      <td>20.60</td>\n",
       "      <td>14.70</td>\n",
       "      <td>9.20</td>\n",
       "    </tr>\n",
       "    <tr>\n",
       "      <th>3</th>\n",
       "      <td>2015-12-31</td>\n",
       "      <td>CHUBUT</td>\n",
       "      <td>BIEDMA</td>\n",
       "      <td>3885</td>\n",
       "      <td>67528</td>\n",
       "      <td>28319</td>\n",
       "      <td>33296</td>\n",
       "      <td>38117</td>\n",
       "      <td>171145</td>\n",
       "      <td>540818.20</td>\n",
       "      <td>19.32</td>\n",
       "      <td>58.36</td>\n",
       "      <td>58.70</td>\n",
       "      <td>114.20</td>\n",
       "      <td>22.20</td>\n",
       "      <td>15.80</td>\n",
       "      <td>10.20</td>\n",
       "    </tr>\n",
       "    <tr>\n",
       "      <th>4</th>\n",
       "      <td>2016-12-31</td>\n",
       "      <td>CHUBUT</td>\n",
       "      <td>BIEDMA</td>\n",
       "      <td>3743</td>\n",
       "      <td>70451</td>\n",
       "      <td>30050</td>\n",
       "      <td>33038</td>\n",
       "      <td>37923</td>\n",
       "      <td>175205</td>\n",
       "      <td>606209.30</td>\n",
       "      <td>19.29</td>\n",
       "      <td>57.35</td>\n",
       "      <td>57.50</td>\n",
       "      <td>88.90</td>\n",
       "      <td>25.20</td>\n",
       "      <td>18.60</td>\n",
       "      <td>12.90</td>\n",
       "    </tr>\n",
       "    <tr>\n",
       "      <th>...</th>\n",
       "      <td>...</td>\n",
       "      <td>...</td>\n",
       "      <td>...</td>\n",
       "      <td>...</td>\n",
       "      <td>...</td>\n",
       "      <td>...</td>\n",
       "      <td>...</td>\n",
       "      <td>...</td>\n",
       "      <td>...</td>\n",
       "      <td>...</td>\n",
       "      <td>...</td>\n",
       "      <td>...</td>\n",
       "      <td>...</td>\n",
       "      <td>...</td>\n",
       "      <td>...</td>\n",
       "      <td>...</td>\n",
       "      <td>...</td>\n",
       "    </tr>\n",
       "    <tr>\n",
       "      <th>159</th>\n",
       "      <td>2016-12-31</td>\n",
       "      <td>CHUBUT</td>\n",
       "      <td>TELSEN</td>\n",
       "      <td>4711</td>\n",
       "      <td>74125</td>\n",
       "      <td>28715</td>\n",
       "      <td>31728</td>\n",
       "      <td>31883</td>\n",
       "      <td>171162</td>\n",
       "      <td>665820.18</td>\n",
       "      <td>19.97</td>\n",
       "      <td>53.52</td>\n",
       "      <td>50.80</td>\n",
       "      <td>273.33</td>\n",
       "      <td>17.47</td>\n",
       "      <td>11.57</td>\n",
       "      <td>5.77</td>\n",
       "    </tr>\n",
       "    <tr>\n",
       "      <th>160</th>\n",
       "      <td>2017-12-31</td>\n",
       "      <td>CHUBUT</td>\n",
       "      <td>TELSEN</td>\n",
       "      <td>4496</td>\n",
       "      <td>71149</td>\n",
       "      <td>27574</td>\n",
       "      <td>28606</td>\n",
       "      <td>31987</td>\n",
       "      <td>163812</td>\n",
       "      <td>617571.24</td>\n",
       "      <td>20.00</td>\n",
       "      <td>52.95</td>\n",
       "      <td>47.17</td>\n",
       "      <td>220.03</td>\n",
       "      <td>16.60</td>\n",
       "      <td>10.93</td>\n",
       "      <td>5.03</td>\n",
       "    </tr>\n",
       "    <tr>\n",
       "      <th>161</th>\n",
       "      <td>2018-12-31</td>\n",
       "      <td>CHUBUT</td>\n",
       "      <td>TELSEN</td>\n",
       "      <td>4634</td>\n",
       "      <td>74179</td>\n",
       "      <td>28793</td>\n",
       "      <td>35979</td>\n",
       "      <td>28221</td>\n",
       "      <td>171806</td>\n",
       "      <td>627091.90</td>\n",
       "      <td>19.81</td>\n",
       "      <td>52.41</td>\n",
       "      <td>47.93</td>\n",
       "      <td>201.40</td>\n",
       "      <td>17.63</td>\n",
       "      <td>11.33</td>\n",
       "      <td>5.03</td>\n",
       "    </tr>\n",
       "    <tr>\n",
       "      <th>162</th>\n",
       "      <td>2019-12-31</td>\n",
       "      <td>CHUBUT</td>\n",
       "      <td>TELSEN</td>\n",
       "      <td>4305</td>\n",
       "      <td>72515</td>\n",
       "      <td>27648</td>\n",
       "      <td>35273</td>\n",
       "      <td>29417</td>\n",
       "      <td>169158</td>\n",
       "      <td>622501.44</td>\n",
       "      <td>19.87</td>\n",
       "      <td>53.99</td>\n",
       "      <td>47.57</td>\n",
       "      <td>119.47</td>\n",
       "      <td>17.53</td>\n",
       "      <td>11.17</td>\n",
       "      <td>4.83</td>\n",
       "    </tr>\n",
       "    <tr>\n",
       "      <th>163</th>\n",
       "      <td>2020-12-31</td>\n",
       "      <td>CHUBUT</td>\n",
       "      <td>TELSEN</td>\n",
       "      <td>4416</td>\n",
       "      <td>70736</td>\n",
       "      <td>27084</td>\n",
       "      <td>31418</td>\n",
       "      <td>30062</td>\n",
       "      <td>163716</td>\n",
       "      <td>620483.64</td>\n",
       "      <td>19.84</td>\n",
       "      <td>52.71</td>\n",
       "      <td>46.63</td>\n",
       "      <td>101.47</td>\n",
       "      <td>16.60</td>\n",
       "      <td>10.60</td>\n",
       "      <td>4.63</td>\n",
       "    </tr>\n",
       "  </tbody>\n",
       "</table>\n",
       "<p>164 rows × 17 columns</p>\n",
       "</div>"
      ],
      "text/plain": [
       "          fecha provincia departamento  carneros  ovejas  borregos  capones  \\\n",
       "0    2012-12-31    CHUBUT       BIEDMA      2740   52320     22319    25489   \n",
       "1    2013-12-31    CHUBUT       BIEDMA      3925   70677     27227    33389   \n",
       "2    2014-12-31    CHUBUT       BIEDMA      3223   61195     29491    29688   \n",
       "3    2015-12-31    CHUBUT       BIEDMA      3885   67528     28319    33296   \n",
       "4    2016-12-31    CHUBUT       BIEDMA      3743   70451     30050    33038   \n",
       "..          ...       ...          ...       ...     ...       ...      ...   \n",
       "159  2016-12-31    CHUBUT       TELSEN      4711   74125     28715    31728   \n",
       "160  2017-12-31    CHUBUT       TELSEN      4496   71149     27574    28606   \n",
       "161  2018-12-31    CHUBUT       TELSEN      4634   74179     28793    35979   \n",
       "162  2019-12-31    CHUBUT       TELSEN      4305   72515     27648    35273   \n",
       "163  2020-12-31    CHUBUT       TELSEN      4416   70736     27084    31418   \n",
       "\n",
       "     corderos_corderas  total_ovinos  kilos_lana  finura  rinde  humedad  \\\n",
       "0                29517        132385   478116.00   19.30  55.68    58.40   \n",
       "1                36961        172179   544941.00   19.80  55.00    64.70   \n",
       "2                34926        158523   513951.00   19.22  58.86    60.50   \n",
       "3                38117        171145   540818.20   19.32  58.36    58.70   \n",
       "4                37923        175205   606209.30   19.29  57.35    57.50   \n",
       "..                 ...           ...         ...     ...    ...      ...   \n",
       "159              31883        171162   665820.18   19.97  53.52    50.80   \n",
       "160              31987        163812   617571.24   20.00  52.95    47.17   \n",
       "161              28221        171806   627091.90   19.81  52.41    47.93   \n",
       "162              29417        169158   622501.44   19.87  53.99    47.57   \n",
       "163              30062        163716   620483.64   19.84  52.71    46.63   \n",
       "\n",
       "     cant_lluvia  tem_max  temp_media  temp_min  \n",
       "0          46.40    18.10       12.40      6.70  \n",
       "1         226.50    19.90       14.20      8.80  \n",
       "2         331.30    20.60       14.70      9.20  \n",
       "3         114.20    22.20       15.80     10.20  \n",
       "4          88.90    25.20       18.60     12.90  \n",
       "..           ...      ...         ...       ...  \n",
       "159       273.33    17.47       11.57      5.77  \n",
       "160       220.03    16.60       10.93      5.03  \n",
       "161       201.40    17.63       11.33      5.03  \n",
       "162       119.47    17.53       11.17      4.83  \n",
       "163       101.47    16.60       10.60      4.63  \n",
       "\n",
       "[164 rows x 17 columns]"
      ]
     },
     "execution_count": 9,
     "metadata": {},
     "output_type": "execute_result"
    }
   ],
   "source": [
    "dataset = pd.read_csv(\"../datos_analisis/dataset_produccion_clima_chubut_actualizado.csv\")\n",
    "dataset"
   ]
  },
  {
   "cell_type": "markdown",
   "id": "1e73ed89",
   "metadata": {
    "id": "1e73ed89"
   },
   "source": [
    "## Primera Predicción: Lana"
   ]
  },
  {
   "cell_type": "markdown",
   "id": "82f64df1",
   "metadata": {
    "id": "82f64df1"
   },
   "source": [
    "Variables independientes: \n",
    "- Cantidad total de lluvia acumulada de cada año (mm)\n",
    "- Cantidad total de ovinos de cada año (animales)\n",
    "\n",
    "Variables dependientes:\n",
    "- Kilos de lana producidos"
   ]
  },
  {
   "cell_type": "markdown",
   "id": "f16e3b1a",
   "metadata": {},
   "source": [
    "Primero, estandarizamos el dataset. En este caso los datos respecto a la lluvia, ovinos y lana. "
   ]
  },
  {
   "cell_type": "code",
   "execution_count": 10,
   "id": "160d8e71",
   "metadata": {
    "executionInfo": {
     "elapsed": 312,
     "status": "ok",
     "timestamp": 1664387830579,
     "user": {
      "displayName": "Lucila Allende",
      "userId": "00372317538275967677"
     },
     "user_tz": 180
    },
    "id": "160d8e71"
   },
   "outputs": [
    {
     "ename": "KeyError",
     "evalue": "\"['temp_max'] not in index\"",
     "output_type": "error",
     "traceback": [
      "\u001b[0;31m---------------------------------------------------------------------------\u001b[0m",
      "\u001b[0;31mKeyError\u001b[0m                                  Traceback (most recent call last)",
      "\u001b[0;32m/tmp/ipykernel_19419/1105396987.py\u001b[0m in \u001b[0;36m<module>\u001b[0;34m\u001b[0m\n\u001b[0;32m----> 1\u001b[0;31m \u001b[0mX_primera_prediccion\u001b[0m \u001b[0;34m=\u001b[0m \u001b[0mdataset\u001b[0m\u001b[0;34m[\u001b[0m\u001b[0;34m[\u001b[0m\u001b[0;34m\"cant_lluvia\"\u001b[0m\u001b[0;34m,\u001b[0m \u001b[0;34m\"temp_min\"\u001b[0m\u001b[0;34m,\u001b[0m \u001b[0;34m\"temp_max\"\u001b[0m\u001b[0;34m,\u001b[0m \u001b[0;34m\"humedad\"\u001b[0m\u001b[0;34m]\u001b[0m\u001b[0;34m]\u001b[0m\u001b[0;34m\u001b[0m\u001b[0;34m\u001b[0m\u001b[0m\n\u001b[0m\u001b[1;32m      2\u001b[0m \u001b[0my_primera_prediccion\u001b[0m \u001b[0;34m=\u001b[0m \u001b[0mdataset\u001b[0m\u001b[0;34m[\u001b[0m\u001b[0;34m[\u001b[0m\u001b[0;34m'rinde'\u001b[0m\u001b[0;34m]\u001b[0m\u001b[0;34m]\u001b[0m\u001b[0;34m\u001b[0m\u001b[0;34m\u001b[0m\u001b[0m\n",
      "\u001b[0;32m~/anaconda3/lib/python3.9/site-packages/pandas/core/frame.py\u001b[0m in \u001b[0;36m__getitem__\u001b[0;34m(self, key)\u001b[0m\n\u001b[1;32m   3462\u001b[0m             \u001b[0;32mif\u001b[0m \u001b[0mis_iterator\u001b[0m\u001b[0;34m(\u001b[0m\u001b[0mkey\u001b[0m\u001b[0;34m)\u001b[0m\u001b[0;34m:\u001b[0m\u001b[0;34m\u001b[0m\u001b[0;34m\u001b[0m\u001b[0m\n\u001b[1;32m   3463\u001b[0m                 \u001b[0mkey\u001b[0m \u001b[0;34m=\u001b[0m \u001b[0mlist\u001b[0m\u001b[0;34m(\u001b[0m\u001b[0mkey\u001b[0m\u001b[0;34m)\u001b[0m\u001b[0;34m\u001b[0m\u001b[0;34m\u001b[0m\u001b[0m\n\u001b[0;32m-> 3464\u001b[0;31m             \u001b[0mindexer\u001b[0m \u001b[0;34m=\u001b[0m \u001b[0mself\u001b[0m\u001b[0;34m.\u001b[0m\u001b[0mloc\u001b[0m\u001b[0;34m.\u001b[0m\u001b[0m_get_listlike_indexer\u001b[0m\u001b[0;34m(\u001b[0m\u001b[0mkey\u001b[0m\u001b[0;34m,\u001b[0m \u001b[0maxis\u001b[0m\u001b[0;34m=\u001b[0m\u001b[0;36m1\u001b[0m\u001b[0;34m)\u001b[0m\u001b[0;34m[\u001b[0m\u001b[0;36m1\u001b[0m\u001b[0;34m]\u001b[0m\u001b[0;34m\u001b[0m\u001b[0;34m\u001b[0m\u001b[0m\n\u001b[0m\u001b[1;32m   3465\u001b[0m \u001b[0;34m\u001b[0m\u001b[0m\n\u001b[1;32m   3466\u001b[0m         \u001b[0;31m# take() does not accept boolean indexers\u001b[0m\u001b[0;34m\u001b[0m\u001b[0;34m\u001b[0m\u001b[0m\n",
      "\u001b[0;32m~/anaconda3/lib/python3.9/site-packages/pandas/core/indexing.py\u001b[0m in \u001b[0;36m_get_listlike_indexer\u001b[0;34m(self, key, axis)\u001b[0m\n\u001b[1;32m   1312\u001b[0m             \u001b[0mkeyarr\u001b[0m\u001b[0;34m,\u001b[0m \u001b[0mindexer\u001b[0m\u001b[0;34m,\u001b[0m \u001b[0mnew_indexer\u001b[0m \u001b[0;34m=\u001b[0m \u001b[0max\u001b[0m\u001b[0;34m.\u001b[0m\u001b[0m_reindex_non_unique\u001b[0m\u001b[0;34m(\u001b[0m\u001b[0mkeyarr\u001b[0m\u001b[0;34m)\u001b[0m\u001b[0;34m\u001b[0m\u001b[0;34m\u001b[0m\u001b[0m\n\u001b[1;32m   1313\u001b[0m \u001b[0;34m\u001b[0m\u001b[0m\n\u001b[0;32m-> 1314\u001b[0;31m         \u001b[0mself\u001b[0m\u001b[0;34m.\u001b[0m\u001b[0m_validate_read_indexer\u001b[0m\u001b[0;34m(\u001b[0m\u001b[0mkeyarr\u001b[0m\u001b[0;34m,\u001b[0m \u001b[0mindexer\u001b[0m\u001b[0;34m,\u001b[0m \u001b[0maxis\u001b[0m\u001b[0;34m)\u001b[0m\u001b[0;34m\u001b[0m\u001b[0;34m\u001b[0m\u001b[0m\n\u001b[0m\u001b[1;32m   1315\u001b[0m \u001b[0;34m\u001b[0m\u001b[0m\n\u001b[1;32m   1316\u001b[0m         if needs_i8_conversion(ax.dtype) or isinstance(\n",
      "\u001b[0;32m~/anaconda3/lib/python3.9/site-packages/pandas/core/indexing.py\u001b[0m in \u001b[0;36m_validate_read_indexer\u001b[0;34m(self, key, indexer, axis)\u001b[0m\n\u001b[1;32m   1375\u001b[0m \u001b[0;34m\u001b[0m\u001b[0m\n\u001b[1;32m   1376\u001b[0m             \u001b[0mnot_found\u001b[0m \u001b[0;34m=\u001b[0m \u001b[0mlist\u001b[0m\u001b[0;34m(\u001b[0m\u001b[0mensure_index\u001b[0m\u001b[0;34m(\u001b[0m\u001b[0mkey\u001b[0m\u001b[0;34m)\u001b[0m\u001b[0;34m[\u001b[0m\u001b[0mmissing_mask\u001b[0m\u001b[0;34m.\u001b[0m\u001b[0mnonzero\u001b[0m\u001b[0;34m(\u001b[0m\u001b[0;34m)\u001b[0m\u001b[0;34m[\u001b[0m\u001b[0;36m0\u001b[0m\u001b[0;34m]\u001b[0m\u001b[0;34m]\u001b[0m\u001b[0;34m.\u001b[0m\u001b[0munique\u001b[0m\u001b[0;34m(\u001b[0m\u001b[0;34m)\u001b[0m\u001b[0;34m)\u001b[0m\u001b[0;34m\u001b[0m\u001b[0;34m\u001b[0m\u001b[0m\n\u001b[0;32m-> 1377\u001b[0;31m             \u001b[0;32mraise\u001b[0m \u001b[0mKeyError\u001b[0m\u001b[0;34m(\u001b[0m\u001b[0;34mf\"{not_found} not in index\"\u001b[0m\u001b[0;34m)\u001b[0m\u001b[0;34m\u001b[0m\u001b[0;34m\u001b[0m\u001b[0m\n\u001b[0m\u001b[1;32m   1378\u001b[0m \u001b[0;34m\u001b[0m\u001b[0m\n\u001b[1;32m   1379\u001b[0m \u001b[0;34m\u001b[0m\u001b[0m\n",
      "\u001b[0;31mKeyError\u001b[0m: \"['temp_max'] not in index\""
     ]
    }
   ],
   "source": [
    "X_primera_prediccion = dataset[[\"cant_lluvia\", \"temp_min\", \"temp_max\", \"humedad\"]]\n",
    "y_primera_prediccion = dataset[['rinde']]"
   ]
  },
  {
   "cell_type": "markdown",
   "id": "f30fa3c5",
   "metadata": {},
   "source": [
    "Luego sobre esos datos estandarizados armamos el conjunto de entrenamiento y prueba para entrenar el modelo que nos servira para hacer las predicciones."
   ]
  },
  {
   "cell_type": "code",
   "execution_count": 11,
   "id": "cd9228d7",
   "metadata": {},
   "outputs": [
    {
     "ename": "NameError",
     "evalue": "name 'X_primera_prediccion' is not defined",
     "output_type": "error",
     "traceback": [
      "\u001b[0;31m---------------------------------------------------------------------------\u001b[0m",
      "\u001b[0;31mNameError\u001b[0m                                 Traceback (most recent call last)",
      "\u001b[0;32m/tmp/ipykernel_19419/1981872004.py\u001b[0m in \u001b[0;36m<module>\u001b[0;34m\u001b[0m\n\u001b[1;32m      1\u001b[0m X_train, X_test, y_train, y_test = train_test_split(\n\u001b[0;32m----> 2\u001b[0;31m                                                 \u001b[0mX_primera_prediccion\u001b[0m\u001b[0;34m,\u001b[0m\u001b[0;34m\u001b[0m\u001b[0;34m\u001b[0m\u001b[0m\n\u001b[0m\u001b[1;32m      3\u001b[0m                                                 \u001b[0my_primera_prediccion\u001b[0m\u001b[0;34m,\u001b[0m\u001b[0;34m\u001b[0m\u001b[0;34m\u001b[0m\u001b[0m\n\u001b[1;32m      4\u001b[0m                                                 \u001b[0mtest_size\u001b[0m\u001b[0;34m=\u001b[0m\u001b[0;36m0.20\u001b[0m\u001b[0;34m,\u001b[0m\u001b[0;34m\u001b[0m\u001b[0;34m\u001b[0m\u001b[0m\n\u001b[1;32m      5\u001b[0m                                                 \u001b[0mrandom_state\u001b[0m\u001b[0;34m=\u001b[0m\u001b[0;36m0\u001b[0m\u001b[0;34m\u001b[0m\u001b[0;34m\u001b[0m\u001b[0m\n",
      "\u001b[0;31mNameError\u001b[0m: name 'X_primera_prediccion' is not defined"
     ]
    }
   ],
   "source": [
    "X_train, X_test, y_train, y_test = train_test_split(\n",
    "                                                X_primera_prediccion, \n",
    "                                                y_primera_prediccion, \n",
    "                                                test_size=0.20,\n",
    "                                                random_state=0\n",
    "                                            )"
   ]
  },
  {
   "cell_type": "markdown",
   "id": "7ac1182f",
   "metadata": {},
   "source": [
    "Con K-Folds de 5 splits para entrenar, en vez de pasarle todos los registros directamente al modelo, haremos así:\n",
    "    - Iterar 5 veces:\n",
    "        - Apartaremos 1/5 de muestras, es decir 26.\n",
    "        - Entrenamos al modelo con el restante 4/5 de muestras = 106.\n",
    "        - Mediremos el score obtenido sobre las 26 que habíamos apartado.\n",
    "    - Esto quiere decir que hacemos 5 entrenamientos independientes.\n",
    "    - El score final será el promedio de los 5 scores anteriores."
   ]
  },
  {
   "cell_type": "code",
   "execution_count": 12,
   "id": "d823c24e",
   "metadata": {},
   "outputs": [],
   "source": [
    "kf = KFold(n_splits=5)"
   ]
  },
  {
   "cell_type": "markdown",
   "id": "9098584e",
   "metadata": {},
   "source": [
    "Al cabo de esas 5 iteraciones, obtenemos 5 score que deberían ser “similares” entre sí, esto sería un **indicador de que el modelo está funcionando bien.** Lo siguiente es crear el modelo y entrenarlo"
   ]
  },
  {
   "cell_type": "code",
   "execution_count": 13,
   "id": "aa54c830",
   "metadata": {
    "executionInfo": {
     "elapsed": 292,
     "status": "ok",
     "timestamp": 1664387837529,
     "user": {
      "displayName": "Lucila Allende",
      "userId": "00372317538275967677"
     },
     "user_tz": 180
    },
    "id": "aa54c830"
   },
   "outputs": [],
   "source": [
    "model_lana = linear_model.LinearRegression()"
   ]
  },
  {
   "cell_type": "code",
   "execution_count": 14,
   "id": "3d8a9a0b",
   "metadata": {
    "colab": {
     "base_uri": "https://localhost:8080/"
    },
    "executionInfo": {
     "elapsed": 7,
     "status": "ok",
     "timestamp": 1664387839044,
     "user": {
      "displayName": "Lucila Allende",
      "userId": "00372317538275967677"
     },
     "user_tz": 180
    },
    "id": "3d8a9a0b",
    "outputId": "dd45eff3-6abf-4b7e-9e39-f0f81e6f2c53"
   },
   "outputs": [
    {
     "ename": "NameError",
     "evalue": "name 'X_train' is not defined",
     "output_type": "error",
     "traceback": [
      "\u001b[0;31m---------------------------------------------------------------------------\u001b[0m",
      "\u001b[0;31mNameError\u001b[0m                                 Traceback (most recent call last)",
      "\u001b[0;32m/tmp/ipykernel_19419/1037435904.py\u001b[0m in \u001b[0;36m<module>\u001b[0;34m\u001b[0m\n\u001b[0;32m----> 1\u001b[0;31m \u001b[0mmodel_lana\u001b[0m\u001b[0;34m.\u001b[0m\u001b[0mfit\u001b[0m\u001b[0;34m(\u001b[0m\u001b[0mX_train\u001b[0m\u001b[0;34m,\u001b[0m \u001b[0my_train\u001b[0m\u001b[0;34m)\u001b[0m\u001b[0;34m\u001b[0m\u001b[0;34m\u001b[0m\u001b[0m\n\u001b[0m",
      "\u001b[0;31mNameError\u001b[0m: name 'X_train' is not defined"
     ]
    }
   ],
   "source": [
    "model_lana.fit(X_train, y_train)"
   ]
  },
  {
   "cell_type": "markdown",
   "id": "67e88c62",
   "metadata": {},
   "source": [
    "Comparamos los resultados obtenidos en el modelo inicial (entrenamiento) y en el cross validation. **Vemos que son similares.**"
   ]
  },
  {
   "cell_type": "code",
   "execution_count": 15,
   "id": "07196efc",
   "metadata": {},
   "outputs": [
    {
     "ename": "NameError",
     "evalue": "name 'X_train' is not defined",
     "output_type": "error",
     "traceback": [
      "\u001b[0;31m---------------------------------------------------------------------------\u001b[0m",
      "\u001b[0;31mNameError\u001b[0m                                 Traceback (most recent call last)",
      "\u001b[0;32m/tmp/ipykernel_19419/2178715444.py\u001b[0m in \u001b[0;36m<module>\u001b[0;34m\u001b[0m\n\u001b[0;32m----> 1\u001b[0;31m \u001b[0mscore\u001b[0m \u001b[0;34m=\u001b[0m \u001b[0mmodel_lana\u001b[0m\u001b[0;34m.\u001b[0m\u001b[0mscore\u001b[0m\u001b[0;34m(\u001b[0m\u001b[0mX_train\u001b[0m\u001b[0;34m,\u001b[0m\u001b[0my_train\u001b[0m\u001b[0;34m)\u001b[0m\u001b[0;34m\u001b[0m\u001b[0;34m\u001b[0m\u001b[0m\n\u001b[0m\u001b[1;32m      2\u001b[0m \u001b[0mprint\u001b[0m\u001b[0;34m(\u001b[0m\u001b[0;34m\"Metrica del modelo\"\u001b[0m\u001b[0;34m,\u001b[0m \u001b[0mscore\u001b[0m\u001b[0;34m)\u001b[0m\u001b[0;34m\u001b[0m\u001b[0;34m\u001b[0m\u001b[0m\n",
      "\u001b[0;31mNameError\u001b[0m: name 'X_train' is not defined"
     ]
    }
   ],
   "source": [
    "score = model_lana.score(X_train,y_train)\n",
    "print(\"Metrica del modelo\", score)"
   ]
  },
  {
   "cell_type": "code",
   "execution_count": null,
   "id": "ac44c222",
   "metadata": {},
   "outputs": [],
   "source": [
    "scores = cross_val_score(model_lana, X_train, y_train, cv=kf)\n",
    "print(\"Metricas cross_validation\", scores)"
   ]
  },
  {
   "cell_type": "code",
   "execution_count": null,
   "id": "4de5cf91",
   "metadata": {},
   "outputs": [],
   "source": [
    "print(\"Media de cross_validation\", scores.mean())"
   ]
  },
  {
   "cell_type": "markdown",
   "id": "bc39860b",
   "metadata": {},
   "source": [
    "Finalmente hacemos predict sobre el Conjunto de Test y veremos que también obtenemos **buen score**."
   ]
  },
  {
   "cell_type": "code",
   "execution_count": 16,
   "id": "34ed815d",
   "metadata": {
    "executionInfo": {
     "elapsed": 335,
     "status": "ok",
     "timestamp": 1664387842215,
     "user": {
      "displayName": "Lucila Allende",
      "userId": "00372317538275967677"
     },
     "user_tz": 180
    },
    "id": "34ed815d"
   },
   "outputs": [
    {
     "ename": "NameError",
     "evalue": "name 'X_test' is not defined",
     "output_type": "error",
     "traceback": [
      "\u001b[0;31m---------------------------------------------------------------------------\u001b[0m",
      "\u001b[0;31mNameError\u001b[0m                                 Traceback (most recent call last)",
      "\u001b[0;32m/tmp/ipykernel_19419/2193850327.py\u001b[0m in \u001b[0;36m<module>\u001b[0;34m\u001b[0m\n\u001b[0;32m----> 1\u001b[0;31m \u001b[0mpred_model_lana\u001b[0m \u001b[0;34m=\u001b[0m \u001b[0mmodel_lana\u001b[0m\u001b[0;34m.\u001b[0m\u001b[0mpredict\u001b[0m\u001b[0;34m(\u001b[0m\u001b[0mX_test\u001b[0m\u001b[0;34m)\u001b[0m\u001b[0;34m\u001b[0m\u001b[0;34m\u001b[0m\u001b[0m\n\u001b[0m",
      "\u001b[0;31mNameError\u001b[0m: name 'X_test' is not defined"
     ]
    }
   ],
   "source": [
    "pred_model_lana = model_lana.predict(X_test)"
   ]
  },
  {
   "cell_type": "code",
   "execution_count": null,
   "id": "dc75f1ff",
   "metadata": {},
   "outputs": [],
   "source": [
    "score_pred = r2_score(y_test, pred_model_lana)\n",
    "print(\"Metrica en Test\", score_pred)"
   ]
  },
  {
   "cell_type": "markdown",
   "id": "d6c213de",
   "metadata": {
    "id": "d6c213de"
   },
   "source": [
    "### Métricas"
   ]
  },
  {
   "cell_type": "markdown",
   "id": "5e199050",
   "metadata": {
    "id": "5e199050"
   },
   "source": [
    "#### Score"
   ]
  },
  {
   "cell_type": "markdown",
   "id": "7b3d1461",
   "metadata": {
    "id": "7b3d1461"
   },
   "source": [
    "*Score*: Todos los algoritmos incluyen un método \"score\" que provee el resultado de un criterio de evaluación por defecto para aquel problema al que están orientados. De esta manera, el método score de un modelo de clasificación basado en árbol de decisión, devuelve la precisión del modelo, entendida como el porcentaje de valores clasificados correctamente con respecto al total de elementos. O una regresión lineal devuelve el coeficiente de determinación, o R2, entendida como el porcentaje de la variancia de la variable dependiente que es predecible a partir de la variable independiente."
   ]
  },
  {
   "cell_type": "code",
   "execution_count": 17,
   "id": "773f9f35",
   "metadata": {
    "colab": {
     "base_uri": "https://localhost:8080/"
    },
    "executionInfo": {
     "elapsed": 398,
     "status": "ok",
     "timestamp": 1664367122879,
     "user": {
      "displayName": "Lucila Allende",
      "userId": "00372317538275967677"
     },
     "user_tz": 180
    },
    "id": "773f9f35",
    "outputId": "941d1994-3578-4eb5-a238-e3b0c096d16a"
   },
   "outputs": [
    {
     "name": "stdout",
     "output_type": "stream",
     "text": [
      "Exactitud del modelo en entrenamiento:\n"
     ]
    },
    {
     "ename": "NameError",
     "evalue": "name 'X_train' is not defined",
     "output_type": "error",
     "traceback": [
      "\u001b[0;31m---------------------------------------------------------------------------\u001b[0m",
      "\u001b[0;31mNameError\u001b[0m                                 Traceback (most recent call last)",
      "\u001b[0;32m/tmp/ipykernel_19419/2353877195.py\u001b[0m in \u001b[0;36m<module>\u001b[0;34m\u001b[0m\n\u001b[1;32m      1\u001b[0m \u001b[0mprint\u001b[0m\u001b[0;34m(\u001b[0m\u001b[0;34m'Exactitud del modelo en entrenamiento:'\u001b[0m\u001b[0;34m)\u001b[0m\u001b[0;34m\u001b[0m\u001b[0;34m\u001b[0m\u001b[0m\n\u001b[0;32m----> 2\u001b[0;31m \u001b[0mprint\u001b[0m\u001b[0;34m(\u001b[0m\u001b[0mstr\u001b[0m\u001b[0;34m(\u001b[0m\u001b[0mround\u001b[0m\u001b[0;34m(\u001b[0m\u001b[0mmodel_lana\u001b[0m\u001b[0;34m.\u001b[0m\u001b[0mscore\u001b[0m\u001b[0;34m(\u001b[0m\u001b[0mX_train\u001b[0m\u001b[0;34m,\u001b[0m \u001b[0my_train\u001b[0m\u001b[0;34m)\u001b[0m\u001b[0;34m,\u001b[0m\u001b[0;36m4\u001b[0m\u001b[0;34m)\u001b[0m\u001b[0;34m)\u001b[0m\u001b[0;34m+\u001b[0m\u001b[0;34m'%'\u001b[0m\u001b[0;34m)\u001b[0m\u001b[0;34m\u001b[0m\u001b[0;34m\u001b[0m\u001b[0m\n\u001b[0m",
      "\u001b[0;31mNameError\u001b[0m: name 'X_train' is not defined"
     ]
    }
   ],
   "source": [
    "print('Exactitud del modelo en entrenamiento:')\n",
    "print(str(round(model_lana.score(X_train, y_train),4))+'%')"
   ]
  },
  {
   "cell_type": "markdown",
   "id": "58908b72",
   "metadata": {
    "id": "58908b72"
   },
   "source": [
    "Interpretación: En este caso estamos usando los valores de entrenamiento, y el modelo predice con un 89% de exactitud.  "
   ]
  },
  {
   "cell_type": "code",
   "execution_count": 18,
   "id": "fb51f297",
   "metadata": {
    "colab": {
     "base_uri": "https://localhost:8080/"
    },
    "executionInfo": {
     "elapsed": 440,
     "status": "ok",
     "timestamp": 1664367126087,
     "user": {
      "displayName": "Lucila Allende",
      "userId": "00372317538275967677"
     },
     "user_tz": 180
    },
    "id": "fb51f297",
    "outputId": "632bd6c2-bbd6-4cd2-84c7-7ec463e476e1"
   },
   "outputs": [
    {
     "name": "stdout",
     "output_type": "stream",
     "text": [
      "Exactitud del modelo en test:\n"
     ]
    },
    {
     "ename": "NameError",
     "evalue": "name 'X_test' is not defined",
     "output_type": "error",
     "traceback": [
      "\u001b[0;31m---------------------------------------------------------------------------\u001b[0m",
      "\u001b[0;31mNameError\u001b[0m                                 Traceback (most recent call last)",
      "\u001b[0;32m/tmp/ipykernel_19419/2421653818.py\u001b[0m in \u001b[0;36m<module>\u001b[0;34m\u001b[0m\n\u001b[1;32m      1\u001b[0m \u001b[0mprint\u001b[0m\u001b[0;34m(\u001b[0m\u001b[0;34m'Exactitud del modelo en test:'\u001b[0m\u001b[0;34m)\u001b[0m\u001b[0;34m\u001b[0m\u001b[0;34m\u001b[0m\u001b[0m\n\u001b[0;32m----> 2\u001b[0;31m \u001b[0mprint\u001b[0m\u001b[0;34m(\u001b[0m\u001b[0mstr\u001b[0m\u001b[0;34m(\u001b[0m\u001b[0mround\u001b[0m\u001b[0;34m(\u001b[0m\u001b[0mmodel_lana\u001b[0m\u001b[0;34m.\u001b[0m\u001b[0mscore\u001b[0m\u001b[0;34m(\u001b[0m\u001b[0mX_test\u001b[0m\u001b[0;34m,\u001b[0m \u001b[0my_test\u001b[0m\u001b[0;34m)\u001b[0m\u001b[0;34m,\u001b[0m\u001b[0;36m4\u001b[0m\u001b[0;34m)\u001b[0m\u001b[0;34m)\u001b[0m\u001b[0;34m+\u001b[0m\u001b[0;34m'%'\u001b[0m\u001b[0;34m)\u001b[0m\u001b[0;34m\u001b[0m\u001b[0;34m\u001b[0m\u001b[0m\n\u001b[0m",
      "\u001b[0;31mNameError\u001b[0m: name 'X_test' is not defined"
     ]
    }
   ],
   "source": [
    "print('Exactitud del modelo en test:')\n",
    "print(str(round(model_lana.score(X_test, y_test),4))+'%')"
   ]
  },
  {
   "cell_type": "markdown",
   "id": "b5541e15",
   "metadata": {
    "id": "b5541e15"
   },
   "source": [
    "Interpretación: En este caso estamos usando los valores de prueba, y el modelo predice con un 71% de exactitud. "
   ]
  },
  {
   "cell_type": "markdown",
   "id": "e7cca92f",
   "metadata": {
    "id": "e7cca92f"
   },
   "source": [
    "#### Varianza explicada"
   ]
  },
  {
   "cell_type": "markdown",
   "id": "e0d5d7cd",
   "metadata": {
    "id": "e0d5d7cd"
   },
   "source": [
    "*Varianza explicada*: Representa el porcentaje de la varianza de la variable de salida que es explicado por el modelo. O sea esta métrica evalúa la variación o dispersión de los puntos de datos. La mejor puntuación posible es 1.0, los valores más bajos son peores. Sin embargo hay que considerar que la varianza NO debe ser muy alta sino estariamos corriendo riesgo de overfitting. Dentro de sklearn el método es **explained_variance_score**. "
   ]
  },
  {
   "cell_type": "code",
   "execution_count": 19,
   "id": "03b98495",
   "metadata": {
    "colab": {
     "base_uri": "https://localhost:8080/"
    },
    "executionInfo": {
     "elapsed": 381,
     "status": "ok",
     "timestamp": 1664367133084,
     "user": {
      "displayName": "Lucila Allende",
      "userId": "00372317538275967677"
     },
     "user_tz": 180
    },
    "id": "03b98495",
    "outputId": "79a8e017-061b-43bb-96fd-d00559afc317"
   },
   "outputs": [
    {
     "name": "stdout",
     "output_type": "stream",
     "text": [
      "Varianza Explicada:\n"
     ]
    },
    {
     "ename": "NameError",
     "evalue": "name 'y_test' is not defined",
     "output_type": "error",
     "traceback": [
      "\u001b[0;31m---------------------------------------------------------------------------\u001b[0m",
      "\u001b[0;31mNameError\u001b[0m                                 Traceback (most recent call last)",
      "\u001b[0;32m/tmp/ipykernel_19419/1267876564.py\u001b[0m in \u001b[0;36m<module>\u001b[0;34m\u001b[0m\n\u001b[1;32m      1\u001b[0m \u001b[0mprint\u001b[0m\u001b[0;34m(\u001b[0m\u001b[0;34m'Varianza Explicada:'\u001b[0m\u001b[0;34m)\u001b[0m\u001b[0;34m\u001b[0m\u001b[0;34m\u001b[0m\u001b[0m\n\u001b[0;32m----> 2\u001b[0;31m \u001b[0mprint\u001b[0m\u001b[0;34m(\u001b[0m\u001b[0mstr\u001b[0m\u001b[0;34m(\u001b[0m\u001b[0mround\u001b[0m\u001b[0;34m(\u001b[0m\u001b[0mexplained_variance_score\u001b[0m\u001b[0;34m(\u001b[0m\u001b[0my_test\u001b[0m\u001b[0;34m,\u001b[0m \u001b[0mpred_model_lana\u001b[0m\u001b[0;34m)\u001b[0m\u001b[0;34m,\u001b[0m\u001b[0;36m4\u001b[0m\u001b[0;34m)\u001b[0m\u001b[0;34m)\u001b[0m\u001b[0;34m)\u001b[0m\u001b[0;34m\u001b[0m\u001b[0;34m\u001b[0m\u001b[0m\n\u001b[0m",
      "\u001b[0;31mNameError\u001b[0m: name 'y_test' is not defined"
     ]
    }
   ],
   "source": [
    "print('Varianza Explicada:')\n",
    "print(str(round(explained_variance_score(y_test, pred_model_lana),4)))"
   ]
  },
  {
   "cell_type": "markdown",
   "id": "0ad38976",
   "metadata": {
    "id": "0ad38976"
   },
   "source": [
    "Interpretación: El modelo explica la variable de salida (lana) en un 71%."
   ]
  },
  {
   "cell_type": "markdown",
   "id": "882bd947",
   "metadata": {
    "id": "882bd947"
   },
   "source": [
    "#### Error medio absoluto"
   ]
  },
  {
   "cell_type": "markdown",
   "id": "a892d9a6",
   "metadata": {
    "id": "a892d9a6"
   },
   "source": [
    "*Error medio absoluto* (**MAE**): Es la media de las diferencias absolutas entre el valor objetivo y el predicho. Al no elevar al cuadrado, no penaliza los errores grandes, lo que la hace no muy sensible a valores anómalos, por lo que no es una métrica recomendable en modelos en los que se deba prestar atención a éstos. Mientras mas cercano a cero mejor. Dentro de sklearn el método es **mean_absolute_error**."
   ]
  },
  {
   "cell_type": "code",
   "execution_count": 20,
   "id": "7da2d29f",
   "metadata": {
    "colab": {
     "base_uri": "https://localhost:8080/"
    },
    "executionInfo": {
     "elapsed": 294,
     "status": "ok",
     "timestamp": 1664367136514,
     "user": {
      "displayName": "Lucila Allende",
      "userId": "00372317538275967677"
     },
     "user_tz": 180
    },
    "id": "7da2d29f",
    "outputId": "371d2f0b-ea27-4b65-b0f6-33c075088319"
   },
   "outputs": [
    {
     "name": "stdout",
     "output_type": "stream",
     "text": [
      "MAE:\n"
     ]
    },
    {
     "ename": "NameError",
     "evalue": "name 'y_test' is not defined",
     "output_type": "error",
     "traceback": [
      "\u001b[0;31m---------------------------------------------------------------------------\u001b[0m",
      "\u001b[0;31mNameError\u001b[0m                                 Traceback (most recent call last)",
      "\u001b[0;32m/tmp/ipykernel_19419/3014961936.py\u001b[0m in \u001b[0;36m<module>\u001b[0;34m\u001b[0m\n\u001b[1;32m      1\u001b[0m \u001b[0mprint\u001b[0m\u001b[0;34m(\u001b[0m\u001b[0;34m'MAE:'\u001b[0m\u001b[0;34m)\u001b[0m\u001b[0;34m\u001b[0m\u001b[0;34m\u001b[0m\u001b[0m\n\u001b[0;32m----> 2\u001b[0;31m \u001b[0mprint\u001b[0m\u001b[0;34m(\u001b[0m\u001b[0mstr\u001b[0m\u001b[0;34m(\u001b[0m\u001b[0mround\u001b[0m\u001b[0;34m(\u001b[0m\u001b[0mmean_absolute_error\u001b[0m\u001b[0;34m(\u001b[0m\u001b[0my_test\u001b[0m\u001b[0;34m,\u001b[0m \u001b[0mpred_model_lana\u001b[0m\u001b[0;34m)\u001b[0m\u001b[0;34m,\u001b[0m\u001b[0;36m4\u001b[0m\u001b[0;34m)\u001b[0m\u001b[0;34m)\u001b[0m\u001b[0;34m)\u001b[0m\u001b[0;34m\u001b[0m\u001b[0;34m\u001b[0m\u001b[0m\n\u001b[0m",
      "\u001b[0;31mNameError\u001b[0m: name 'y_test' is not defined"
     ]
    }
   ],
   "source": [
    "print('MAE:')\n",
    "print(str(round(mean_absolute_error(y_test, pred_model_lana),4)))"
   ]
  },
  {
   "cell_type": "markdown",
   "id": "b722abdb",
   "metadata": {
    "id": "b722abdb"
   },
   "source": [
    "Interpretación: Nos dice que el modelo se equivoca en promedio en un 27% (210901.05kg), cada vez que predice un valor de lana. "
   ]
  },
  {
   "cell_type": "markdown",
   "id": "655af706",
   "metadata": {
    "id": "655af706"
   },
   "source": [
    "#### Error cuadrático medio"
   ]
  },
  {
   "cell_type": "markdown",
   "id": "048db3e5",
   "metadata": {
    "id": "048db3e5"
   },
   "source": [
    "*Error cuadrático medio* (**MSE**): Es simplemente la media de las diferencias entre el valor objetivo y el predicho al cuadrado. Al elevar al cuadrado los errores, magnifica los errores grandes, por lo que hay que utilizarla con cuidado cuando tenemos valores anómalos en nuestro conjunto de datos. Mientras mas cercano a cero mejor. Dentro de sklearn el método es **mean_squared_error**."
   ]
  },
  {
   "cell_type": "code",
   "execution_count": 21,
   "id": "9a0b0f5d",
   "metadata": {
    "colab": {
     "base_uri": "https://localhost:8080/"
    },
    "executionInfo": {
     "elapsed": 284,
     "status": "ok",
     "timestamp": 1664367139366,
     "user": {
      "displayName": "Lucila Allende",
      "userId": "00372317538275967677"
     },
     "user_tz": 180
    },
    "id": "9a0b0f5d",
    "outputId": "5ab591d9-2156-4f6e-94b1-39c05e8a5836"
   },
   "outputs": [
    {
     "name": "stdout",
     "output_type": "stream",
     "text": [
      "MSE:\n"
     ]
    },
    {
     "ename": "NameError",
     "evalue": "name 'y_test' is not defined",
     "output_type": "error",
     "traceback": [
      "\u001b[0;31m---------------------------------------------------------------------------\u001b[0m",
      "\u001b[0;31mNameError\u001b[0m                                 Traceback (most recent call last)",
      "\u001b[0;32m/tmp/ipykernel_19419/2996947017.py\u001b[0m in \u001b[0;36m<module>\u001b[0;34m\u001b[0m\n\u001b[1;32m      1\u001b[0m \u001b[0mprint\u001b[0m\u001b[0;34m(\u001b[0m\u001b[0;34m'MSE:'\u001b[0m\u001b[0;34m)\u001b[0m\u001b[0;34m\u001b[0m\u001b[0;34m\u001b[0m\u001b[0m\n\u001b[0;32m----> 2\u001b[0;31m \u001b[0mprint\u001b[0m\u001b[0;34m(\u001b[0m\u001b[0mstr\u001b[0m\u001b[0;34m(\u001b[0m\u001b[0mround\u001b[0m\u001b[0;34m(\u001b[0m\u001b[0mmean_squared_error\u001b[0m\u001b[0;34m(\u001b[0m\u001b[0my_test\u001b[0m\u001b[0;34m,\u001b[0m \u001b[0mpred_model_lana\u001b[0m\u001b[0;34m)\u001b[0m\u001b[0;34m,\u001b[0m\u001b[0;36m4\u001b[0m\u001b[0;34m)\u001b[0m\u001b[0;34m)\u001b[0m\u001b[0;34m)\u001b[0m\u001b[0;34m\u001b[0m\u001b[0;34m\u001b[0m\u001b[0m\n\u001b[0m",
      "\u001b[0;31mNameError\u001b[0m: name 'y_test' is not defined"
     ]
    }
   ],
   "source": [
    "print('MSE:')\n",
    "print(str(round(mean_squared_error(y_test, pred_model_lana),4)))"
   ]
  },
  {
   "cell_type": "markdown",
   "id": "c3e9a681",
   "metadata": {
    "id": "c3e9a681"
   },
   "source": [
    "Interpretación: Nos dice que el modelo se equivoca en promedio en un 13% (78069470241.34kg), cada vez que predice un valor de lana, en este caso penalizando los errores grandes. "
   ]
  },
  {
   "cell_type": "markdown",
   "id": "aad402e7",
   "metadata": {
    "id": "aad402e7"
   },
   "source": [
    "#### Raíz cuadrada del MSE"
   ]
  },
  {
   "cell_type": "markdown",
   "id": "26935214",
   "metadata": {
    "id": "26935214"
   },
   "source": [
    "*Raíz cuadrada de la media del error al cuadrado* (**RMSE**): Es igual a la raíz cuadrada de la métrica anterior. La ventaja de esta métrica es que presenta el error en las mismas unidades que la variable objetivo, lo que la hace más fácil de entender. Mientras mas cercano a cero mejor. Dentro de sklearn el método es **mean_squared_error** y a este se le saca la raíz cuadrada. "
   ]
  },
  {
   "cell_type": "code",
   "execution_count": 22,
   "id": "3af44485",
   "metadata": {
    "colab": {
     "base_uri": "https://localhost:8080/"
    },
    "executionInfo": {
     "elapsed": 266,
     "status": "ok",
     "timestamp": 1664367141770,
     "user": {
      "displayName": "Lucila Allende",
      "userId": "00372317538275967677"
     },
     "user_tz": 180
    },
    "id": "3af44485",
    "outputId": "6893c73d-36dd-4953-dadc-0694d08598e2"
   },
   "outputs": [
    {
     "name": "stdout",
     "output_type": "stream",
     "text": [
      "RMSE:\n"
     ]
    },
    {
     "ename": "NameError",
     "evalue": "name 'y_test' is not defined",
     "output_type": "error",
     "traceback": [
      "\u001b[0;31m---------------------------------------------------------------------------\u001b[0m",
      "\u001b[0;31mNameError\u001b[0m                                 Traceback (most recent call last)",
      "\u001b[0;32m/tmp/ipykernel_19419/673910762.py\u001b[0m in \u001b[0;36m<module>\u001b[0;34m\u001b[0m\n\u001b[1;32m      1\u001b[0m \u001b[0mprint\u001b[0m\u001b[0;34m(\u001b[0m\u001b[0;34m'RMSE:'\u001b[0m\u001b[0;34m)\u001b[0m\u001b[0;34m\u001b[0m\u001b[0;34m\u001b[0m\u001b[0m\n\u001b[0;32m----> 2\u001b[0;31m \u001b[0mprint\u001b[0m\u001b[0;34m(\u001b[0m\u001b[0mstr\u001b[0m\u001b[0;34m(\u001b[0m\u001b[0mround\u001b[0m\u001b[0;34m(\u001b[0m\u001b[0mnp\u001b[0m\u001b[0;34m.\u001b[0m\u001b[0msqrt\u001b[0m\u001b[0;34m(\u001b[0m\u001b[0mround\u001b[0m\u001b[0;34m(\u001b[0m\u001b[0mmean_squared_error\u001b[0m\u001b[0;34m(\u001b[0m\u001b[0my_test\u001b[0m\u001b[0;34m,\u001b[0m \u001b[0mpred_model_lana\u001b[0m\u001b[0;34m)\u001b[0m\u001b[0;34m,\u001b[0m\u001b[0;36m4\u001b[0m\u001b[0;34m)\u001b[0m\u001b[0;34m)\u001b[0m\u001b[0;34m,\u001b[0m\u001b[0;36m4\u001b[0m\u001b[0;34m)\u001b[0m\u001b[0;34m)\u001b[0m\u001b[0;34m)\u001b[0m\u001b[0;34m\u001b[0m\u001b[0;34m\u001b[0m\u001b[0m\n\u001b[0m",
      "\u001b[0;31mNameError\u001b[0m: name 'y_test' is not defined"
     ]
    }
   ],
   "source": [
    "print('RMSE:')\n",
    "print(str(round(np.sqrt(round(mean_squared_error(y_test, pred_model_lana),4)),4)))"
   ]
  },
  {
   "cell_type": "markdown",
   "id": "e21bb39b",
   "metadata": {
    "id": "e21bb39b"
   },
   "source": [
    "Interpretación: Nos dice que el modelo se equivoca en promedio un 36%(279409.15kg), cada vez que predice un valor de lana."
   ]
  },
  {
   "cell_type": "markdown",
   "id": "0e9f212f",
   "metadata": {
    "id": "0e9f212f"
   },
   "source": [
    "#### R cuadrado"
   ]
  },
  {
   "cell_type": "markdown",
   "id": "c8953d4c",
   "metadata": {
    "id": "c8953d4c"
   },
   "source": [
    "*R cuadrado* (**R2**): Esta métrica difiere de las anteriores, ya que compara nuestro modelo con un modelo básico que siempre devuelve como predicción la media de los valores objetivo de entrenamiento. La comparación entre estos dos modelos se realiza en base a la media de los errores al cuadrado de cada modelo. Los valores que puede tomar esta métrica van desde menos infinito a 1. Cuanto más cercano a 1 sea el valor de esta métrica, mejor será nuestro modelo. El R cuadrado, también llamado coeficiente de determinación, refleja la bondad del ajuste de un modelo a la variable que pretender explicar. Es importante saber que el resultado del coeficiente de determinación oscila entre 0 y 1. Cuanto más cerca de 1 se sitúe su valor, mayor será el ajuste del modelo a la variable que estamos intentando explicar. De forma inversa, cuanto más cerca de cero, menos ajustado estará el modelo y, por tanto, menos fiable será. Dentro de sklearn el método es **r2_score**."
   ]
  },
  {
   "cell_type": "code",
   "execution_count": 23,
   "id": "000a30bd",
   "metadata": {
    "colab": {
     "base_uri": "https://localhost:8080/"
    },
    "executionInfo": {
     "elapsed": 305,
     "status": "ok",
     "timestamp": 1664367145472,
     "user": {
      "displayName": "Lucila Allende",
      "userId": "00372317538275967677"
     },
     "user_tz": 180
    },
    "id": "000a30bd",
    "outputId": "9910e1bc-b85c-44b3-add0-f7f2ae114869"
   },
   "outputs": [
    {
     "name": "stdout",
     "output_type": "stream",
     "text": [
      "R2:\n"
     ]
    },
    {
     "ename": "NameError",
     "evalue": "name 'y_test' is not defined",
     "output_type": "error",
     "traceback": [
      "\u001b[0;31m---------------------------------------------------------------------------\u001b[0m",
      "\u001b[0;31mNameError\u001b[0m                                 Traceback (most recent call last)",
      "\u001b[0;32m/tmp/ipykernel_19419/407537287.py\u001b[0m in \u001b[0;36m<module>\u001b[0;34m\u001b[0m\n\u001b[1;32m      1\u001b[0m \u001b[0mprint\u001b[0m\u001b[0;34m(\u001b[0m\u001b[0;34m'R2:'\u001b[0m\u001b[0;34m)\u001b[0m\u001b[0;34m\u001b[0m\u001b[0;34m\u001b[0m\u001b[0m\n\u001b[0;32m----> 2\u001b[0;31m \u001b[0mprint\u001b[0m\u001b[0;34m(\u001b[0m\u001b[0mstr\u001b[0m\u001b[0;34m(\u001b[0m\u001b[0mround\u001b[0m\u001b[0;34m(\u001b[0m\u001b[0mr2_score\u001b[0m\u001b[0;34m(\u001b[0m\u001b[0my_test\u001b[0m\u001b[0;34m,\u001b[0m \u001b[0mpred_model_lana\u001b[0m\u001b[0;34m)\u001b[0m\u001b[0;34m,\u001b[0m\u001b[0;36m4\u001b[0m\u001b[0;34m)\u001b[0m\u001b[0;34m)\u001b[0m\u001b[0;34m)\u001b[0m\u001b[0;34m\u001b[0m\u001b[0;34m\u001b[0m\u001b[0m\n\u001b[0m",
      "\u001b[0;31mNameError\u001b[0m: name 'y_test' is not defined"
     ]
    }
   ],
   "source": [
    "print('R2:')\n",
    "print(str(round(r2_score(y_test, pred_model_lana),4)))"
   ]
  },
  {
   "cell_type": "markdown",
   "id": "cdc74660",
   "metadata": {
    "id": "cdc74660"
   },
   "source": [
    "Interpretación: El modelo explica en un 71% la variable de salida, en este caso los kilos de lana."
   ]
  },
  {
   "cell_type": "markdown",
   "id": "f46b6f01",
   "metadata": {
    "id": "f46b6f01"
   },
   "source": [
    "El problema del coeficiente de determinación, y razón por el cual surge el coeficiente de determinación ajustado, radica en que no penaliza la inclusión de variables explicativas no significativas. Es decir, si al modelo se añaden cinco variables explicativas que guardan poca relación con lo que se intenta predecir, el R cuadrado aumentará. Es por ello que muchos expertos económetras, estadísticos y matemáticos se oponen al uso del R cuadrado como medida representativa de la bondad del ajuste real."
   ]
  },
  {
   "cell_type": "markdown",
   "id": "b74a2648",
   "metadata": {},
   "source": [
    "#### R cuadrado ajustado"
   ]
  },
  {
   "attachments": {
    "image.png": {
     "image/png": "[encoded data removed]"
    }
   },
   "cell_type": "markdown",
   "id": "6635405f",
   "metadata": {},
   "source": [
    "![image.png](attachment:image.png)\n",
    "https://economipedia.com/definiciones/r-cuadrado-ajustado-coeficiente-de-determinacion-ajustado.html"
   ]
  },
  {
   "cell_type": "code",
   "execution_count": 24,
   "id": "a135b5d5",
   "metadata": {},
   "outputs": [
    {
     "ename": "NameError",
     "evalue": "name 'y_test' is not defined",
     "output_type": "error",
     "traceback": [
      "\u001b[0;31m---------------------------------------------------------------------------\u001b[0m",
      "\u001b[0;31mNameError\u001b[0m                                 Traceback (most recent call last)",
      "\u001b[0;32m/tmp/ipykernel_19419/151484742.py\u001b[0m in \u001b[0;36m<module>\u001b[0;34m\u001b[0m\n\u001b[1;32m      2\u001b[0m     \u001b[0;32mreturn\u001b[0m \u001b[0mround\u001b[0m\u001b[0;34m(\u001b[0m\u001b[0;36m1\u001b[0m\u001b[0;34m-\u001b[0m\u001b[0;34m(\u001b[0m\u001b[0;34m(\u001b[0m\u001b[0mn\u001b[0m\u001b[0;34m-\u001b[0m\u001b[0;36m1\u001b[0m\u001b[0;34m)\u001b[0m\u001b[0;34m/\u001b[0m\u001b[0;34m(\u001b[0m\u001b[0mn\u001b[0m\u001b[0;34m-\u001b[0m\u001b[0mk\u001b[0m\u001b[0;34m-\u001b[0m\u001b[0;36m1\u001b[0m\u001b[0;34m)\u001b[0m\u001b[0;34m)\u001b[0m\u001b[0;34m*\u001b[0m\u001b[0;34m(\u001b[0m\u001b[0;36m1\u001b[0m\u001b[0;34m-\u001b[0m\u001b[0mr2\u001b[0m\u001b[0;34m)\u001b[0m\u001b[0;34m,\u001b[0m\u001b[0;36m4\u001b[0m\u001b[0;34m)\u001b[0m\u001b[0;34m\u001b[0m\u001b[0;34m\u001b[0m\u001b[0m\n\u001b[1;32m      3\u001b[0m \u001b[0;34m\u001b[0m\u001b[0m\n\u001b[0;32m----> 4\u001b[0;31m \u001b[0mr2\u001b[0m \u001b[0;34m=\u001b[0m \u001b[0mr2_score\u001b[0m\u001b[0;34m(\u001b[0m\u001b[0my_test\u001b[0m\u001b[0;34m,\u001b[0m \u001b[0mpred_model_lana\u001b[0m\u001b[0;34m)\u001b[0m\u001b[0;34m\u001b[0m\u001b[0;34m\u001b[0m\u001b[0m\n\u001b[0m\u001b[1;32m      5\u001b[0m \u001b[0mk\u001b[0m \u001b[0;34m=\u001b[0m \u001b[0;36m2\u001b[0m\u001b[0;34m\u001b[0m\u001b[0;34m\u001b[0m\u001b[0m\n\u001b[1;32m      6\u001b[0m \u001b[0mn\u001b[0m \u001b[0;34m=\u001b[0m \u001b[0mlen\u001b[0m\u001b[0;34m(\u001b[0m\u001b[0my_test\u001b[0m\u001b[0;34m)\u001b[0m\u001b[0;34m\u001b[0m\u001b[0;34m\u001b[0m\u001b[0m\n",
      "\u001b[0;31mNameError\u001b[0m: name 'y_test' is not defined"
     ]
    }
   ],
   "source": [
    "def r2_ajustado(n,k,r2):\n",
    "    return round(1-((n-1)/(n-k-1))*(1-r2),4)\n",
    "\n",
    "r2 = r2_score(y_test, pred_model_lana)\n",
    "k = 2\n",
    "n = len(y_test)\n",
    "resultado = r2_ajustado(n,k,r2)\n",
    "print('R2 ajustado:')\n",
    "print(resultado)"
   ]
  },
  {
   "cell_type": "markdown",
   "id": "30cc7435",
   "metadata": {},
   "source": [
    "Interpretación: El modelo explica en un 69% la variable de salida, en este caso los kilos de lana. Es decir la bondad de ajuste es del 69%."
   ]
  },
  {
   "cell_type": "markdown",
   "id": "c77facc3",
   "metadata": {},
   "source": [
    "#### Gráfico predicción vs real"
   ]
  },
  {
   "cell_type": "code",
   "execution_count": 25,
   "id": "23c52a15",
   "metadata": {},
   "outputs": [
    {
     "ename": "NameError",
     "evalue": "name 'y_test' is not defined",
     "output_type": "error",
     "traceback": [
      "\u001b[0;31m---------------------------------------------------------------------------\u001b[0m",
      "\u001b[0;31mNameError\u001b[0m                                 Traceback (most recent call last)",
      "\u001b[0;32m/tmp/ipykernel_19419/1254751101.py\u001b[0m in \u001b[0;36m<module>\u001b[0;34m\u001b[0m\n\u001b[0;32m----> 1\u001b[0;31m \u001b[0mplt\u001b[0m\u001b[0;34m.\u001b[0m\u001b[0mplot\u001b[0m\u001b[0;34m(\u001b[0m\u001b[0mrange\u001b[0m\u001b[0;34m(\u001b[0m\u001b[0mlen\u001b[0m\u001b[0;34m(\u001b[0m\u001b[0my_test\u001b[0m\u001b[0;34m)\u001b[0m\u001b[0;34m)\u001b[0m\u001b[0;34m,\u001b[0m\u001b[0my_test\u001b[0m\u001b[0;34m,\u001b[0m\u001b[0mlabel\u001b[0m\u001b[0;34m=\u001b[0m\u001b[0;34m\"Real\"\u001b[0m\u001b[0;34m)\u001b[0m\u001b[0;34m\u001b[0m\u001b[0;34m\u001b[0m\u001b[0m\n\u001b[0m\u001b[1;32m      2\u001b[0m \u001b[0mplt\u001b[0m\u001b[0;34m.\u001b[0m\u001b[0mplot\u001b[0m\u001b[0;34m(\u001b[0m\u001b[0mrange\u001b[0m\u001b[0;34m(\u001b[0m\u001b[0mlen\u001b[0m\u001b[0;34m(\u001b[0m\u001b[0mpred_model_lana\u001b[0m\u001b[0;34m)\u001b[0m\u001b[0;34m)\u001b[0m\u001b[0;34m,\u001b[0m\u001b[0mpred_model_lana\u001b[0m\u001b[0;34m,\u001b[0m\u001b[0mlabel\u001b[0m\u001b[0;34m=\u001b[0m\u001b[0;34m\"Prediccion\"\u001b[0m\u001b[0;34m)\u001b[0m\u001b[0;34m\u001b[0m\u001b[0;34m\u001b[0m\u001b[0m\n\u001b[1;32m      3\u001b[0m \u001b[0mplt\u001b[0m\u001b[0;34m.\u001b[0m\u001b[0mrcParams\u001b[0m\u001b[0;34m[\u001b[0m\u001b[0;34m'figure.figsize'\u001b[0m\u001b[0;34m]\u001b[0m \u001b[0;34m=\u001b[0m \u001b[0;34m(\u001b[0m\u001b[0;36m16\u001b[0m\u001b[0;34m,\u001b[0m \u001b[0;36m9\u001b[0m\u001b[0;34m)\u001b[0m\u001b[0;34m\u001b[0m\u001b[0;34m\u001b[0m\u001b[0m\n\u001b[1;32m      4\u001b[0m \u001b[0mplt\u001b[0m\u001b[0;34m.\u001b[0m\u001b[0mstyle\u001b[0m\u001b[0;34m.\u001b[0m\u001b[0muse\u001b[0m\u001b[0;34m(\u001b[0m\u001b[0;34m'ggplot'\u001b[0m\u001b[0;34m)\u001b[0m\u001b[0;34m\u001b[0m\u001b[0;34m\u001b[0m\u001b[0m\n\u001b[1;32m      5\u001b[0m \u001b[0mplt\u001b[0m\u001b[0;34m.\u001b[0m\u001b[0mxlabel\u001b[0m\u001b[0;34m(\u001b[0m\u001b[0;34m'muestras'\u001b[0m\u001b[0;34m)\u001b[0m\u001b[0;34m\u001b[0m\u001b[0;34m\u001b[0m\u001b[0m\n",
      "\u001b[0;31mNameError\u001b[0m: name 'y_test' is not defined"
     ]
    }
   ],
   "source": [
    "plt.plot(range(len(y_test)),y_test,label=\"Real\")\n",
    "plt.plot(range(len(pred_model_lana)),pred_model_lana,label=\"Prediccion\")\n",
    "plt.rcParams['figure.figsize'] = (16, 9)\n",
    "plt.style.use('ggplot')\n",
    "plt.xlabel('muestras')\n",
    "plt.ylabel('finura')\n",
    "plt.legend()\n",
    "plt.show()"
   ]
  },
  {
   "cell_type": "code",
   "execution_count": null,
   "id": "167824b1",
   "metadata": {},
   "outputs": [],
   "source": []
  }
 ],
 "metadata": {
  "colab": {
   "provenance": []
  },
  "kernelspec": {
   "display_name": "Python 3 (ipykernel)",
   "language": "python",
   "name": "python3"
  },
  "language_info": {
   "codemirror_mode": {
    "name": "ipython",
    "version": 3
   },
   "file_extension": ".py",
   "mimetype": "text/x-python",
   "name": "python",
   "nbconvert_exporter": "python",
   "pygments_lexer": "ipython3",
   "version": "3.9.7"
  },
  "toc": {
   "base_numbering": 1,
   "nav_menu": {},
   "number_sections": true,
   "sideBar": true,
   "skip_h1_title": false,
   "title_cell": "Table of Contents",
   "title_sidebar": "Contents",
   "toc_cell": false,
   "toc_position": {},
   "toc_section_display": true,
   "toc_window_display": false
  }
 },
 "nbformat": 4,
 "nbformat_minor": 5
}
