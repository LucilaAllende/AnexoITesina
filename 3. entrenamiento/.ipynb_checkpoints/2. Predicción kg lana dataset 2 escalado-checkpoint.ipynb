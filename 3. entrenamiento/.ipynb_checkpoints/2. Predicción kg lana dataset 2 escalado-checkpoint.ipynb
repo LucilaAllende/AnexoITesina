{
 "cells": [
  {
   "cell_type": "markdown",
   "id": "4ac59da2",
   "metadata": {
    "id": "4ac59da2"
   },
   "source": [
    "# Entrenamiento modelo de lana - Dataset 2"
   ]
  },
  {
   "cell_type": "markdown",
   "id": "a427e20b",
   "metadata": {},
   "source": [
    "En la siguiente línea de código, se importarán varias bibliotecas que brindan una amplia gama de herramientas para el análisis estadístico y el modelado de datos, así como para la visualización de los resultados.\n",
    "\n",
    "- Pandas se utiliza para manejar los datos a través de estructuras más flexibles, en este caso, se trabajará con DataFrames.\n",
    "- Numpy se usará para calcular la métrica RMSE y para ayudar con el gráfico 3D a través de sus funciones linspace para definir el rango de valores para dibujar el plano y meshgrid.\n",
    "- Matplotlib y Seaborn se utilizarán para visualizar los resultados del entrenamiento mediante gráficos.\n",
    "- Scikit-learn (sklearn) se usa para crear el modelo lineal. Train_test_split se utilizará para separar los datos en entrenamiento y prueba, y cross_val_score y KFold se utilizarán como formas de medir que el modelo funciona bien y no tiene mucho overfitting. Por último, se utilizarán las siguientes métricas: mean_squared_error, r2_score, explained_variance_score y mean_absolute_error.\n",
    "- Por último, se usará save_pickle para guardar el modelo entrenado."
   ]
  },
  {
   "cell_type": "code",
   "execution_count": 17,
   "id": "86f384d0",
   "metadata": {
    "executionInfo": {
     "elapsed": 560,
     "status": "ok",
     "timestamp": 1664390386570,
     "user": {
      "displayName": "Lucila Allende",
      "userId": "00372317538275967677"
     },
     "user_tz": 180
    },
    "id": "86f384d0"
   },
   "outputs": [],
   "source": [
    "import numpy as np\n",
    "import pandas as pd\n",
    "\n",
    "import matplotlib.pyplot as plt\n",
    "import seaborn as sns\n",
    "\n",
    "from sklearn import linear_model\n",
    "from sklearn.compose import ColumnTransformer\n",
    "from sklearn.preprocessing import StandardScaler\n",
    "\n",
    "from sklearn.model_selection import KFold\n",
    "from sklearn.model_selection import cross_val_score\n",
    "from sklearn.model_selection import train_test_split\n",
    "\n",
    "from sklearn.metrics import mean_squared_error, r2_score, explained_variance_score, mean_absolute_error\n",
    "\n",
    "from statsmodels.iolib.smpickle import save_pickle"
   ]
  },
  {
   "cell_type": "markdown",
   "id": "8cee8078",
   "metadata": {},
   "source": [
    "Lo siguiente que vamos a hacer es recuperar el dataset que tiene los datos por departamento de la producción y clima de Chubut, más los datos del Mirabueno."
   ]
  },
  {
   "cell_type": "code",
   "execution_count": 18,
   "id": "c528a622",
   "metadata": {
    "colab": {
     "base_uri": "https://localhost:8080/",
     "height": 661
    },
    "executionInfo": {
     "elapsed": 373,
     "status": "ok",
     "timestamp": 1664388402662,
     "user": {
      "displayName": "Lucila Allende",
      "userId": "00372317538275967677"
     },
     "user_tz": 180
    },
    "id": "c528a622",
    "outputId": "ec7c6624-373c-43c1-bcc8-53a545776375"
   },
   "outputs": [
    {
     "data": {
      "text/html": [
       "<div>\n",
       "<style scoped>\n",
       "    .dataframe tbody tr th:only-of-type {\n",
       "        vertical-align: middle;\n",
       "    }\n",
       "\n",
       "    .dataframe tbody tr th {\n",
       "        vertical-align: top;\n",
       "    }\n",
       "\n",
       "    .dataframe thead th {\n",
       "        text-align: right;\n",
       "    }\n",
       "</style>\n",
       "<table border=\"1\" class=\"dataframe\">\n",
       "  <thead>\n",
       "    <tr style=\"text-align: right;\">\n",
       "      <th></th>\n",
       "      <th>fecha</th>\n",
       "      <th>hectareas</th>\n",
       "      <th>departamento</th>\n",
       "      <th>carneros</th>\n",
       "      <th>ovejas</th>\n",
       "      <th>borregos</th>\n",
       "      <th>capones</th>\n",
       "      <th>cordero/as</th>\n",
       "      <th>total_ovinos</th>\n",
       "      <th>kilos_lana</th>\n",
       "      <th>finura</th>\n",
       "      <th>rinde</th>\n",
       "      <th>humedad</th>\n",
       "      <th>cant_lluvia</th>\n",
       "      <th>tem_max</th>\n",
       "      <th>temp_media</th>\n",
       "      <th>temp_min</th>\n",
       "    </tr>\n",
       "  </thead>\n",
       "  <tbody>\n",
       "    <tr>\n",
       "      <th>0</th>\n",
       "      <td>2012-12-31</td>\n",
       "      <td>1294000</td>\n",
       "      <td>BIEDMA</td>\n",
       "      <td>5785</td>\n",
       "      <td>93378</td>\n",
       "      <td>30168</td>\n",
       "      <td>48447</td>\n",
       "      <td>16071</td>\n",
       "      <td>193849</td>\n",
       "      <td>649130.0</td>\n",
       "      <td>19.80</td>\n",
       "      <td>58.06</td>\n",
       "      <td>58.40</td>\n",
       "      <td>46.40</td>\n",
       "      <td>18.10</td>\n",
       "      <td>12.40</td>\n",
       "      <td>6.70</td>\n",
       "    </tr>\n",
       "    <tr>\n",
       "      <th>1</th>\n",
       "      <td>2013-12-31</td>\n",
       "      <td>1294000</td>\n",
       "      <td>BIEDMA</td>\n",
       "      <td>5376</td>\n",
       "      <td>82998</td>\n",
       "      <td>25341</td>\n",
       "      <td>47350</td>\n",
       "      <td>26832</td>\n",
       "      <td>187897</td>\n",
       "      <td>620176.0</td>\n",
       "      <td>19.60</td>\n",
       "      <td>56.68</td>\n",
       "      <td>64.70</td>\n",
       "      <td>226.50</td>\n",
       "      <td>19.90</td>\n",
       "      <td>14.20</td>\n",
       "      <td>8.80</td>\n",
       "    </tr>\n",
       "    <tr>\n",
       "      <th>2</th>\n",
       "      <td>2014-12-31</td>\n",
       "      <td>1294000</td>\n",
       "      <td>BIEDMA</td>\n",
       "      <td>4785</td>\n",
       "      <td>82706</td>\n",
       "      <td>29379</td>\n",
       "      <td>35155</td>\n",
       "      <td>29900</td>\n",
       "      <td>181925</td>\n",
       "      <td>649130.0</td>\n",
       "      <td>20.10</td>\n",
       "      <td>61.19</td>\n",
       "      <td>60.50</td>\n",
       "      <td>331.30</td>\n",
       "      <td>20.60</td>\n",
       "      <td>14.70</td>\n",
       "      <td>9.20</td>\n",
       "    </tr>\n",
       "    <tr>\n",
       "      <th>3</th>\n",
       "      <td>2015-12-31</td>\n",
       "      <td>1294000</td>\n",
       "      <td>BIEDMA</td>\n",
       "      <td>4440</td>\n",
       "      <td>89262</td>\n",
       "      <td>29663</td>\n",
       "      <td>35437</td>\n",
       "      <td>32343</td>\n",
       "      <td>191145</td>\n",
       "      <td>672480.0</td>\n",
       "      <td>18.58</td>\n",
       "      <td>58.18</td>\n",
       "      <td>58.70</td>\n",
       "      <td>114.20</td>\n",
       "      <td>22.20</td>\n",
       "      <td>15.80</td>\n",
       "      <td>10.20</td>\n",
       "    </tr>\n",
       "    <tr>\n",
       "      <th>4</th>\n",
       "      <td>2016-12-31</td>\n",
       "      <td>1294000</td>\n",
       "      <td>BIEDMA</td>\n",
       "      <td>4452</td>\n",
       "      <td>82295</td>\n",
       "      <td>33662</td>\n",
       "      <td>33470</td>\n",
       "      <td>21326</td>\n",
       "      <td>175205</td>\n",
       "      <td>653800.0</td>\n",
       "      <td>17.99</td>\n",
       "      <td>59.93</td>\n",
       "      <td>57.50</td>\n",
       "      <td>88.90</td>\n",
       "      <td>25.20</td>\n",
       "      <td>18.60</td>\n",
       "      <td>12.90</td>\n",
       "    </tr>\n",
       "    <tr>\n",
       "      <th>...</th>\n",
       "      <td>...</td>\n",
       "      <td>...</td>\n",
       "      <td>...</td>\n",
       "      <td>...</td>\n",
       "      <td>...</td>\n",
       "      <td>...</td>\n",
       "      <td>...</td>\n",
       "      <td>...</td>\n",
       "      <td>...</td>\n",
       "      <td>...</td>\n",
       "      <td>...</td>\n",
       "      <td>...</td>\n",
       "      <td>...</td>\n",
       "      <td>...</td>\n",
       "      <td>...</td>\n",
       "      <td>...</td>\n",
       "      <td>...</td>\n",
       "    </tr>\n",
       "    <tr>\n",
       "      <th>196</th>\n",
       "      <td>2016-12-31</td>\n",
       "      <td>1989300</td>\n",
       "      <td>TELSEN</td>\n",
       "      <td>4896</td>\n",
       "      <td>80262</td>\n",
       "      <td>26471</td>\n",
       "      <td>39243</td>\n",
       "      <td>20290</td>\n",
       "      <td>171162</td>\n",
       "      <td>637000.0</td>\n",
       "      <td>20.20</td>\n",
       "      <td>53.55</td>\n",
       "      <td>50.80</td>\n",
       "      <td>273.33</td>\n",
       "      <td>17.47</td>\n",
       "      <td>11.57</td>\n",
       "      <td>5.77</td>\n",
       "    </tr>\n",
       "    <tr>\n",
       "      <th>197</th>\n",
       "      <td>2017-12-31</td>\n",
       "      <td>1989300</td>\n",
       "      <td>TELSEN</td>\n",
       "      <td>4640</td>\n",
       "      <td>77556</td>\n",
       "      <td>27296</td>\n",
       "      <td>36570</td>\n",
       "      <td>17750</td>\n",
       "      <td>163812</td>\n",
       "      <td>637000.0</td>\n",
       "      <td>19.11</td>\n",
       "      <td>56.01</td>\n",
       "      <td>47.17</td>\n",
       "      <td>220.03</td>\n",
       "      <td>16.60</td>\n",
       "      <td>10.93</td>\n",
       "      <td>5.03</td>\n",
       "    </tr>\n",
       "    <tr>\n",
       "      <th>198</th>\n",
       "      <td>2018-12-31</td>\n",
       "      <td>1989300</td>\n",
       "      <td>TELSEN</td>\n",
       "      <td>4832</td>\n",
       "      <td>79117</td>\n",
       "      <td>28366</td>\n",
       "      <td>37558</td>\n",
       "      <td>21933</td>\n",
       "      <td>171806</td>\n",
       "      <td>637000.0</td>\n",
       "      <td>20.38</td>\n",
       "      <td>54.64</td>\n",
       "      <td>47.93</td>\n",
       "      <td>201.40</td>\n",
       "      <td>17.63</td>\n",
       "      <td>11.33</td>\n",
       "      <td>5.03</td>\n",
       "    </tr>\n",
       "    <tr>\n",
       "      <th>199</th>\n",
       "      <td>2019-12-31</td>\n",
       "      <td>1989300</td>\n",
       "      <td>TELSEN</td>\n",
       "      <td>4781</td>\n",
       "      <td>80109</td>\n",
       "      <td>28428</td>\n",
       "      <td>38109</td>\n",
       "      <td>17731</td>\n",
       "      <td>169158</td>\n",
       "      <td>613021.5</td>\n",
       "      <td>16.88</td>\n",
       "      <td>53.83</td>\n",
       "      <td>47.57</td>\n",
       "      <td>119.47</td>\n",
       "      <td>17.53</td>\n",
       "      <td>11.17</td>\n",
       "      <td>4.83</td>\n",
       "    </tr>\n",
       "    <tr>\n",
       "      <th>200</th>\n",
       "      <td>2020-12-31</td>\n",
       "      <td>1989300</td>\n",
       "      <td>TELSEN</td>\n",
       "      <td>2870</td>\n",
       "      <td>79157</td>\n",
       "      <td>25804</td>\n",
       "      <td>36901</td>\n",
       "      <td>18984</td>\n",
       "      <td>163716</td>\n",
       "      <td>614250.0</td>\n",
       "      <td>21.55</td>\n",
       "      <td>52.96</td>\n",
       "      <td>46.63</td>\n",
       "      <td>101.47</td>\n",
       "      <td>16.60</td>\n",
       "      <td>10.60</td>\n",
       "      <td>4.60</td>\n",
       "    </tr>\n",
       "  </tbody>\n",
       "</table>\n",
       "<p>201 rows × 17 columns</p>\n",
       "</div>"
      ],
      "text/plain": [
       "          fecha  hectareas departamento  carneros  ovejas  borregos  capones  \\\n",
       "0    2012-12-31    1294000       BIEDMA      5785   93378     30168    48447   \n",
       "1    2013-12-31    1294000       BIEDMA      5376   82998     25341    47350   \n",
       "2    2014-12-31    1294000       BIEDMA      4785   82706     29379    35155   \n",
       "3    2015-12-31    1294000       BIEDMA      4440   89262     29663    35437   \n",
       "4    2016-12-31    1294000       BIEDMA      4452   82295     33662    33470   \n",
       "..          ...        ...          ...       ...     ...       ...      ...   \n",
       "196  2016-12-31    1989300       TELSEN      4896   80262     26471    39243   \n",
       "197  2017-12-31    1989300       TELSEN      4640   77556     27296    36570   \n",
       "198  2018-12-31    1989300       TELSEN      4832   79117     28366    37558   \n",
       "199  2019-12-31    1989300       TELSEN      4781   80109     28428    38109   \n",
       "200  2020-12-31    1989300       TELSEN      2870   79157     25804    36901   \n",
       "\n",
       "     cordero/as  total_ovinos  kilos_lana  finura  rinde  humedad  \\\n",
       "0         16071        193849    649130.0   19.80  58.06    58.40   \n",
       "1         26832        187897    620176.0   19.60  56.68    64.70   \n",
       "2         29900        181925    649130.0   20.10  61.19    60.50   \n",
       "3         32343        191145    672480.0   18.58  58.18    58.70   \n",
       "4         21326        175205    653800.0   17.99  59.93    57.50   \n",
       "..          ...           ...         ...     ...    ...      ...   \n",
       "196       20290        171162    637000.0   20.20  53.55    50.80   \n",
       "197       17750        163812    637000.0   19.11  56.01    47.17   \n",
       "198       21933        171806    637000.0   20.38  54.64    47.93   \n",
       "199       17731        169158    613021.5   16.88  53.83    47.57   \n",
       "200       18984        163716    614250.0   21.55  52.96    46.63   \n",
       "\n",
       "     cant_lluvia  tem_max  temp_media  temp_min  \n",
       "0          46.40    18.10       12.40      6.70  \n",
       "1         226.50    19.90       14.20      8.80  \n",
       "2         331.30    20.60       14.70      9.20  \n",
       "3         114.20    22.20       15.80     10.20  \n",
       "4          88.90    25.20       18.60     12.90  \n",
       "..           ...      ...         ...       ...  \n",
       "196       273.33    17.47       11.57      5.77  \n",
       "197       220.03    16.60       10.93      5.03  \n",
       "198       201.40    17.63       11.33      5.03  \n",
       "199       119.47    17.53       11.17      4.83  \n",
       "200       101.47    16.60       10.60      4.60  \n",
       "\n",
       "[201 rows x 17 columns]"
      ]
     },
     "execution_count": 18,
     "metadata": {},
     "output_type": "execute_result"
    }
   ],
   "source": [
    "dataset = pd.read_csv(\"../datos_analisis/dataset_produccion_clima_chubut_mirabueno.csv\")\n",
    "dataset"
   ]
  },
  {
   "cell_type": "markdown",
   "id": "1e73ed89",
   "metadata": {
    "id": "1e73ed89"
   },
   "source": [
    "## Predicción: Kilogramos de Lana"
   ]
  },
  {
   "cell_type": "markdown",
   "id": "82f64df1",
   "metadata": {
    "id": "82f64df1"
   },
   "source": [
    "Variables independientes: \n",
    "- Cantidad total de lluvia acumulada de cada año (mm)\n",
    "- Cantidad total de ovinos de cada año (animales)\n",
    "\n",
    "Variables dependientes:\n",
    "- Kilos de lana producidos"
   ]
  },
  {
   "cell_type": "markdown",
   "id": "f16e3b1a",
   "metadata": {},
   "source": [
    "Empezamos extrayendo dos variables del conjunto de datos 'dataset', que se utilizarán posteriormente para la creación del modelo de regresión lineal.\n",
    "\n",
    "La variable 'X_lluvia_ovinos' se crea seleccionando las columnas 'cant_lluvia' y 'total_ovinos' del conjunto de datos 'dataset', estas columnas se utilizan como variables independientes o predictores del modelo.\n",
    "\n",
    "La variable 'y_lana' se crea seleccionando la columna 'kilos_lana' del conjunto de datos 'dataset', esta columna se utiliza como variable dependiente o respuesta del modelo."
   ]
  },
  {
   "cell_type": "code",
   "execution_count": 19,
   "id": "160d8e71",
   "metadata": {
    "executionInfo": {
     "elapsed": 312,
     "status": "ok",
     "timestamp": 1664387830579,
     "user": {
      "displayName": "Lucila Allende",
      "userId": "00372317538275967677"
     },
     "user_tz": 180
    },
    "id": "160d8e71"
   },
   "outputs": [],
   "source": [
    "num_attrs = ['cant_lluvia', 'total_ovinos']\n",
    "pipeline = ColumnTransformer([(\"numeric\", StandardScaler(), num_attrs)])\n",
    "X_lluvia_ovinos = pipeline.fit_transform(dataset)\n",
    "\n",
    "standard_scaler = StandardScaler()\n",
    "l_values = dataset[['kilos_lana']]\n",
    "scaled_values = standard_scaler.fit(l_values)\n",
    "y_lana = standard_scaler.transform(l_values)"
   ]
  },
  {
   "cell_type": "markdown",
   "id": "f30fa3c5",
   "metadata": {},
   "source": [
    "Lo siguiente es dividir los datos en dos conjuntos: uno para entrenamiento y otro para prueba. \n",
    "- X_train y y_train corresponden a los datos de entrenamiento que se utilizarán para ajustar el modelo.\n",
    "- X_test y y_test corresponden a los datos de prueba que se utilizarán para evaluar el rendimiento del modelo.\n",
    "\n",
    "La función `train_test_split` toma como entrada los datos originales, `X_lluvia_ovinos` y `y_lana`, y divide aleatoriamente los datos en conjuntos de entrenamiento y prueba. El parámetro `test_size` indica el porcentaje de datos que se utilizarán para prueba (en este caso, el 20% de los datos) y `random_state` es una semilla que se utiliza para asegurar que los conjuntos de entrenamiento y prueba sean siempre los mismos en cada ejecución del código."
   ]
  },
  {
   "cell_type": "code",
   "execution_count": 20,
   "id": "cd9228d7",
   "metadata": {},
   "outputs": [],
   "source": [
    "X_train, X_test, y_train, y_test = train_test_split(\n",
    "                                                X_lluvia_ovinos, \n",
    "                                                y_lana, \n",
    "                                                test_size=0.20,\n",
    "                                                random_state=0\n",
    "                                            )"
   ]
  },
  {
   "cell_type": "markdown",
   "id": "7ac1182f",
   "metadata": {},
   "source": [
    "Luego creamos un objeto `KFold` que se utiliza para realizar una validación cruzada en el conjunto de datos. La validación cruzada es una técnica que se utiliza para evaluar el rendimiento del modelo y estimar su capacidad para generalizar a nuevos datos. El objeto `KFold` divide el conjunto de datos en k partes iguales (en este caso, k=5), y utiliza cada una de ellas como conjunto de prueba y el resto como conjunto de entrenamiento. De esta manera, se obtiene una estimación del rendimiento del modelo en distintas combinaciones de entrenamiento y prueba.\n",
    "\n",
    "Entonces para entrenar el modelo de manera más efectiva, utilizaremos el método `K-Folds` con 5 divisiones. Este enfoque consiste en iterar 5 veces, donde en cada iteración se separan 26 muestras para utilizarlas como conjunto de prueba, mientras que las 106 restantes se usan para entrenar el modelo. Luego se mide el rendimiento del modelo utilizando el conjunto de prueba apartado en cada iteración. Esto nos permite realizar 5 entrenamientos independientes y obtener 5 resultados de rendimiento. Finalmente, el rendimiento del modelo se calculará como el promedio de los 5 resultados obtenidos. De esta manera, evitamos sobrestimar el rendimiento del modelo al utilizar el mismo conjunto de prueba en todas las iteraciones."
   ]
  },
  {
   "cell_type": "code",
   "execution_count": 21,
   "id": "d823c24e",
   "metadata": {},
   "outputs": [],
   "source": [
    "kf = KFold(n_splits=5)"
   ]
  },
  {
   "cell_type": "markdown",
   "id": "9098584e",
   "metadata": {},
   "source": [
    "Luego de llevar a cabo estas 5 iteraciones, se espera obtener 5 puntuaciones (score) que sean cercanas entre sí, lo que servirá como **una señal de que el modelo está rindiendo bien y que tiene una buena capacidad de generalización**. Una vez completada esta fase de validación, el siguiente paso es crear el modelo y proceder a su entrenamiento con los datos."
   ]
  },
  {
   "cell_type": "code",
   "execution_count": 22,
   "id": "aa54c830",
   "metadata": {
    "executionInfo": {
     "elapsed": 292,
     "status": "ok",
     "timestamp": 1664387837529,
     "user": {
      "displayName": "Lucila Allende",
      "userId": "00372317538275967677"
     },
     "user_tz": 180
    },
    "id": "aa54c830"
   },
   "outputs": [
    {
     "data": {
      "text/html": [
       "<style>#sk-container-id-1 {color: black;background-color: white;}#sk-container-id-1 pre{padding: 0;}#sk-container-id-1 div.sk-toggleable {background-color: white;}#sk-container-id-1 label.sk-toggleable__label {cursor: pointer;display: block;width: 100%;margin-bottom: 0;padding: 0.3em;box-sizing: border-box;text-align: center;}#sk-container-id-1 label.sk-toggleable__label-arrow:before {content: \"▸\";float: left;margin-right: 0.25em;color: #696969;}#sk-container-id-1 label.sk-toggleable__label-arrow:hover:before {color: black;}#sk-container-id-1 div.sk-estimator:hover label.sk-toggleable__label-arrow:before {color: black;}#sk-container-id-1 div.sk-toggleable__content {max-height: 0;max-width: 0;overflow: hidden;text-align: left;background-color: #f0f8ff;}#sk-container-id-1 div.sk-toggleable__content pre {margin: 0.2em;color: black;border-radius: 0.25em;background-color: #f0f8ff;}#sk-container-id-1 input.sk-toggleable__control:checked~div.sk-toggleable__content {max-height: 200px;max-width: 100%;overflow: auto;}#sk-container-id-1 input.sk-toggleable__control:checked~label.sk-toggleable__label-arrow:before {content: \"▾\";}#sk-container-id-1 div.sk-estimator input.sk-toggleable__control:checked~label.sk-toggleable__label {background-color: #d4ebff;}#sk-container-id-1 div.sk-label input.sk-toggleable__control:checked~label.sk-toggleable__label {background-color: #d4ebff;}#sk-container-id-1 input.sk-hidden--visually {border: 0;clip: rect(1px 1px 1px 1px);clip: rect(1px, 1px, 1px, 1px);height: 1px;margin: -1px;overflow: hidden;padding: 0;position: absolute;width: 1px;}#sk-container-id-1 div.sk-estimator {font-family: monospace;background-color: #f0f8ff;border: 1px dotted black;border-radius: 0.25em;box-sizing: border-box;margin-bottom: 0.5em;}#sk-container-id-1 div.sk-estimator:hover {background-color: #d4ebff;}#sk-container-id-1 div.sk-parallel-item::after {content: \"\";width: 100%;border-bottom: 1px solid gray;flex-grow: 1;}#sk-container-id-1 div.sk-label:hover label.sk-toggleable__label {background-color: #d4ebff;}#sk-container-id-1 div.sk-serial::before {content: \"\";position: absolute;border-left: 1px solid gray;box-sizing: border-box;top: 0;bottom: 0;left: 50%;z-index: 0;}#sk-container-id-1 div.sk-serial {display: flex;flex-direction: column;align-items: center;background-color: white;padding-right: 0.2em;padding-left: 0.2em;position: relative;}#sk-container-id-1 div.sk-item {position: relative;z-index: 1;}#sk-container-id-1 div.sk-parallel {display: flex;align-items: stretch;justify-content: center;background-color: white;position: relative;}#sk-container-id-1 div.sk-item::before, #sk-container-id-1 div.sk-parallel-item::before {content: \"\";position: absolute;border-left: 1px solid gray;box-sizing: border-box;top: 0;bottom: 0;left: 50%;z-index: -1;}#sk-container-id-1 div.sk-parallel-item {display: flex;flex-direction: column;z-index: 1;position: relative;background-color: white;}#sk-container-id-1 div.sk-parallel-item:first-child::after {align-self: flex-end;width: 50%;}#sk-container-id-1 div.sk-parallel-item:last-child::after {align-self: flex-start;width: 50%;}#sk-container-id-1 div.sk-parallel-item:only-child::after {width: 0;}#sk-container-id-1 div.sk-dashed-wrapped {border: 1px dashed gray;margin: 0 0.4em 0.5em 0.4em;box-sizing: border-box;padding-bottom: 0.4em;background-color: white;}#sk-container-id-1 div.sk-label label {font-family: monospace;font-weight: bold;display: inline-block;line-height: 1.2em;}#sk-container-id-1 div.sk-label-container {text-align: center;}#sk-container-id-1 div.sk-container {/* jupyter's `normalize.less` sets `[hidden] { display: none; }` but bootstrap.min.css set `[hidden] { display: none !important; }` so we also need the `!important` here to be able to override the default hidden behavior on the sphinx rendered scikit-learn.org. See: https://github.com/scikit-learn/scikit-learn/issues/21755 */display: inline-block !important;position: relative;}#sk-container-id-1 div.sk-text-repr-fallback {display: none;}</style><div id=\"sk-container-id-1\" class=\"sk-top-container\"><div class=\"sk-text-repr-fallback\"><pre>LinearRegression()</pre><b>In a Jupyter environment, please rerun this cell to show the HTML representation or trust the notebook. <br />On GitHub, the HTML representation is unable to render, please try loading this page with nbviewer.org.</b></div><div class=\"sk-container\" hidden><div class=\"sk-item\"><div class=\"sk-estimator sk-toggleable\"><input class=\"sk-toggleable__control sk-hidden--visually\" id=\"sk-estimator-id-1\" type=\"checkbox\" checked><label for=\"sk-estimator-id-1\" class=\"sk-toggleable__label sk-toggleable__label-arrow\">LinearRegression</label><div class=\"sk-toggleable__content\"><pre>LinearRegression()</pre></div></div></div></div></div>"
      ],
      "text/plain": [
       "LinearRegression()"
      ]
     },
     "execution_count": 22,
     "metadata": {},
     "output_type": "execute_result"
    }
   ],
   "source": [
    "model_lana = linear_model.LinearRegression()\n",
    "model_lana.fit(X_train, y_train)"
   ]
  },
  {
   "cell_type": "markdown",
   "id": "67e88c62",
   "metadata": {},
   "source": [
    "Se procede a comparar los resultados del modelo inicial de entrenamiento con los obtenidos en los 5 procesos de validación cruzada, a través del promedio de estos últimos. Es posible notar que existe una **coincidencia o similitud** entre los resultados. La métrica del modelo es de *0.89*, mientras que las métricas de la validación cruzada son [0.92, 0.90, 0.82, 0.81, 0.84], cuya media es de *0.86*."
   ]
  },
  {
   "cell_type": "code",
   "execution_count": 23,
   "id": "07196efc",
   "metadata": {},
   "outputs": [
    {
     "data": {
      "text/plain": [
       "'Métrica del modelo en Train 0.9'"
      ]
     },
     "execution_count": 23,
     "metadata": {},
     "output_type": "execute_result"
    }
   ],
   "source": [
    "score = model_lana.score(X_train,y_train)\n",
    "'Métrica del modelo en Train {:.2}'.format(score)"
   ]
  },
  {
   "cell_type": "code",
   "execution_count": 24,
   "id": "ac44c222",
   "metadata": {},
   "outputs": [
    {
     "data": {
      "text/plain": [
       "'Métricas cross validation: [0.89, 0.92, 0.87, 0.85, 0.89]'"
      ]
     },
     "execution_count": 24,
     "metadata": {},
     "output_type": "execute_result"
    }
   ],
   "source": [
    "scores = cross_val_score(model_lana, X_train, y_train, cv=kf)\n",
    "scores_rounded = [round(score, 2) for score in scores]\n",
    "'Métricas cross validation: {}'.format(scores_rounded)"
   ]
  },
  {
   "cell_type": "code",
   "execution_count": 25,
   "id": "4de5cf91",
   "metadata": {},
   "outputs": [
    {
     "data": {
      "text/plain": [
       "'Media de cross validation 0.88'"
      ]
     },
     "execution_count": 25,
     "metadata": {},
     "output_type": "execute_result"
    }
   ],
   "source": [
    "'Media de cross validation {:.2}'.format(scores.mean())"
   ]
  },
  {
   "cell_type": "markdown",
   "id": "bc39860b",
   "metadata": {},
   "source": [
    "Finalmente, realizamos una predicción utilizando el conjunto de prueba y verificamos que también obtenemos un **buen puntaje de precisión o score**."
   ]
  },
  {
   "cell_type": "code",
   "execution_count": 26,
   "id": "34ed815d",
   "metadata": {
    "executionInfo": {
     "elapsed": 335,
     "status": "ok",
     "timestamp": 1664387842215,
     "user": {
      "displayName": "Lucila Allende",
      "userId": "00372317538275967677"
     },
     "user_tz": 180
    },
    "id": "34ed815d"
   },
   "outputs": [],
   "source": [
    "pred_model_lana = model_lana.predict(X_test)"
   ]
  },
  {
   "cell_type": "code",
   "execution_count": 27,
   "id": "dc75f1ff",
   "metadata": {},
   "outputs": [
    {
     "data": {
      "text/plain": [
       "'Metrica del modelo en Test 92.34%'"
      ]
     },
     "execution_count": 27,
     "metadata": {},
     "output_type": "execute_result"
    }
   ],
   "source": [
    "score_pred = r2_score(y_test, pred_model_lana)\n",
    "'Metrica del modelo en Test {:.2%}'.format(score_pred)"
   ]
  },
  {
   "cell_type": "markdown",
   "id": "bdea2654",
   "metadata": {},
   "source": [
    "Entonces guardamos el modelo como candidato para utilizarlo en la aplicación web."
   ]
  },
  {
   "cell_type": "code",
   "execution_count": 28,
   "id": "e06a043e",
   "metadata": {},
   "outputs": [],
   "source": [
    "save_pickle(model_lana,'modelos/modelo_prediccion_lana_2')"
   ]
  },
  {
   "cell_type": "markdown",
   "id": "d6c213de",
   "metadata": {
    "id": "d6c213de"
   },
   "source": [
    "### Métricas"
   ]
  },
  {
   "cell_type": "markdown",
   "id": "5e199050",
   "metadata": {
    "id": "5e199050"
   },
   "source": [
    "#### Score"
   ]
  },
  {
   "cell_type": "markdown",
   "id": "7b3d1461",
   "metadata": {
    "id": "7b3d1461"
   },
   "source": [
    "*Score*: El \"score\" es un método que se incluye en todos los algoritmos y proporciona el resultado de un criterio de evaluación por defecto para el problema al que están dirigidos. En el caso de una regresión lineal, el método score devuelve el coeficiente de determinación, también conocido como **R²**, que se define como el porcentaje de la varianza de la variable dependiente que puede ser explicada por la variable independiente. Esta métrica nos ayuda a evaluar la calidad de nuestro modelo y a compararlo con otros modelos.En general, cuanto mayor sea el valor de **R²**, mejor ajustado estará el modelo a los datos."
   ]
  },
  {
   "cell_type": "code",
   "execution_count": 29,
   "id": "773f9f35",
   "metadata": {
    "colab": {
     "base_uri": "https://localhost:8080/"
    },
    "executionInfo": {
     "elapsed": 398,
     "status": "ok",
     "timestamp": 1664367122879,
     "user": {
      "displayName": "Lucila Allende",
      "userId": "00372317538275967677"
     },
     "user_tz": 180
    },
    "id": "773f9f35",
    "outputId": "941d1994-3578-4eb5-a238-e3b0c096d16a"
   },
   "outputs": [
    {
     "data": {
      "text/plain": [
       "'Score del modelo en entrenamiento: 89.58%'"
      ]
     },
     "execution_count": 29,
     "metadata": {},
     "output_type": "execute_result"
    }
   ],
   "source": [
    "'Score del modelo en entrenamiento: {:.2%}'.format(model_lana.score(X_train, y_train))  "
   ]
  },
  {
   "cell_type": "markdown",
   "id": "58908b72",
   "metadata": {
    "id": "58908b72"
   },
   "source": [
    "*Interpretación:* Un **R²** de 0.8894 significa que el modelo explica el 88.94% de la variabilidad de la producción de lana en función de la cantidad de lluvia y el total de ovinos.  "
   ]
  },
  {
   "cell_type": "code",
   "execution_count": 30,
   "id": "fb51f297",
   "metadata": {
    "colab": {
     "base_uri": "https://localhost:8080/"
    },
    "executionInfo": {
     "elapsed": 440,
     "status": "ok",
     "timestamp": 1664367126087,
     "user": {
      "displayName": "Lucila Allende",
      "userId": "00372317538275967677"
     },
     "user_tz": 180
    },
    "id": "fb51f297",
    "outputId": "632bd6c2-bbd6-4cd2-84c7-7ec463e476e1"
   },
   "outputs": [
    {
     "data": {
      "text/plain": [
       "'Score del modelo en test: 92.34%'"
      ]
     },
     "execution_count": 30,
     "metadata": {},
     "output_type": "execute_result"
    }
   ],
   "source": [
    "'Score del modelo en test: {:.2%}'.format(model_lana.score(X_test, y_test))"
   ]
  },
  {
   "cell_type": "markdown",
   "id": "b5541e15",
   "metadata": {
    "id": "b5541e15"
   },
   "source": [
    "*Interpretación:* el modelo tiene una precisión del 70.71% al predecir los valores de la variable dependiente (en este caso, los kilos de lana) utilizando los valores de las variables independientes (cantidad de lluvia y número total de ovinos) en el conjunto de datos de prueba. Es decir, el modelo puede explicar aproximadamente el 70.71% de la varianza en la variable dependiente con los datos que no ha visto antes."
   ]
  },
  {
   "cell_type": "markdown",
   "id": "e7cca92f",
   "metadata": {
    "id": "e7cca92f"
   },
   "source": [
    "#### Varianza explicada"
   ]
  },
  {
   "cell_type": "markdown",
   "id": "e0d5d7cd",
   "metadata": {
    "id": "e0d5d7cd"
   },
   "source": [
    "*Varianza explicada*: es una medida del porcentaje de la varianza de la variable de salida que es explicado por el modelo. Esta métrica evalúa la variación o dispersión de los puntos de datos, y la mejor puntuación posible es 1.0, lo que indica que el modelo explica perfectamente toda la variabilidad de los datos. Sin embargo, una puntuación muy alta en esta métrica también puede indicar un riesgo de overfitting, es decir, que el modelo se ajusta demasiado bien a los datos de entrenamiento y no generaliza bien a nuevos datos. En sklearn, se puede utilizar el método **explained_variance_score** para calcular esta métrica."
   ]
  },
  {
   "cell_type": "code",
   "execution_count": 31,
   "id": "03b98495",
   "metadata": {
    "colab": {
     "base_uri": "https://localhost:8080/"
    },
    "executionInfo": {
     "elapsed": 381,
     "status": "ok",
     "timestamp": 1664367133084,
     "user": {
      "displayName": "Lucila Allende",
      "userId": "00372317538275967677"
     },
     "user_tz": 180
    },
    "id": "03b98495",
    "outputId": "79a8e017-061b-43bb-96fd-d00559afc317"
   },
   "outputs": [
    {
     "data": {
      "text/plain": [
       "'Varianza Explicada:92.36%'"
      ]
     },
     "execution_count": 31,
     "metadata": {},
     "output_type": "execute_result"
    }
   ],
   "source": [
    "'Varianza Explicada:{:.2%}'.format(explained_variance_score(y_test, pred_model_lana))"
   ]
  },
  {
   "cell_type": "markdown",
   "id": "0ad38976",
   "metadata": {
    "id": "0ad38976"
   },
   "source": [
    "*Interpretación:* En este caso, la varianza explicada del modelo de regresión lineal es del 70.73%, lo que indica que el modelo es capaz de explicar el 70.73% de la variabilidad observada en la variable de salida (lana), en base a las variables de entrada proporcionadas (lluvia, total de ovinos). Una varianza explicada del 70.73% indica que el modelo es razonablemente bueno para predecir la variable de salida en función de las variables de entrada sin llegar a indicar un sobreajuste. "
   ]
  },
  {
   "cell_type": "markdown",
   "id": "882bd947",
   "metadata": {
    "id": "882bd947"
   },
   "source": [
    "#### Error medio absoluto"
   ]
  },
  {
   "cell_type": "markdown",
   "id": "a892d9a6",
   "metadata": {
    "id": "a892d9a6"
   },
   "source": [
    "*Error medio absoluto* (**MAE**): Es la media de las diferencias absolutas entre el valor objetivo y el predicho. Al no elevar al cuadrado, no penaliza los errores grandes, lo que la hace no muy sensible a valores anómalos, por lo que no es una métrica recomendable en modelos en los que se deba prestar atención a éstos. Mientras mas cercano a cero mejor. Dentro de sklearn el método es **mean_absolute_error**."
   ]
  },
  {
   "cell_type": "code",
   "execution_count": 32,
   "id": "7da2d29f",
   "metadata": {
    "colab": {
     "base_uri": "https://localhost:8080/"
    },
    "executionInfo": {
     "elapsed": 294,
     "status": "ok",
     "timestamp": 1664367136514,
     "user": {
      "displayName": "Lucila Allende",
      "userId": "00372317538275967677"
     },
     "user_tz": 180
    },
    "id": "7da2d29f",
    "outputId": "371d2f0b-ea27-4b65-b0f6-33c075088319"
   },
   "outputs": [
    {
     "data": {
      "text/plain": [
       "'MAE: 0.24 kgs'"
      ]
     },
     "execution_count": 32,
     "metadata": {},
     "output_type": "execute_result"
    }
   ],
   "source": [
    "'MAE: {:.2f} kgs'.format(mean_absolute_error(y_test, pred_model_lana))"
   ]
  },
  {
   "cell_type": "markdown",
   "id": "b722abdb",
   "metadata": {
    "id": "b722abdb"
   },
   "source": [
    "*Interpretación:* El valor obtenido de 210901.05 kgs indica que, en promedio, el modelo se equivoca en esa cantidad al predecir los kilos de lana producidos. Es decir, en promedio, las predicciones del modelo tienen un error absoluto medio de 210901.05 kgs en relación al valor real de la producción de lana. Una forma de interpretar esta métrica es pensar en el valor de la producción de lana que se está analizando y evaluar si el error medio absoluto es aceptable en relación a ese valor, dado que estamos hablando de toneladas en muchos casos el valor no es tan malo. En general, está métrica nos dice que el modelo se equivoca en promedio en un 27% (210901.05kg), cada vez que predice un valor de lana. "
   ]
  },
  {
   "cell_type": "markdown",
   "id": "655af706",
   "metadata": {
    "id": "655af706"
   },
   "source": [
    "#### Error cuadrático medio"
   ]
  },
  {
   "cell_type": "markdown",
   "id": "048db3e5",
   "metadata": {
    "id": "048db3e5"
   },
   "source": [
    "*Error cuadrático medio* (**MSE**): Es la media de las diferencias entre el valor objetivo y el predicho al cuadrado. Al elevar al cuadrado los errores, magnifica los errores grandes, por lo que hay que utilizarla con cuidado cuando tenemos valores anómalos en nuestro conjunto de datos. Mientras mas cercano a cero mejor. Dentro de sklearn el método es **mean_squared_error**."
   ]
  },
  {
   "cell_type": "code",
   "execution_count": 33,
   "id": "9a0b0f5d",
   "metadata": {
    "colab": {
     "base_uri": "https://localhost:8080/"
    },
    "executionInfo": {
     "elapsed": 284,
     "status": "ok",
     "timestamp": 1664367139366,
     "user": {
      "displayName": "Lucila Allende",
      "userId": "00372317538275967677"
     },
     "user_tz": 180
    },
    "id": "9a0b0f5d",
    "outputId": "5ab591d9-2156-4f6e-94b1-39c05e8a5836"
   },
   "outputs": [
    {
     "data": {
      "text/plain": [
       "'MSE: 0.12 kgs'"
      ]
     },
     "execution_count": 33,
     "metadata": {},
     "output_type": "execute_result"
    }
   ],
   "source": [
    "'MSE: {:.2f} kgs'.format(mean_squared_error(y_test, pred_model_lana))"
   ]
  },
  {
   "cell_type": "markdown",
   "id": "c3e9a681",
   "metadata": {
    "id": "c3e9a681"
   },
   "source": [
    "*Interpretación:* En este caso, el MSE de 78069470241.34 kgs de lana indica que, en promedio, la diferencia entre los valores predichos y los valores observados de kilos de lana es de aproximadamente ese valor. Por lo tanto, se podría decir que en este caso el modelo tiene un error cuadrático medio muy alto, debido quizas a los valores atipicos y sus predicciones, ya que en este caso se esta penalizando los errores grandes."
   ]
  },
  {
   "cell_type": "markdown",
   "id": "aad402e7",
   "metadata": {
    "id": "aad402e7"
   },
   "source": [
    "#### Raíz cuadrada del MSE"
   ]
  },
  {
   "cell_type": "markdown",
   "id": "26935214",
   "metadata": {
    "id": "26935214"
   },
   "source": [
    "*Raíz cuadrada de la media del error al cuadrado* (**RMSE**): Es igual a la raíz cuadrada de la métrica anterior. La ventaja de esta métrica es que presenta el error en las mismas unidades que la variable objetivo, lo que la hace más fácil de entender. Mientras mas cercano a cero mejor. Dentro de sklearn el método es **mean_squared_error** y a este se le saca la raíz cuadrada. "
   ]
  },
  {
   "cell_type": "code",
   "execution_count": 34,
   "id": "3af44485",
   "metadata": {
    "colab": {
     "base_uri": "https://localhost:8080/"
    },
    "executionInfo": {
     "elapsed": 266,
     "status": "ok",
     "timestamp": 1664367141770,
     "user": {
      "displayName": "Lucila Allende",
      "userId": "00372317538275967677"
     },
     "user_tz": 180
    },
    "id": "3af44485",
    "outputId": "6893c73d-36dd-4953-dadc-0694d08598e2"
   },
   "outputs": [
    {
     "data": {
      "text/plain": [
       "'RMSE: 0.34 kgs'"
      ]
     },
     "execution_count": 34,
     "metadata": {},
     "output_type": "execute_result"
    }
   ],
   "source": [
    "'RMSE: {:.2f} kgs'.format(np.sqrt(mean_squared_error(y_test, pred_model_lana)))"
   ]
  },
  {
   "cell_type": "markdown",
   "id": "e21bb39b",
   "metadata": {
    "id": "e21bb39b"
   },
   "source": [
    "*Interpretación:* En este caso, la raíz cuadrada del MSE de 279409.14 kgs de lana indica que, en promedio, la diferencia entre los valores predichos y los valores observados de kilos de lana es de aproximadamente 279,409.14 kgs de lana. Es decir, en promedio, el modelo predice el peso de la lana con un error del 36%. "
   ]
  },
  {
   "cell_type": "markdown",
   "id": "0e9f212f",
   "metadata": {
    "id": "0e9f212f"
   },
   "source": [
    "#### R cuadrado"
   ]
  },
  {
   "cell_type": "markdown",
   "id": "c8953d4c",
   "metadata": {
    "id": "c8953d4c"
   },
   "source": [
    "*R cuadrado* (**R²**): es una métrica utilizada para evaluar la capacidad de un modelo para ajustarse a los datos de entrenamiento. A diferencia de otras métricas, R2 compara nuestro modelo con un modelo básico que siempre devuelve como predicción la media de los valores objetivo de entrenamiento. La comparación entre estos dos modelos se realiza en base a la media de los errores al cuadrado de cada modelo.\n",
    "\n",
    "El R2 es un valor que oscila entre menos infinito y 1, siendo 1 el valor máximo que puede tomar. Cuanto más cercano a 1 sea el valor de esta métrica, mejor será nuestro modelo. Esto se debe a que R2 refleja la proporción de la varianza total de la variable objetivo que es explicada por nuestro modelo.\n",
    "\n",
    "Es importante destacar que el resultado del coeficiente de determinación oscila entre 0 y 1. Cuanto más cerca de 1 se sitúe su valor, mayor será el ajuste del modelo a la variable que estamos intentando explicar. De forma inversa, cuanto más cerca de cero, menos ajustado estará el modelo y, por tanto, menos fiable será.\n",
    "En resumen, el valor de R2 nos proporciona una medida de la calidad del ajuste de nuestro modelo a los datos de entrenamiento, siendo un valor cercano a 1 deseable para garantizar una buena capacidad predictiva.\n",
    "\n",
    "El coeficiente de determinación se puede calcular utilizando la función **r2_score** de la biblioteca sklearn. "
   ]
  },
  {
   "cell_type": "code",
   "execution_count": 35,
   "id": "000a30bd",
   "metadata": {
    "colab": {
     "base_uri": "https://localhost:8080/"
    },
    "executionInfo": {
     "elapsed": 305,
     "status": "ok",
     "timestamp": 1664367145472,
     "user": {
      "displayName": "Lucila Allende",
      "userId": "00372317538275967677"
     },
     "user_tz": 180
    },
    "id": "000a30bd",
    "outputId": "9910e1bc-b85c-44b3-add0-f7f2ae114869"
   },
   "outputs": [
    {
     "data": {
      "text/plain": [
       "'R2:92.34%'"
      ]
     },
     "execution_count": 35,
     "metadata": {},
     "output_type": "execute_result"
    }
   ],
   "source": [
    "'R2:{:.2%}'.format(r2_score(y_test, pred_model_lana))"
   ]
  },
  {
   "cell_type": "markdown",
   "id": "cdc74660",
   "metadata": {
    "id": "cdc74660"
   },
   "source": [
    "*Interpretación:* En este caso, el valor de R cuadrado es 70.71%, lo que significa que aproximadamente el 70.71% de la variación en los datos de kilos de lana producidos se puede explicar por las variables independientes utilizadas en el modelo de regresión lineal. Entonces el modelo de regresión lineal explica en un 71% la variable de salida, en este caso los kilos de lana."
   ]
  },
  {
   "cell_type": "markdown",
   "id": "f46b6f01",
   "metadata": {
    "id": "f46b6f01"
   },
   "source": [
    "El problema del coeficiente de determinación, y razón por el cual surge el coeficiente de determinación ajustado, radica en que no penaliza la inclusión de variables explicativas no significativas. Es decir, si al modelo se añaden cinco variables explicativas que guardan poca relación con lo que se intenta predecir, el R cuadrado aumentará. Es por ello que muchos expertos económetras, estadísticos y matemáticos se oponen al uso del R cuadrado como medida representativa de la bondad del ajuste real."
   ]
  },
  {
   "cell_type": "markdown",
   "id": "b74a2648",
   "metadata": {},
   "source": [
    "#### R cuadrado ajustado"
   ]
  },
  {
   "attachments": {
    "image.png": {
     "image/png": "[encoded data removed]"
    }
   },
   "cell_type": "markdown",
   "id": "6635405f",
   "metadata": {},
   "source": [
    "La fórmula del R cuadrado ajustado es como sigue:\n",
    "![image.png](attachment:image.png)\n",
    "\n",
    "Se va a crear una función que aplique esta fórmula a los datos."
   ]
  },
  {
   "cell_type": "code",
   "execution_count": 36,
   "id": "a135b5d5",
   "metadata": {},
   "outputs": [
    {
     "data": {
      "text/plain": [
       "'R2 ajustado:91.94%'"
      ]
     },
     "execution_count": 36,
     "metadata": {},
     "output_type": "execute_result"
    }
   ],
   "source": [
    "def r2_ajustado(n,k,r2):\n",
    "    return round(1-((n-1)/(n-k-1))*(1-r2),4)\n",
    "\n",
    "n = len(y_test)\n",
    "k = 2\n",
    "r2 = r2_score(y_test, pred_model_lana)\n",
    "\n",
    "'R2 ajustado:{:.2%}'.format(r2_ajustado(n,k,r2))"
   ]
  },
  {
   "cell_type": "markdown",
   "id": "30cc7435",
   "metadata": {},
   "source": [
    "*Interpretación:* un R2 ajustado de 68.76% indica que el modelo explica aproximadamente el 68.76% de la variabilidad en la variable objetivo, teniendo en cuenta las variables explicativas incluidas en el modelo. Es decir, la bondad de ajuste es del 69% y por lo tanto el modelo explica en un 69% los kilos de lana. "
   ]
  },
  {
   "cell_type": "markdown",
   "id": "b7e434aa",
   "metadata": {
    "id": "b7e434aa"
   },
   "source": [
    "### Gráficos predición de lana"
   ]
  },
  {
   "cell_type": "markdown",
   "id": "5863c8ca",
   "metadata": {},
   "source": [
    "A continuación, se presentarán dos gráficos para visualizar el rendimiento del modelo de regresión lineal múltiple en la predicción de la producción de lana. En primer lugar, se utilizará un gráfico de dispersión en 3D para representar la relación entre las variables de entrada y la variable de salida. En segundo lugar, se empleará un gráfico de líneas para comparar los valores reales de la producción de lana con los valores predichos por el modelo. Esto permitirá una mejor comprensión del desempeño del modelo y de la precisión de las predicciones."
   ]
  },
  {
   "cell_type": "markdown",
   "id": "39883fe8",
   "metadata": {},
   "source": [
    "#### Gráfico regresión lineal múltiple"
   ]
  },
  {
   "cell_type": "markdown",
   "id": "147eef31",
   "metadata": {},
   "source": [
    "Recordemos que las variables, `X_lluvia_ovinos` y `y_lana`, son subconjuntos del dataset original que contienen las columnas \"cant_lluvia\", \"total_ovinos\" y \"kilos_lana\", respectivamente."
   ]
  },
  {
   "cell_type": "markdown",
   "id": "7039d453",
   "metadata": {},
   "source": [
    "Lo siguiente es transformar el dataframe `X_lluvia_ovinos` en un arreglo numpy de dos dimensiones (2D) para poder ser utilizado en el modelo de regresión lineal.\n",
    "\n",
    "La función `values` de un dataframe de pandas devuelve un arreglo numpy que representa los datos del dataframe, y `reshape` se utiliza para darle una nueva forma o dimensión al arreglo, en este caso convirtiéndolo en una matriz de dos columnas (una para cada variable predictora).\n",
    "\n",
    "El parámetro `-1` en `reshape` indica a NumPy que calcule el número necesario de filas en función de los datos y de la cantidad de columnas especificadas, de tal manera que los datos originales del dataframe se mantengan."
   ]
  },
  {
   "cell_type": "code",
   "execution_count": 37,
   "id": "d5700bf0",
   "metadata": {},
   "outputs": [
    {
     "ename": "AttributeError",
     "evalue": "'numpy.ndarray' object has no attribute 'values'",
     "output_type": "error",
     "traceback": [
      "\u001b[0;31m---------------------------------------------------------------------------\u001b[0m",
      "\u001b[0;31mAttributeError\u001b[0m                            Traceback (most recent call last)",
      "\u001b[0;32m/tmp/ipykernel_18219/1978435109.py\u001b[0m in \u001b[0;36m<module>\u001b[0;34m\u001b[0m\n\u001b[0;32m----> 1\u001b[0;31m \u001b[0mX\u001b[0m \u001b[0;34m=\u001b[0m \u001b[0mX_lluvia_ovinos\u001b[0m\u001b[0;34m.\u001b[0m\u001b[0mvalues\u001b[0m\u001b[0;34m.\u001b[0m\u001b[0mreshape\u001b[0m\u001b[0;34m(\u001b[0m\u001b[0;34m-\u001b[0m\u001b[0;36m1\u001b[0m\u001b[0;34m,\u001b[0m\u001b[0;36m2\u001b[0m\u001b[0;34m)\u001b[0m\u001b[0;34m\u001b[0m\u001b[0;34m\u001b[0m\u001b[0m\n\u001b[0m",
      "\u001b[0;31mAttributeError\u001b[0m: 'numpy.ndarray' object has no attribute 'values'"
     ]
    }
   ],
   "source": [
    "X = X_lluvia_ovinos.values.reshape(-1,2)"
   ]
  },
  {
   "cell_type": "markdown",
   "id": "7892f9a5",
   "metadata": {},
   "source": [
    "Luego le asignamos a la variable `Y` la columna `'kilos_lana'` del dataframe original dataset. Esto se hace para tener una variable separada que contenga solo la variable de salida (en este caso `'kilos_lana'`) y poder usarla en las operaciones posteriores."
   ]
  },
  {
   "cell_type": "code",
   "execution_count": 38,
   "id": "fee9f9ff",
   "metadata": {
    "executionInfo": {
     "elapsed": 314,
     "status": "ok",
     "timestamp": 1664387850659,
     "user": {
      "displayName": "Lucila Allende",
      "userId": "00372317538275967677"
     },
     "user_tz": 180
    },
    "id": "fee9f9ff"
   },
   "outputs": [],
   "source": [
    "Y = y_lana"
   ]
  },
  {
   "cell_type": "markdown",
   "id": "73c8037b",
   "metadata": {},
   "source": [
    "La siguiente celda contiene líneas de código que crean una malla de puntos en 2D para hacer una visualización en 3D de la superficie de regresión del modelo.\n",
    "\n",
    "- `x_pred = np.linspace(7.1, 1041.16, 30)` crea un array de 30 valores igualmente espaciados que van desde 7.1 hasta 1041.16, que representan los posibles valores de la variable `cant_lluvia`.\n",
    "\n",
    "- `y_pred = np.linspace(82956, 921789, 30)` crea un array de 30 valores igualmente espaciados que van desde 82956 hasta 921789, que representan los posibles valores de la variable `total_ovinos`.\n",
    "\n",
    "- `xx_pred, yy_pred = np.meshgrid(x_pred, y_pred)` crea una malla de puntos en 2D a partir de los dos arrays anteriores, donde `xx_pred` representa los valores de `cant_lluvia` y `yy_pred` los valores de `total_ovinos`.\n",
    "\n",
    "- `model_viz = np.array([xx_pred.flatten(), yy_pred.flatten()]).T` crea un array `model_viz` que contiene una lista de todas las posibles combinaciones de valores para `cant_lluvia` y `total_ovinos`, que será usado para hacer la predicción y graficar la superficie de regresión.\n",
    "\n"
   ]
  },
  {
   "cell_type": "code",
   "execution_count": 39,
   "id": "e5d9ac22",
   "metadata": {
    "executionInfo": {
     "elapsed": 324,
     "status": "ok",
     "timestamp": 1664387854607,
     "user": {
      "displayName": "Lucila Allende",
      "userId": "00372317538275967677"
     },
     "user_tz": 180
    },
    "id": "e5d9ac22"
   },
   "outputs": [],
   "source": [
    "x_pred = np.linspace(7.1, 1041.16, 30)   # range of cant_lluvia\n",
    "y_pred = np.linspace(82956, 921789, 30)  # range of total_ovinos\n",
    "xx_pred, yy_pred = np.meshgrid(x_pred, y_pred)\n",
    "model_viz = np.array([xx_pred.flatten(), yy_pred.flatten()]).T"
   ]
  },
  {
   "cell_type": "markdown",
   "id": "f80ff48c",
   "metadata": {},
   "source": [
    "La siguiente celda prepara los datos necesarios para visualizar el modelo de regresión lineal múltiple en un gráfico en 3D.\n",
    "\n",
    "- `x = X[:, 0]` extrae todos los valores de la primera columna de X y los asigna a la variable x, que representará los valores de la variable independiente cant_lluvia.\n",
    "- `y = X[:, 1]` extrae todos los valores de la segunda columna de X y los asigna a la variable y, que representará los valores de la variable independiente total_ovinos.\n",
    "- `z = Y` asigna todos los valores de la variable dependiente kilos_lana a la variable z, que representará la variable que se quiere predecir en función de las variables independientes x e y."
   ]
  },
  {
   "cell_type": "code",
   "execution_count": 40,
   "id": "246d401d",
   "metadata": {
    "executionInfo": {
     "elapsed": 312,
     "status": "ok",
     "timestamp": 1664387857722,
     "user": {
      "displayName": "Lucila Allende",
      "userId": "00372317538275967677"
     },
     "user_tz": 180
    },
    "id": "246d401d"
   },
   "outputs": [
    {
     "ename": "NameError",
     "evalue": "name 'X' is not defined",
     "output_type": "error",
     "traceback": [
      "\u001b[0;31m---------------------------------------------------------------------------\u001b[0m",
      "\u001b[0;31mNameError\u001b[0m                                 Traceback (most recent call last)",
      "\u001b[0;32m/tmp/ipykernel_18219/3059061424.py\u001b[0m in \u001b[0;36m<module>\u001b[0;34m\u001b[0m\n\u001b[0;32m----> 1\u001b[0;31m \u001b[0mx\u001b[0m \u001b[0;34m=\u001b[0m \u001b[0mX\u001b[0m\u001b[0;34m[\u001b[0m\u001b[0;34m:\u001b[0m\u001b[0;34m,\u001b[0m \u001b[0;36m0\u001b[0m\u001b[0;34m]\u001b[0m\u001b[0;34m\u001b[0m\u001b[0;34m\u001b[0m\u001b[0m\n\u001b[0m\u001b[1;32m      2\u001b[0m \u001b[0my\u001b[0m \u001b[0;34m=\u001b[0m \u001b[0mX\u001b[0m\u001b[0;34m[\u001b[0m\u001b[0;34m:\u001b[0m\u001b[0;34m,\u001b[0m \u001b[0;36m1\u001b[0m\u001b[0;34m]\u001b[0m\u001b[0;34m\u001b[0m\u001b[0;34m\u001b[0m\u001b[0m\n\u001b[1;32m      3\u001b[0m \u001b[0mz\u001b[0m \u001b[0;34m=\u001b[0m \u001b[0mY\u001b[0m\u001b[0;34m\u001b[0m\u001b[0;34m\u001b[0m\u001b[0m\n",
      "\u001b[0;31mNameError\u001b[0m: name 'X' is not defined"
     ]
    }
   ],
   "source": [
    "x = X[:, 0]\n",
    "y = X[:, 1]\n",
    "z = Y"
   ]
  },
  {
   "cell_type": "markdown",
   "id": "32ba999d",
   "metadata": {},
   "source": [
    "El código `predicted = model_lana.predict(model_viz)` utiliza el modelo de regresión lineal previamente entrenado (`model_lana`) para hacer una predicción de los valores de salida (`kilos_lana`) correspondientes a todas las combinaciones posibles de valores de entrada para cant_lluvia y total_ovinos que se encuentran en la malla de puntos en 2D (`model_viz`).\n",
    "\n",
    "Esto se logra utilizando el método `predict` del objeto del modelo de regresión lineal, que toma como entrada una matriz `X` de características y devuelve una matriz de valores de salida predichos correspondientes a cada entrada. En este caso, la matriz `X` es la malla de puntos `model_viz` que contiene todas las posibles combinaciones de valores de `cant_lluvia` y `total_ovinos`. Los valores predichos se almacenan en la variable predicted."
   ]
  },
  {
   "cell_type": "code",
   "execution_count": 41,
   "id": "01411084",
   "metadata": {
    "executionInfo": {
     "elapsed": 6,
     "status": "ok",
     "timestamp": 1664387860339,
     "user": {
      "displayName": "Lucila Allende",
      "userId": "00372317538275967677"
     },
     "user_tz": 180
    },
    "id": "01411084"
   },
   "outputs": [],
   "source": [
    "predicted = model_lana.predict(model_viz)"
   ]
  },
  {
   "cell_type": "markdown",
   "id": "2aff4359",
   "metadata": {},
   "source": [
    "El código `r2 = model_lana.score(X, Y)` calcula el coeficiente de determinación R² del modelo de regresión lineal, que es una medida estadística que indica la proporción de la varianza de la variable dependiente (kilos_lana) que es explicada por el modelo en función de las variables independientes (cant_lluvia y total_ovinos).\n",
    "\n",
    "Este método toma como entrada una matriz de características X (en este caso, la matriz X que se creó anteriormente a partir de las variables cant_lluvia y total_ovinos) y una matriz de valores de salida Y (en este caso, la matriz Y que contiene los valores reales de kilos_lana). Luego, compara los valores de salida predichos por el modelo para cada muestra de X con los valores reales correspondientes de Y, y devuelve un valor entre 0 y 1 que indica la calidad del ajuste del modelo.\n",
    "\n",
    "Un valor de R² más cercano a 1 indica que el modelo explica una gran proporción de la varianza de la variable dependiente, lo que indica un mejor ajuste del modelo a los datos. En este caso, el valor de R² obtenido se almacena en la variable `r2`."
   ]
  },
  {
   "cell_type": "code",
   "execution_count": 42,
   "id": "99de8a5e",
   "metadata": {
    "executionInfo": {
     "elapsed": 5,
     "status": "ok",
     "timestamp": 1664387862008,
     "user": {
      "displayName": "Lucila Allende",
      "userId": "00372317538275967677"
     },
     "user_tz": 180
    },
    "id": "99de8a5e"
   },
   "outputs": [
    {
     "ename": "NameError",
     "evalue": "name 'X' is not defined",
     "output_type": "error",
     "traceback": [
      "\u001b[0;31m---------------------------------------------------------------------------\u001b[0m",
      "\u001b[0;31mNameError\u001b[0m                                 Traceback (most recent call last)",
      "\u001b[0;32m/tmp/ipykernel_18219/591177167.py\u001b[0m in \u001b[0;36m<module>\u001b[0;34m\u001b[0m\n\u001b[0;32m----> 1\u001b[0;31m \u001b[0mr2\u001b[0m \u001b[0;34m=\u001b[0m \u001b[0mmodel_lana\u001b[0m\u001b[0;34m.\u001b[0m\u001b[0mscore\u001b[0m\u001b[0;34m(\u001b[0m\u001b[0mX\u001b[0m\u001b[0;34m,\u001b[0m \u001b[0mY\u001b[0m\u001b[0;34m)\u001b[0m\u001b[0;34m\u001b[0m\u001b[0;34m\u001b[0m\u001b[0m\n\u001b[0m",
      "\u001b[0;31mNameError\u001b[0m: name 'X' is not defined"
     ]
    }
   ],
   "source": [
    "r2 = model_lana.score(X, Y)"
   ]
  },
  {
   "cell_type": "markdown",
   "id": "25bcd8d5",
   "metadata": {},
   "source": [
    "El siguiente código crea una figura con tres subplots en 3D utilizando la biblioteca Matplotlib. Cada subplot contiene una visualización de la superficie de regresión lineal para diferentes ángulos de vista.\n",
    "\n",
    "En cada subplot, se hace una visualización de los datos de entrada y de los valores predichos por el modelo. Los datos de entrada se representan como puntos negros en el fondo, mientras que los valores predichos se representan como puntos azules en la superficie.\n",
    "\n",
    "También se establecen las etiquetas de los ejes y los parámetros del locator para la ubicación de las etiquetas de los ejes.\n",
    "\n",
    "Finalmente, se establecen las posiciones de vista de los subplots y se agrega un título a la figura que muestra el valor del coeficiente de determinación ($R^2$) obtenido del modelo.\n",
    "\n",
    "La llamada a la función fig.tight_layout() se encarga de ajustar automáticamente los espacios entre los subplots para que no haya superposiciones."
   ]
  },
  {
   "cell_type": "code",
   "execution_count": 43,
   "id": "9c67a863",
   "metadata": {
    "colab": {
     "base_uri": "https://localhost:8080/",
     "height": 414
    },
    "executionInfo": {
     "elapsed": 2010,
     "status": "ok",
     "timestamp": 1664387870483,
     "user": {
      "displayName": "Lucila Allende",
      "userId": "00372317538275967677"
     },
     "user_tz": 180
    },
    "id": "9c67a863",
    "outputId": "33f11f20-6eb7-4f96-bf73-88c8de6c2b3a",
    "scrolled": true
   },
   "outputs": [
    {
     "ename": "NameError",
     "evalue": "name 'x' is not defined",
     "output_type": "error",
     "traceback": [
      "\u001b[0;31m---------------------------------------------------------------------------\u001b[0m",
      "\u001b[0;31mNameError\u001b[0m                                 Traceback (most recent call last)",
      "\u001b[0;32m/tmp/ipykernel_18219/1742938353.py\u001b[0m in \u001b[0;36m<module>\u001b[0;34m\u001b[0m\n\u001b[1;32m      9\u001b[0m \u001b[0;34m\u001b[0m\u001b[0m\n\u001b[1;32m     10\u001b[0m \u001b[0;32mfor\u001b[0m \u001b[0max\u001b[0m \u001b[0;32min\u001b[0m \u001b[0maxes\u001b[0m\u001b[0;34m:\u001b[0m\u001b[0;34m\u001b[0m\u001b[0;34m\u001b[0m\u001b[0m\n\u001b[0;32m---> 11\u001b[0;31m     \u001b[0mflattenX\u001b[0m \u001b[0;34m=\u001b[0m \u001b[0mx\u001b[0m\u001b[0;34m.\u001b[0m\u001b[0mflatten\u001b[0m\u001b[0;34m(\u001b[0m\u001b[0;34m)\u001b[0m\u001b[0;34m\u001b[0m\u001b[0;34m\u001b[0m\u001b[0m\n\u001b[0m\u001b[1;32m     12\u001b[0m     \u001b[0mflattenY\u001b[0m \u001b[0;34m=\u001b[0m \u001b[0my\u001b[0m\u001b[0;34m.\u001b[0m\u001b[0mflatten\u001b[0m\u001b[0;34m(\u001b[0m\u001b[0;34m)\u001b[0m\u001b[0;34m\u001b[0m\u001b[0;34m\u001b[0m\u001b[0m\n\u001b[1;32m     13\u001b[0m     \u001b[0mflattenZ\u001b[0m \u001b[0;34m=\u001b[0m \u001b[0mz\u001b[0m\u001b[0;34m.\u001b[0m\u001b[0mvalues\u001b[0m\u001b[0;34m.\u001b[0m\u001b[0mflatten\u001b[0m\u001b[0;34m(\u001b[0m\u001b[0;34m)\u001b[0m\u001b[0;34m\u001b[0m\u001b[0;34m\u001b[0m\u001b[0m\n",
      "\u001b[0;31mNameError\u001b[0m: name 'x' is not defined"
     ]
    },
    {
     "data": {
      "image/png": "[encoded data removed]",
      "text/plain": [
       "<Figure size 1200x400 with 3 Axes>"
      ]
     },
     "metadata": {},
     "output_type": "display_data"
    }
   ],
   "source": [
    "plt.style.use('default')\n",
    "fig = plt.figure(figsize=(12, 4))\n",
    "\n",
    "ax1 = fig.add_subplot(131, projection='3d')\n",
    "ax2 = fig.add_subplot(132, projection='3d')\n",
    "ax3 = fig.add_subplot(133, projection='3d')\n",
    "\n",
    "axes = [ax1, ax2, ax3]\n",
    "\n",
    "for ax in axes:\n",
    "    flattenX = x.flatten()\n",
    "    flattenY = y.flatten()\n",
    "    flattenZ = z.values.flatten()\n",
    "    ax.plot(\n",
    "        flattenX, flattenY, flattenZ, color='k', \n",
    "        zorder=15, linestyle='none', marker='o', alpha=0.5\n",
    "    )\n",
    "    ax.scatter(\n",
    "        xx_pred.flatten(), yy_pred.flatten(), predicted, \n",
    "        facecolor=(0,0,0,0), s=20, edgecolor='#70b3f0'\n",
    "    )\n",
    "    ax.set_xlabel('cant lluvia', fontsize=10)\n",
    "    ax.set_ylabel('total ovinos', fontsize=10)\n",
    "    ax.set_zlabel('kilos lana', fontsize=10)\n",
    "    ax.locator_params(nbins=4, axis='x')\n",
    "    ax.locator_params(nbins=5, axis='x')\n",
    "\n",
    "ax1.view_init(elev=28, azim=120)\n",
    "ax2.view_init(elev=4, azim=114)\n",
    "ax3.view_init(elev=60, azim=165)\n",
    "\n",
    "fig.suptitle('$R^2 = %.2f$' % r2, fontsize=20)\n",
    "\n",
    "fig.tight_layout()"
   ]
  },
  {
   "cell_type": "markdown",
   "id": "cadc4724",
   "metadata": {},
   "source": [
    "Se observa que los datos no se ajustan perfectamente al plano, lo que va acorde con la información extraida de las métricas."
   ]
  },
  {
   "cell_type": "markdown",
   "id": "c77facc3",
   "metadata": {},
   "source": [
    "#### Gráfico predicción vs real"
   ]
  },
  {
   "cell_type": "markdown",
   "id": "8a99a910",
   "metadata": {},
   "source": [
    "A continuación, se va a generar un gráfico 2D para comparar los datos reales con la predicción realizada por el modelo."
   ]
  },
  {
   "cell_type": "code",
   "execution_count": null,
   "id": "23c52a15",
   "metadata": {},
   "outputs": [],
   "source": [
    "plt.plot(range(len(y_test)),y_test,label=\"Real\")\n",
    "plt.plot(range(len(pred_model_lana)),pred_model_lana,label=\"Prediccion\")\n",
    "plt.rcParams['figure.figsize'] = (16, 9)\n",
    "plt.style.use('ggplot')\n",
    "plt.xlabel('Muestras')\n",
    "plt.ylabel('Kilos lana')\n",
    "plt.legend()\n",
    "plt.show() "
   ]
  },
  {
   "cell_type": "markdown",
   "id": "cf582596",
   "metadata": {},
   "source": [
    "Podemos observar que la línea roja que representa los valores reales y la línea azul que representa la predicción del modelo tienen una tendencia similar, sin embargo, existen algunas desviaciones. Esto sugiere que el modelo no está sobreajustando los datos de entrenamiento y es más probable que tenga un mejor desempeño al predecir valores para nuevos datos."
   ]
  }
 ],
 "metadata": {
  "colab": {
   "provenance": []
  },
  "kernelspec": {
   "display_name": "Python 3 (ipykernel)",
   "language": "python",
   "name": "python3"
  },
  "language_info": {
   "codemirror_mode": {
    "name": "ipython",
    "version": 3
   },
   "file_extension": ".py",
   "mimetype": "text/x-python",
   "name": "python",
   "nbconvert_exporter": "python",
   "pygments_lexer": "ipython3",
   "version": "3.9.7"
  },
  "toc": {
   "base_numbering": 1,
   "nav_menu": {},
   "number_sections": true,
   "sideBar": true,
   "skip_h1_title": false,
   "title_cell": "Table of Contents",
   "title_sidebar": "Contents",
   "toc_cell": false,
   "toc_position": {},
   "toc_section_display": true,
   "toc_window_display": false
  }
 },
 "nbformat": 4,
 "nbformat_minor": 5
}
