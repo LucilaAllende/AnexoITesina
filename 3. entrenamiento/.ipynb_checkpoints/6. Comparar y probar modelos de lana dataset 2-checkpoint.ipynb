{
 "cells": [
  {
   "cell_type": "markdown",
   "id": "c50371a6",
   "metadata": {},
   "source": [
    "# Comparar y probar modelos de lana - Dataset 2"
   ]
  },
  {
   "cell_type": "markdown",
   "id": "3be74c95",
   "metadata": {},
   "source": [
    "Al llegar acá contamos con 4 modelos para comparar, sin embargo se elimino como candidato al modelo entrenado con los datos escalados, dado que no aportaba nada en comparación con su igual sin escalar. Por lo tanto la comparación se va a realizar sobre los 3 modelos restantes.\n",
    "\n",
    "Recordemos que:\n",
    "- El modelo 1 se entreno con el primer dataset a nivel departamental de Chubut, tener en cuenta que está incluido en el dataset siguiente.\n",
    "- El modelo 2 se entreno con el dataset a nivel departamental de Chubut mas los datos del Mirabueno, que es el vamos a estar probando en este Jupyte .\n",
    "- El modelo 3 se entreno con el dataset actualizado a nivel departamental de Chubut.\n",
    "\n",
    "Para hacer la comparación se van a tomar las siguientes reglas:\n",
    "- Si el score es menor a 0, es decir valores negativos, se le va a restar 1.\n",
    "- Si el score es menor a 0.60, se le va a restar 0.5.\n",
    "- Si el score es mayor a 0.60, se le va a sumar 1.\n",
    "- Se le va a sumar un punto a aquel modelo que funcione mejor.\n",
    "- Se le va a restar 0.25 a aquel modelo que puede conocer los datos debido a que fue entrenado por ese dataset, recordemos que en este punto cada modelo solo conoce el 80% de su dataset de entrenamiento.\n",
    "\n",
    "Dado que el modelo 1 se entreno con un dataset parecido al de este Jupyter, se lo va a penalizar con 0.2."
   ]
  },
  {
   "cell_type": "markdown",
   "id": "dedf88b4",
   "metadata": {},
   "source": [
    "En la siguiente celda de código, se importarán varias librerías, entre ellas:\n",
    "\n",
    "- Pandas para manejar los datos a través de DataFrames.\n",
    "- Matplotlib y Seaborn se utilizarán para visualizar los resultados de las predicciones mediante gráficos.\n",
    "- De Scikit-learn se utilizarán la  métricas **r2_score**.\n",
    "- Por último, se usará load_pickle para recuperar el modelo entrenado guardado previamente."
   ]
  },
  {
   "cell_type": "code",
   "execution_count": 2,
   "id": "59b49ba5",
   "metadata": {},
   "outputs": [],
   "source": [
    "import pandas as pd\n",
    "import seaborn as sns\n",
    "import matplotlib.pyplot as plt\n",
    "from sklearn.metrics import r2_score\n",
    "from statsmodels.iolib.smpickle import load_pickle"
   ]
  },
  {
   "cell_type": "markdown",
   "id": "dc0ce9e2",
   "metadata": {},
   "source": [
    "Primero cargaremos los tres modelos para luego probarlos con datos. "
   ]
  },
  {
   "cell_type": "code",
   "execution_count": 3,
   "id": "9ebccfac",
   "metadata": {},
   "outputs": [],
   "source": [
    "modelo_lana_1 = load_pickle('modelos/modelo_prediccion_lana_1')\n",
    "modelo_lana_2 = load_pickle('modelos/modelo_prediccion_lana_2')\n",
    "modelo_lana_3 = load_pickle('modelos/modelo_prediccion_lana_3')"
   ]
  },
  {
   "cell_type": "markdown",
   "id": "27bb51a3",
   "metadata": {},
   "source": [
    "## Pruebas con dos tuplas"
   ]
  },
  {
   "cell_type": "markdown",
   "id": "af1302f3",
   "metadata": {},
   "source": [
    "La idea acá es simular que un productor cuenta con dos años de datos respecto a la lluvia y al total de ovinos. Entonces le pasamos ambos datos al modelo, y con ellos hace la predicción, dándonos los kilos de lana, dato que también conocemos y nos sirve para comparar el valor real con el valor predicho. "
   ]
  },
  {
   "cell_type": "markdown",
   "id": "b0594d2d",
   "metadata": {},
   "source": [
    "### Prueba 1"
   ]
  },
  {
   "cell_type": "markdown",
   "id": "75d04539",
   "metadata": {},
   "source": [
    "Se tomaron dos observaciones del año 2013 y 2014 correspondientes a Mirabueno. \n",
    "\n",
    "| total_ovinos | cant_lluvia | kilos_lana |\n",
    "| --- | --- | --- |\n",
    "| 2096 | 197.6 | 9892.0 |\n",
    "| 2908 | 187.2 | 649130.0 |"
   ]
  },
  {
   "cell_type": "markdown",
   "id": "4347ccc4",
   "metadata": {},
   "source": [
    "Vamos a realizar una predicción para cada modelo y ver cual es su score con estos datos."
   ]
  },
  {
   "cell_type": "code",
   "execution_count": 4,
   "id": "f9b31552",
   "metadata": {},
   "outputs": [],
   "source": [
    "resultado_prediccion_1 = modelo_lana_1.predict([[197.6,2096], [187.2,2908]])"
   ]
  },
  {
   "cell_type": "code",
   "execution_count": 5,
   "id": "76d2d8fa",
   "metadata": {},
   "outputs": [],
   "source": [
    "resultado_prediccion_2 = modelo_lana_2.predict([[197.6,2096], [187.2,2908]])"
   ]
  },
  {
   "cell_type": "code",
   "execution_count": 6,
   "id": "d5b01a54",
   "metadata": {},
   "outputs": [],
   "source": [
    "resultado_prediccion_3 = modelo_lana_3.predict([[197.6,2096], [187.2,2908]])"
   ]
  },
  {
   "cell_type": "code",
   "execution_count": 7,
   "id": "9b45f436",
   "metadata": {},
   "outputs": [],
   "source": [
    "dato_real =[[9892.0],[10510.0]]"
   ]
  },
  {
   "cell_type": "code",
   "execution_count": 8,
   "id": "833d274b",
   "metadata": {},
   "outputs": [
    {
     "data": {
      "text/plain": [
       "'Score o R2 de la predicción 1: -18190.53'"
      ]
     },
     "execution_count": 8,
     "metadata": {},
     "output_type": "execute_result"
    }
   ],
   "source": [
    "'Score o R2 de la predicción 1: {:.2f}'.format(r2_score(dato_real, resultado_prediccion_1))"
   ]
  },
  {
   "cell_type": "code",
   "execution_count": 9,
   "id": "b81d6f86",
   "metadata": {},
   "outputs": [
    {
     "data": {
      "text/plain": [
       "'Score o R2 de la predicción 2: -144.22'"
      ]
     },
     "execution_count": 9,
     "metadata": {},
     "output_type": "execute_result"
    }
   ],
   "source": [
    "'Score o R2 de la predicción 2: {:.2f}'.format(r2_score(dato_real, resultado_prediccion_2))"
   ]
  },
  {
   "cell_type": "code",
   "execution_count": 10,
   "id": "5244ef2e",
   "metadata": {},
   "outputs": [
    {
     "data": {
      "text/plain": [
       "'Score o R2 de la predicción 3: -2981.53'"
      ]
     },
     "execution_count": 10,
     "metadata": {},
     "output_type": "execute_result"
    }
   ],
   "source": [
    "'Score o R2 de la predicción 3: {:.2f}'.format(r2_score(dato_real, resultado_prediccion_3))"
   ]
  },
  {
   "cell_type": "markdown",
   "id": "ef035608",
   "metadata": {},
   "source": [
    "Se observa que ningún modelo lográ predecir correctamente estos datos según el R2."
   ]
  },
  {
   "cell_type": "markdown",
   "id": "a4acb916",
   "metadata": {},
   "source": [
    "Vamos a graficar estos resultados para ver que tan alejadas están las líneas visualmente."
   ]
  },
  {
   "cell_type": "code",
   "execution_count": 11,
   "id": "2712f1a8",
   "metadata": {},
   "outputs": [
    {
     "data": {
      "image/png": "[encoded data removed]",
      "text/plain": [
       "<Figure size 1152x648 with 1 Axes>"
      ]
     },
     "metadata": {},
     "output_type": "display_data"
    }
   ],
   "source": [
    "plt.rcParams['figure.figsize'] = (16, 9)\n",
    "plt.style.use('ggplot')\n",
    "plt.plot(range(len(dato_real)),dato_real,label=\"Real\")\n",
    "plt.plot(range(len(resultado_prediccion_1)),resultado_prediccion_1,label=\"Prediccion 1\")\n",
    "plt.plot(range(len(resultado_prediccion_2)),resultado_prediccion_2,label=\"Prediccion 2\")\n",
    "plt.plot(range(len(resultado_prediccion_3)),resultado_prediccion_3,label=\"Prediccion 3\")\n",
    "plt.xlabel('muestras')\n",
    "plt.ylabel('kilos lana')\n",
    "plt.legend()\n",
    "plt.show()"
   ]
  },
  {
   "cell_type": "markdown",
   "id": "bbc3a054",
   "metadata": {},
   "source": [
    "Los gráficos nos muestran lo que nos indicaban las métricas, los modelos no logran predecir estos datos dado que las tres lineas de predicción no se ajustan a la real. \n",
    "\n",
    "Entonces el \"mejor modelo\" resulta ser el 2, seguido por el 3 y el que peor predice es el 1. \n",
    "\n",
    "| Modelo | Puntaje positvo | Puntaje negativo | Total |\n",
    "| --- | --- | --- | --- |\n",
    "| 1 | 0 | -1.20 | -1.20 |\n",
    "| 2 | 0 | -1.25 | -1.25 |\n",
    "| 3 | 0 | -1 | -1.00 |"
   ]
  },
  {
   "cell_type": "markdown",
   "id": "5052a5f8",
   "metadata": {},
   "source": [
    "### Prueba 2"
   ]
  },
  {
   "cell_type": "markdown",
   "id": "8ca14f6d",
   "metadata": {},
   "source": [
    "Se tomaron dos obsevaciones correspondientes a Biedma del 2014 y a Florentino Ameghino del 2013.\n",
    "\n",
    "| total_ovinos | cant_lluvia | kilos_lana |\n",
    "| --- | --- | --- |\n",
    "| 181925 | 331.3 | 649130.0 |\n",
    "| 284639 | 135.5 | 1143408.0 |"
   ]
  },
  {
   "cell_type": "markdown",
   "id": "b041f70f",
   "metadata": {},
   "source": [
    "Vamos a realizar una predicción para cada modelo y ver cual es su score con estos datos."
   ]
  },
  {
   "cell_type": "code",
   "execution_count": 12,
   "id": "2b1a36b0",
   "metadata": {},
   "outputs": [],
   "source": [
    "resultado_prediccion_1 = modelo_lana_1.predict([[331.3,181925], [135.5,284639]])"
   ]
  },
  {
   "cell_type": "code",
   "execution_count": 13,
   "id": "02c24744",
   "metadata": {},
   "outputs": [],
   "source": [
    "resultado_prediccion_2 = modelo_lana_2.predict([[331.3,181925], [135.5,284639]])"
   ]
  },
  {
   "cell_type": "code",
   "execution_count": 14,
   "id": "619fb692",
   "metadata": {},
   "outputs": [],
   "source": [
    "resultado_prediccion_3 = modelo_lana_3.predict([[331.3,181925], [135.5,284639]])"
   ]
  },
  {
   "cell_type": "code",
   "execution_count": 15,
   "id": "aa1bab4d",
   "metadata": {},
   "outputs": [],
   "source": [
    "dato_real =[[649130.0],[1143408.0]]"
   ]
  },
  {
   "cell_type": "code",
   "execution_count": 16,
   "id": "896c358f",
   "metadata": {},
   "outputs": [
    {
     "data": {
      "text/plain": [
       "'Score o R2 de la predicción 1: 0.93'"
      ]
     },
     "execution_count": 16,
     "metadata": {},
     "output_type": "execute_result"
    }
   ],
   "source": [
    "'Score o R2 de la predicción 1: {:.2f}'.format(r2_score(dato_real, resultado_prediccion_1))"
   ]
  },
  {
   "cell_type": "code",
   "execution_count": 17,
   "id": "cd9d1541",
   "metadata": {},
   "outputs": [
    {
     "data": {
      "text/plain": [
       "'Score o R2 de la predicción 2: 0.94'"
      ]
     },
     "execution_count": 17,
     "metadata": {},
     "output_type": "execute_result"
    }
   ],
   "source": [
    "'Score o R2 de la predicción 2: {:.2f}'.format(r2_score(dato_real, resultado_prediccion_2))"
   ]
  },
  {
   "cell_type": "code",
   "execution_count": 18,
   "id": "b21ca75a",
   "metadata": {},
   "outputs": [
    {
     "data": {
      "text/plain": [
       "'Score o R2 de la predicción 3: 0.86'"
      ]
     },
     "execution_count": 18,
     "metadata": {},
     "output_type": "execute_result"
    }
   ],
   "source": [
    "'Score o R2 de la predicción 3: {:.2f}'.format(r2_score(dato_real, resultado_prediccion_3))"
   ]
  },
  {
   "cell_type": "markdown",
   "id": "c76c4f29",
   "metadata": {},
   "source": [
    "Se observa que todos los modelos logran predecir correctamente estos datos según el R2."
   ]
  },
  {
   "cell_type": "markdown",
   "id": "745658fd",
   "metadata": {},
   "source": [
    "Vamos a graficar estos resultados para ver que tan alejadas están las líneas visualmente."
   ]
  },
  {
   "cell_type": "code",
   "execution_count": 19,
   "id": "9f32d6ef",
   "metadata": {},
   "outputs": [
    {
     "data": {
      "image/png": "[encoded data removed]",
      "text/plain": [
       "<Figure size 1152x648 with 1 Axes>"
      ]
     },
     "metadata": {},
     "output_type": "display_data"
    }
   ],
   "source": [
    "plt.rcParams['figure.figsize'] = (16, 9)\n",
    "plt.style.use('ggplot')\n",
    "plt.plot(range(len(dato_real)),dato_real,label=\"Real\")\n",
    "plt.plot(range(len(resultado_prediccion_1)),resultado_prediccion_1,label=\"Prediccion 1\")\n",
    "plt.plot(range(len(resultado_prediccion_2)),resultado_prediccion_2,label=\"Prediccion 2\")\n",
    "plt.plot(range(len(resultado_prediccion_3)),resultado_prediccion_3,label=\"Prediccion 3\")\n",
    "plt.xlabel('muestras')\n",
    "plt.ylabel('kilos lana')\n",
    "plt.legend()\n",
    "plt.show()"
   ]
  },
  {
   "cell_type": "markdown",
   "id": "96212045",
   "metadata": {},
   "source": [
    "Los gráficos nos muestran lo que nos indicaban las métricas, los modelos logran predecir estos datos.\n",
    "\n",
    "Entonces el mejor modelo resulta ser el 2, seguido por el 1 y el que peor predice es el 3. \n",
    "\n",
    "| Modelo | Puntaje positvo | Puntaje negativo | Total |\n",
    "| --- | --- | --- | --- |\n",
    "| 1 | 1 | -0.20 | -0.4 |\n",
    "| 2 | 2 | -0.25 | 0.5 |\n",
    "| 3 | 1 | 0 | 0.0 |"
   ]
  },
  {
   "cell_type": "markdown",
   "id": "eb114c43",
   "metadata": {},
   "source": [
    "### Prueba 3"
   ]
  },
  {
   "cell_type": "markdown",
   "id": "11431772",
   "metadata": {},
   "source": [
    "Se tomaron dos obsevaciones correspondientes a Mirabueno del 2012 y 2009.\n",
    "\n",
    "| total_ovinos | cant_lluvia | kilos_lana |\n",
    "| --- | --- | --- |\n",
    "| 2051 | 168.5 | 8739.0 |\n",
    "| 1828 | 171.8 | 8376.0 |"
   ]
  },
  {
   "cell_type": "markdown",
   "id": "2c6f0e1d",
   "metadata": {},
   "source": [
    "Vamos a realizar una predicción para cada modelo y ver cual es su score con estos datos."
   ]
  },
  {
   "cell_type": "code",
   "execution_count": 20,
   "id": "78048c87",
   "metadata": {},
   "outputs": [],
   "source": [
    "resultado_prediccion_1 = modelo_lana_1.predict([[168.5,2051], [171.8,1828]])"
   ]
  },
  {
   "cell_type": "code",
   "execution_count": 21,
   "id": "0105ed3c",
   "metadata": {},
   "outputs": [],
   "source": [
    "resultado_prediccion_2 = modelo_lana_2.predict([[168.5,2051], [171.8,1828]])"
   ]
  },
  {
   "cell_type": "code",
   "execution_count": 22,
   "id": "d2ed5d3b",
   "metadata": {},
   "outputs": [],
   "source": [
    "resultado_prediccion_3 = modelo_lana_3.predict([[168.5,2051], [171.8,1828]])"
   ]
  },
  {
   "cell_type": "code",
   "execution_count": 23,
   "id": "211516e7",
   "metadata": {},
   "outputs": [],
   "source": [
    "dato_real =[[8739.0],[8376.0]]"
   ]
  },
  {
   "cell_type": "code",
   "execution_count": 24,
   "id": "3193082c",
   "metadata": {},
   "outputs": [
    {
     "data": {
      "text/plain": [
       "'Score o R2 de la predicción 1: -51356.18'"
      ]
     },
     "execution_count": 24,
     "metadata": {},
     "output_type": "execute_result"
    }
   ],
   "source": [
    "'Score o R2 de la predicción 1: {:.2f}'.format(r2_score(dato_real, resultado_prediccion_1))"
   ]
  },
  {
   "cell_type": "code",
   "execution_count": 25,
   "id": "cf6eceb6",
   "metadata": {},
   "outputs": [
    {
     "data": {
      "text/plain": [
       "'Score o R2 de la predicción 2: -942.29'"
      ]
     },
     "execution_count": 25,
     "metadata": {},
     "output_type": "execute_result"
    }
   ],
   "source": [
    "'Score o R2 de la predicción 2: {:.2f}'.format(r2_score(dato_real, resultado_prediccion_2))"
   ]
  },
  {
   "cell_type": "code",
   "execution_count": 26,
   "id": "0a963be3",
   "metadata": {},
   "outputs": [
    {
     "data": {
      "text/plain": [
       "'Score o R2 de la predicción 3: -8227.13'"
      ]
     },
     "execution_count": 26,
     "metadata": {},
     "output_type": "execute_result"
    }
   ],
   "source": [
    "'Score o R2 de la predicción 3: {:.2f}'.format(r2_score(dato_real, resultado_prediccion_3))"
   ]
  },
  {
   "cell_type": "markdown",
   "id": "3c07c221",
   "metadata": {},
   "source": [
    "Se observa que ningún modelo lográ predecir correctamente estos datos según el R2."
   ]
  },
  {
   "cell_type": "markdown",
   "id": "8378eb1e",
   "metadata": {},
   "source": [
    "Vamos a graficar estos resultados para ver que tan alejadas están las líneas visualmente."
   ]
  },
  {
   "cell_type": "code",
   "execution_count": 27,
   "id": "18f8ab0b",
   "metadata": {},
   "outputs": [
    {
     "data": {
      "image/png": "[encoded data removed]",
      "text/plain": [
       "<Figure size 1152x648 with 1 Axes>"
      ]
     },
     "metadata": {},
     "output_type": "display_data"
    }
   ],
   "source": [
    "plt.rcParams['figure.figsize'] = (16, 9)\n",
    "plt.style.use('ggplot')\n",
    "plt.plot(range(len(dato_real)),dato_real,label=\"Real\")\n",
    "plt.plot(range(len(resultado_prediccion_1)),resultado_prediccion_1,label=\"Prediccion 1\")\n",
    "plt.plot(range(len(resultado_prediccion_2)),resultado_prediccion_2,label=\"Prediccion 2\")\n",
    "plt.plot(range(len(resultado_prediccion_3)),resultado_prediccion_3,label=\"Prediccion 3\")\n",
    "plt.xlabel('muestras')\n",
    "plt.ylabel('kilos lana')\n",
    "plt.legend()\n",
    "plt.show()"
   ]
  },
  {
   "cell_type": "markdown",
   "id": "ac69a566",
   "metadata": {},
   "source": [
    "Los gráficos nos muestran lo que nos indicaban las métricas, los modelos no logran predecir estos datos dado que las tres lineas de predicción no se ajustan a la real. \n",
    "\n",
    "Entonces el \"mejor modelo\" resulta ser el 2, seguido por el 3 y el que peor predice es el 1.\n",
    "\n",
    "| Modelo | Puntaje positvo | Puntaje negativo | Total |\n",
    "| --- | --- | --- | --- |\n",
    "| 1 | 0 | -1.20 | -1.60 |\n",
    "| 2 | 1 | -1.25 | 0.25 |\n",
    "| 3 | 0 | -1.00 | -1.00 |"
   ]
  },
  {
   "cell_type": "markdown",
   "id": "b963c4a7",
   "metadata": {},
   "source": [
    "## Pruebas con una tupla"
   ]
  },
  {
   "cell_type": "markdown",
   "id": "96f6e6b8",
   "metadata": {},
   "source": [
    "La idea acá es simular que un productor cuenta con los datos de la lluvia y el total de ovinos, del año actual respectivo. Entonces le pasamos ambos datos al modelo, y con ellos hace la predicción para ese año, dándonos los kilos de lana, dato que también conocemos y nos sirve para comparar el valor real con el valor predicho."
   ]
  },
  {
   "cell_type": "markdown",
   "id": "fde9a622",
   "metadata": {},
   "source": [
    "### Prueba 1"
   ]
  },
  {
   "cell_type": "markdown",
   "id": "6b4adaf2",
   "metadata": {},
   "source": [
    "Se tomo una observación del dataset correspondiente a Mirabueno del 2016."
   ]
  },
  {
   "cell_type": "markdown",
   "id": "77e5cc1e",
   "metadata": {},
   "source": [
    "| total_ovinos | cant_lluvia | kilos_lana |\n",
    "| --- | --- | --- |\n",
    "| 4409 | 218.0 | 10990.0 |"
   ]
  },
  {
   "cell_type": "code",
   "execution_count": 28,
   "id": "b03ed977",
   "metadata": {},
   "outputs": [],
   "source": [
    "dato_real = 10990.0"
   ]
  },
  {
   "cell_type": "code",
   "execution_count": 29,
   "id": "fc1a11f5",
   "metadata": {},
   "outputs": [
    {
     "data": {
      "text/plain": [
       "-36313.51"
      ]
     },
     "execution_count": 29,
     "metadata": {},
     "output_type": "execute_result"
    }
   ],
   "source": [
    "resultado_prediccion_1 = modelo_lana_1.predict([[218.0,4409]])\n",
    "round(resultado_prediccion_1[0][0] - dato_real,2)"
   ]
  },
  {
   "cell_type": "code",
   "execution_count": 30,
   "id": "3dccde3e",
   "metadata": {},
   "outputs": [
    {
     "data": {
      "text/plain": [
       "6329.71"
      ]
     },
     "execution_count": 30,
     "metadata": {},
     "output_type": "execute_result"
    }
   ],
   "source": [
    "resultado_prediccion_2 = modelo_lana_2.predict([[218.0,4409]])\n",
    "round(resultado_prediccion_2[0][0] - dato_real,2)"
   ]
  },
  {
   "cell_type": "code",
   "execution_count": 31,
   "id": "8970e0bb",
   "metadata": {},
   "outputs": [
    {
     "data": {
      "text/plain": [
       "-11584.87"
      ]
     },
     "execution_count": 31,
     "metadata": {},
     "output_type": "execute_result"
    }
   ],
   "source": [
    "resultado_prediccion_3 = modelo_lana_3.predict([[218.0,4409]])\n",
    "round(resultado_prediccion_3[0][0] - dato_real,2)"
   ]
  },
  {
   "cell_type": "markdown",
   "id": "a7e68edb",
   "metadata": {},
   "source": [
    "En estos tres resultados, vemos que el modelo predijo kilogramos de lana demás y de menos, es decir el modelo 1 le falto 36313.51 kgs, el modelo 2 se paso por 6329.71 kgs y el modelo 3 le falto 11584.87 kgs."
   ]
  },
  {
   "cell_type": "code",
   "execution_count": 32,
   "id": "55300a2a",
   "metadata": {},
   "outputs": [
    {
     "data": {
      "image/png": "[encoded data removed]",
      "text/plain": [
       "<Figure size 1152x648 with 1 Axes>"
      ]
     },
     "metadata": {},
     "output_type": "display_data"
    }
   ],
   "source": [
    "plt.rcParams['figure.figsize'] = (16, 9)\n",
    "plt.style.use('ggplot')\n",
    "plt.scatter(y=dato_real, x=1, label=\"Real\")\n",
    "plt.scatter(y=resultado_prediccion_1,x=1, label=\"Prediccion 1\")\n",
    "plt.scatter(y=resultado_prediccion_2,x=1, label=\"Prediccion 2\")\n",
    "plt.scatter(y=resultado_prediccion_3,x=1, label=\"Prediccion 3\")\n",
    "plt.xlabel('muestras')\n",
    "plt.ylabel('kilos lana')\n",
    "plt.legend()\n",
    "plt.show()"
   ]
  },
  {
   "cell_type": "markdown",
   "id": "c19dd3a1",
   "metadata": {},
   "source": [
    "El mejor modelo resulta ser el 2, seguido por el 3 y por último el 1. Cómo acá no se puede calcular el R2, por estar trabajando con un solo dato, solo se va a tener en cuenta cuál es el modelo que esta mas cerca del dato real.\n",
    "\n",
    "| Modelo | Puntaje positvo | Puntaje negativo | Total |\n",
    "| --- | --- | --- | --- |\n",
    "| 1 | 0 | -0.20 | -1.8 |\n",
    "| 2 | 1 | -0.25 | 1.0 |\n",
    "| 3 | 0 | 0 | -1.0 |"
   ]
  },
  {
   "cell_type": "markdown",
   "id": "5f0161f3",
   "metadata": {},
   "source": [
    "## Resultados"
   ]
  },
  {
   "cell_type": "markdown",
   "id": "66185b93",
   "metadata": {},
   "source": [
    "No hay un modelo que funcione, la idea era ver si estos modelos podían predecir la producción de lana de un campo de la región sin tener muchos datos respecto a ellos, y la respuesta fue que no. "
   ]
  }
 ],
 "metadata": {
  "kernelspec": {
   "display_name": "Python 3 (ipykernel)",
   "language": "python",
   "name": "python3"
  },
  "language_info": {
   "codemirror_mode": {
    "name": "ipython",
    "version": 3
   },
   "file_extension": ".py",
   "mimetype": "text/x-python",
   "name": "python",
   "nbconvert_exporter": "python",
   "pygments_lexer": "ipython3",
   "version": "3.9.7"
  },
  "toc": {
   "base_numbering": 1,
   "nav_menu": {},
   "number_sections": true,
   "sideBar": true,
   "skip_h1_title": false,
   "title_cell": "Table of Contents",
   "title_sidebar": "Contents",
   "toc_cell": false,
   "toc_position": {},
   "toc_section_display": true,
   "toc_window_display": false
  }
 },
 "nbformat": 4,
 "nbformat_minor": 5
}
