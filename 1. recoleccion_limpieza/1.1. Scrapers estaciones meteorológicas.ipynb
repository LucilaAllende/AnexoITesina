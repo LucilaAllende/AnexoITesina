{
 "cells": [
  {
   "attachments": {},
   "cell_type": "markdown",
   "id": "9cc099d1",
   "metadata": {},
   "source": [
    "# 1.1. Scrapers estaciones meteorológicas"
   ]
  },
  {
   "cell_type": "markdown",
   "id": "5c854d47",
   "metadata": {},
   "source": [
    "La siguiente celda importa varios módulos y bibliotecas de Python necesarios para llevar a cabo tareas de web scraping y manejo de datos. En resumen:\n",
    "\n",
    "- `selenium`: una biblioteca de Python para automatizar la navegación web.\n",
    "- `pandas`: una biblioteca de Python para la manipulación de datos.\n",
    "- `unicodedata`: una biblioteca de Python para trabajar con caracteres Unicode.\n",
    "- `logging`: una biblioteca de Python para la generación de registros (logs).\n",
    "- `time`: una biblioteca de Python para el manejo del tiempo.\n",
    "- `os`: una biblioteca de Python para interactuar con el sistema operativo.\n",
    "\n",
    "Además, se define una excepción personalizada para detectar cuándo un elemento no existe en la página web (`NoSuchElementException`), se configura el driver de Chrome para que se descargue automáticamente (`ChromeDriverManager`), se establecen opciones de configuración para el driver de Chrome (`Options`), se importa el servicio para ejecutar el driver de Chrome (`Service`) y se define el formato de fecha y hora utilizado en los registros (`datetime`).\n"
   ]
  },
  {
   "cell_type": "code",
   "execution_count": 1,
   "id": "71d7df5c",
   "metadata": {},
   "outputs": [],
   "source": [
    "from selenium.webdriver.support import expected_conditions as EC\n",
    "from selenium.common.exceptions import NoSuchElementException\n",
    "from webdriver_manager.chrome import ChromeDriverManager\n",
    "from selenium.webdriver.support.ui import WebDriverWait\n",
    "from selenium.webdriver.chrome.options import Options\n",
    "from selenium.webdriver.chrome.service import Service\n",
    "from selenium.webdriver.common.by import By\n",
    "from selenium import webdriver\n",
    "from datetime import datetime\n",
    "\n",
    "import pandas as pd\n",
    "import unicodedata\n",
    "import logging\n",
    "import time\n",
    "import os"
   ]
  },
  {
   "cell_type": "markdown",
   "id": "540ba91a",
   "metadata": {},
   "source": [
    "La siguiente función `log_file_name()` retorna una cadena de texto que representa la ruta del archivo de registro (log) de la información producida por el proceso de scraping. La ruta es construida utilizando el módulo os para acceder a la variable de entorno HOME del sistema operativo y se concatenan diferentes partes de la ruta para crear la ubicación del archivo de registro. El nombre del archivo incluye la fecha y hora actual en el formato \"YYYY-MM-DD_HH:MM:SS\" para identificar de forma única cada archivo generado."
   ]
  },
  {
   "cell_type": "code",
   "execution_count": 2,
   "id": "72e0c61d",
   "metadata": {},
   "outputs": [],
   "source": [
    "def log_file_name():\n",
    "    timestamp = datetime.now().strftime(\"%Y-%m-%d_%H:%M:%S\")\n",
    "    return f\"{os.getenv('HOME')}/Escritorio/Tesina/Analisis_4.0/datos_clima/logs/scraping-sipas-{timestamp}.log\""
   ]
  },
  {
   "cell_type": "markdown",
   "id": "91b97316",
   "metadata": {},
   "source": [
    "La función `pasar_a_texto_elemento` toma como entrada un objeto `elemento` y utiliza el método `get_attribute` para obtener el texto contenido en el atributo `innerText`. A continuación, utiliza la función `unicodedata.normalize` con el parámetro `'NFKC'` para normalizar el texto, es decir, para eliminar cualquier carácter especial o símbolo que pueda aparecer en el texto, como espacios en blanco adicionales o caracteres unicode no reconocidos. Finalmente, devuelve el texto normalizado como una cadena de caracteres."
   ]
  },
  {
   "cell_type": "code",
   "execution_count": 3,
   "id": "a28107e4",
   "metadata": {},
   "outputs": [],
   "source": [
    "def pasar_a_texto_elemento(elemento):\n",
    "    elemento_texto = elemento.get_attribute('innerText')    \n",
    "    return unicodedata.normalize('NFKC',elemento_texto)"
   ]
  },
  {
   "cell_type": "markdown",
   "id": "8b7ea48b",
   "metadata": {},
   "source": [
    "La función `configurar_web_driver` configura el objeto webdriver.Chrome para usarlo en la automatización del navegador web Google Chrome.\n",
    "\n",
    "Primero, se crea un objeto `Options` para definir las opciones de configuración de Chrome. En este caso, se establece `options.headless = True` para ejecutar el navegador en modo sin cabeza (headless), es decir, sin abrir la interfaz gráfica del navegador, y se establece la dimensión de la ventana con `options.add_argument(\"--window-size=1920,1200\")`.\n",
    "\n",
    "Luego, se define un objeto `handlers` que contiene un `logging.FileHandler` para escribir los mensajes de registro en un archivo de registro en disco y un `logging.StreamHandler` para mostrar los mensajes en la consola.\n",
    "\n",
    "Por último, se llama al constructor de `webdriver.Chrome`, se instala el driver de Chrome mediante `ChromeDriverManager().install()`, se pasan las opciones definidas anteriormente y se retorna el objeto `webdriver.Chrome` configurado."
   ]
  },
  {
   "cell_type": "code",
   "execution_count": 4,
   "id": "45d22309",
   "metadata": {},
   "outputs": [],
   "source": [
    "def configurar_web_driver():\n",
    "    options = Options()\n",
    "    options.headless = True\n",
    "    options.add_argument(\"--window-size=1920,1200\")\n",
    "    handlers = [logging.FileHandler(log_file_name()), logging.StreamHandler()]\n",
    "    logging.basicConfig(\n",
    "        format='%(asctime)s - %(message)s',\n",
    "        level=logging.INFO, handlers=handlers\n",
    "    )\n",
    "    return webdriver.Chrome(\n",
    "        service=Service(ChromeDriverManager().install()), \n",
    "        options=options\n",
    "    )"
   ]
  },
  {
   "cell_type": "markdown",
   "id": "167836ba",
   "metadata": {},
   "source": [
    "Existen 60 estaciones sin embargo cada sonda tenía una ID que no necesariamente se correspondía con el número de sondas disponibles, lo que resultó en algunas sondas con números de ID mayores al total de 60 sondas. Para abordar este problema, se recorrió un rango de números que iba del 1 al 72 para recopilar los datos de cada una de las 60 sondas disponibles."
   ]
  },
  {
   "cell_type": "code",
   "execution_count": 5,
   "id": "3a6c9d16",
   "metadata": {},
   "outputs": [],
   "source": [
    "numero_estaciones = 71 # De 1-71 "
   ]
  },
  {
   "cell_type": "markdown",
   "id": "265b6e8d",
   "metadata": {},
   "source": [
    "La función `obtener_datos_para_url` recibe un objeto `driver` y una URL. Luego, itera sobre una serie de números de estación y reemplaza el identificador \"idNum\" en la URL con el número de estación actual para acceder a la página web correspondiente a cada estación meteorológica.\n",
    "\n",
    "Una vez en la página web, espera hasta que el elemento de la tabla esté cargado y luego obtiene la cabecera de la tabla si aún no se ha obtenido. Luego, busca la estación meteorológica y los datos correspondientes en la tabla y los agrega a un DataFrame que contiene los datos para todas las estaciones.\n",
    "\n",
    "La función utiliza la librería `logging` para imprimir información sobre el progreso de la iteración. Además, utiliza la función `pasar_a_texto_elemento` para obtener el texto de cada elemento HTML y normalizarlo en Unicode."
   ]
  },
  {
   "cell_type": "code",
   "execution_count": 12,
   "id": "a7cdf02c",
   "metadata": {},
   "outputs": [],
   "source": [
    "def obtener_datos_para_url(driver, url):\n",
    "    cabecera_df=['Estación']\n",
    "    datos_df=[]\n",
    "    cantidad_elementos_cabecera = 15\n",
    "    for numero_estacion in range(1,numero_estaciones):\n",
    "        logging.info(f\"Número estación: {numero_estacion}\")\n",
    "        url_estacion = url['url'].replace('idNum', str(numero_estacion))\n",
    "        driver.get(url_estacion)\n",
    "        time.sleep(120)\n",
    "        if(numero_estacion==1):\n",
    "            cabecera = driver.find_element(By.XPATH,'//*[@id=\"Contenido\"]/div/table/thead/tr')\n",
    "            elementos_cabecera = cabecera.find_elements(By.XPATH, './/th')\n",
    "            for elemento in elementos_cabecera:\n",
    "                cabecera_df.append(pasar_a_texto_elemento(elemento))\n",
    "        try:\n",
    "            cuerpo = driver.find_element(By.XPATH, '//*[@id=\"Contenido\"]/div/table/tbody[2]')\n",
    "            estacion = pasar_a_texto_elemento(driver.find_element(By.XPATH, '//*[@id=\"Contenido\"]/p/a[2]/span'))\n",
    "            estacion = estacion.replace('Estación meteorologica: ','')\n",
    "            logging.info(f\"Estación: {estacion}\")\n",
    "        except NoSuchElementException:\n",
    "            logging.info(f\"No hay datos\")\n",
    "            continue\n",
    "        anios_elementos = cuerpo.find_elements(By.XPATH, './/tr')\n",
    "        for anio_elemento in anios_elementos:\n",
    "            logging.info(f\"Entre/Cambie de año\")\n",
    "            datos_anio = [estacion]\n",
    "            for indice in range(1,cantidad_elementos_cabecera):\n",
    "                datos_anio.append(pasar_a_texto_elemento(anio_elemento.find_element(By.XPATH, f\".//td[{indice}]\")))\n",
    "            datos_df.append(datos_anio)\n",
    "        time.sleep(30)\n",
    "\n",
    "    return pd.DataFrame(datos_df, columns=cabecera_df)"
   ]
  },
  {
   "cell_type": "markdown",
   "id": "33e8354e",
   "metadata": {},
   "source": [
    "Este código define una lista llamada `urls` que contiene cinco diccionarios. Cada diccionario contiene dos claves: `'url'` y `'filename'`. La clave `'url'` contiene una URL que se utilizará más adelante en el código para obtener datos meteorológicos de una estación específica. La clave `'filename'` contiene el nombre de archivo que se utilizará para guardar los datos obtenidos de esa URL. "
   ]
  },
  {
   "cell_type": "code",
   "execution_count": 14,
   "id": "d9bda239",
   "metadata": {},
   "outputs": [],
   "source": [
    "urls = [\n",
    "{\n",
    "'url': 'https://sipas.inta.gob.ar/?q=agrometeorologia-estadist-temp-min&idEstacion=idNum',\n",
    "'filename': 'temperatura_minima_estaciones.csv'},\n",
    "{\n",
    "'url': 'https://sipas.inta.gob.ar/?q=agrometeorologia-estadist-temp-med&idEstacion=idNum',\n",
    "'filename': 'temperatura_media_estaciones.csv'},\n",
    "{\n",
    "'url': 'https://sipas.inta.gob.ar/?q=agrometeorologia-estadist-temp-max&idEstacion=idNum',\n",
    "'filename': 'temperatura_maxima_estaciones.csv'},\n",
    "{\n",
    "'url': 'https://sipas.inta.gob.ar/?q=agrometeorologia-estadist-hum&idEstacion=idNum',\n",
    "'filename': 'humedad_estaciones.csv'},\n",
    "{\n",
    "'url': 'https://sipas.inta.gob.ar/?q=agrometeorologia-estadist-lluvia&idEstacion=idNum', \n",
    "'filename': 'lluvia_estaciones.csv'\n",
    "}]"
   ]
  },
  {
   "cell_type": "markdown",
   "id": "ac94ea15",
   "metadata": {},
   "source": [
    "El siguiente código utiliza un webdriver para automatizar la descarga de datos de varias estaciones meteorológicas y guardar los datos en archivos CSV.\n",
    "\n",
    "En primer lugar, se llama a la función `configurar_web_driver()` para configurar el webdriver. Luego, se itera sobre una lista de diccionarios `urls`, donde cada elemento del diccionario tiene una URL y un nombre de archivo CSV asociado.\n",
    "\n",
    "Para cada URL en la lista, se llama a la función `obtener_datos_para_url(driver, url)` para extraer los datos de la página web correspondiente utilizando el webdriver. Los datos se almacenan en un DataFrame de pandas y luego se guardan en un archivo CSV con el nombre especificado en el diccionario.\n",
    "\n",
    "Después de procesar todas las URL en la lista, el webdriver se cierra llamando a `driver.quit()`."
   ]
  },
  {
   "cell_type": "code",
   "execution_count": 13,
   "id": "0a772366",
   "metadata": {},
   "outputs": [
    {
     "name": "stdout",
     "output_type": "stream",
     "text": [
      "\n"
     ]
    },
    {
     "name": "stderr",
     "output_type": "stream",
     "text": [
      "[WDM] - ====== WebDriver manager ======\n",
      "2023-04-05 09:09:26,895 - ====== WebDriver manager ======\n",
      "[WDM] - Current google-chrome version is 111.0.5563\n",
      "2023-04-05 09:09:26,926 - Current google-chrome version is 111.0.5563\n",
      "[WDM] - Get LATEST chromedriver version for 111.0.5563 google-chrome\n",
      "2023-04-05 09:09:26,927 - Get LATEST chromedriver version for 111.0.5563 google-chrome\n",
      "[WDM] - Driver [/home/lucila/.wdm/drivers/chromedriver/linux64/111.0.5563.64/chromedriver] found in cache\n",
      "2023-04-05 09:09:27,062 - Driver [/home/lucila/.wdm/drivers/chromedriver/linux64/111.0.5563.64/chromedriver] found in cache\n",
      "2023-04-05 09:09:27,683 - Número estación: 1\n",
      "2023-04-05 09:11:32,582 - Estación: Trelew\n",
      "2023-04-05 09:11:32,590 - Entre/Cambie de año\n",
      "2023-04-05 09:11:32,730 - Entre/Cambie de año\n",
      "2023-04-05 09:11:32,871 - Entre/Cambie de año\n",
      "2023-04-05 09:11:33,015 - Entre/Cambie de año\n",
      "2023-04-05 09:11:33,157 - Entre/Cambie de año\n",
      "2023-04-05 09:11:33,302 - Entre/Cambie de año\n",
      "2023-04-05 09:11:33,449 - Entre/Cambie de año\n",
      "2023-04-05 09:11:33,605 - Entre/Cambie de año\n",
      "2023-04-05 09:11:33,764 - Entre/Cambie de año\n",
      "2023-04-05 09:11:33,925 - Entre/Cambie de año\n",
      "2023-04-05 09:11:34,087 - Entre/Cambie de año\n",
      "2023-04-05 09:11:34,252 - Entre/Cambie de año\n",
      "2023-04-05 09:11:34,419 - Entre/Cambie de año\n",
      "2023-04-05 09:11:34,587 - Entre/Cambie de año\n",
      "2023-04-05 09:11:34,759 - Entre/Cambie de año\n",
      "2023-04-05 09:11:34,931 - Entre/Cambie de año\n",
      "2023-04-05 09:11:35,109 - Entre/Cambie de año\n",
      "2023-04-05 09:11:35,287 - Entre/Cambie de año\n",
      "2023-04-05 09:11:35,466 - Entre/Cambie de año\n",
      "2023-04-05 09:11:35,643 - Entre/Cambie de año\n",
      "2023-04-05 09:11:35,826 - Entre/Cambie de año\n",
      "2023-04-05 09:11:36,011 - Entre/Cambie de año\n",
      "2023-04-05 09:11:36,196 - Entre/Cambie de año\n",
      "2023-04-05 09:11:36,383 - Entre/Cambie de año\n",
      "2023-04-05 09:11:36,575 - Entre/Cambie de año\n",
      "2023-04-05 09:11:36,765 - Entre/Cambie de año\n",
      "2023-04-05 09:11:36,962 - Entre/Cambie de año\n",
      "2023-04-05 09:11:37,158 - Entre/Cambie de año\n",
      "2023-04-05 09:11:37,354 - Entre/Cambie de año\n",
      "2023-04-05 09:11:37,552 - Entre/Cambie de año\n",
      "2023-04-05 09:11:37,754 - Entre/Cambie de año\n",
      "2023-04-05 09:11:37,948 - Entre/Cambie de año\n",
      "2023-04-05 09:11:38,146 - Entre/Cambie de año\n",
      "2023-04-05 09:11:38,346 - Entre/Cambie de año\n",
      "2023-04-05 09:11:38,549 - Entre/Cambie de año\n",
      "2023-04-05 09:11:38,752 - Entre/Cambie de año\n",
      "2023-04-05 09:11:38,962 - Entre/Cambie de año\n",
      "2023-04-05 09:11:39,181 - Entre/Cambie de año\n",
      "2023-04-05 09:11:39,395 - Entre/Cambie de año\n",
      "2023-04-05 09:11:39,619 - Entre/Cambie de año\n",
      "2023-04-05 09:11:39,841 - Entre/Cambie de año\n",
      "2023-04-05 09:11:40,066 - Entre/Cambie de año\n",
      "2023-04-05 09:11:40,287 - Entre/Cambie de año\n",
      "2023-04-05 09:11:40,509 - Entre/Cambie de año\n",
      "2023-04-05 09:11:40,737 - Entre/Cambie de año\n",
      "2023-04-05 09:11:40,968 - Entre/Cambie de año\n",
      "2023-04-05 09:11:41,195 - Entre/Cambie de año\n",
      "2023-04-05 09:11:41,428 - Entre/Cambie de año\n",
      "2023-04-05 09:11:41,666 - Entre/Cambie de año\n",
      "2023-04-05 09:11:41,902 - Entre/Cambie de año\n",
      "2023-04-05 09:11:42,143 - Entre/Cambie de año\n",
      "2023-04-05 09:11:42,385 - Entre/Cambie de año\n",
      "2023-04-05 09:12:12,657 - Número estación: 2\n",
      "2023-04-05 09:14:13,708 - Estación: Gaiman\n",
      "2023-04-05 09:14:13,726 - Entre/Cambie de año\n",
      "2023-04-05 09:14:13,966 - Entre/Cambie de año\n",
      "2023-04-05 09:14:14,169 - Entre/Cambie de año\n",
      "2023-04-05 09:14:14,307 - Entre/Cambie de año\n",
      "2023-04-05 09:14:14,450 - Entre/Cambie de año\n",
      "2023-04-05 09:14:14,588 - Entre/Cambie de año\n",
      "2023-04-05 09:14:14,729 - Entre/Cambie de año\n",
      "2023-04-05 09:14:14,867 - Entre/Cambie de año\n",
      "2023-04-05 09:14:15,017 - Entre/Cambie de año\n",
      "2023-04-05 09:14:15,162 - Entre/Cambie de año\n",
      "2023-04-05 09:14:15,310 - Entre/Cambie de año\n",
      "2023-04-05 09:14:15,464 - Entre/Cambie de año\n",
      "2023-04-05 09:14:15,618 - Entre/Cambie de año\n",
      "2023-04-05 09:14:15,775 - Entre/Cambie de año\n",
      "2023-04-05 09:14:15,936 - Entre/Cambie de año\n"
     ]
    }
   ],
   "source": [
    "driver = configurar_web_driver()\n",
    "\n",
    "for url in urls:\n",
    "    df_final = obtener_datos_para_url(driver, url)\n",
    "    df_final.to_csv(url['filename'], index=None)\n",
    "\n",
    "driver.quit()"
   ]
  }
 ],
 "metadata": {
  "kernelspec": {
   "display_name": "Python 3 (ipykernel)",
   "language": "python",
   "name": "python3"
  },
  "language_info": {
   "codemirror_mode": {
    "name": "ipython",
    "version": 3
   },
   "file_extension": ".py",
   "mimetype": "text/x-python",
   "name": "python",
   "nbconvert_exporter": "python",
   "pygments_lexer": "ipython3",
   "version": "3.9.7"
  },
  "toc": {
   "base_numbering": 1,
   "nav_menu": {},
   "number_sections": true,
   "sideBar": true,
   "skip_h1_title": false,
   "title_cell": "Table of Contents",
   "title_sidebar": "Contents",
   "toc_cell": false,
   "toc_position": {},
   "toc_section_display": true,
   "toc_window_display": true
  }
 },
 "nbformat": 4,
 "nbformat_minor": 5
}
