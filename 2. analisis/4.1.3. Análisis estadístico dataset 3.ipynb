{
 "cells": [
  {
   "cell_type": "markdown",
   "id": "0662f218",
   "metadata": {},
   "source": [
    "# Análisis estadístico - Dataset 1"
   ]
  },
  {
   "cell_type": "markdown",
   "id": "d8cd7673",
   "metadata": {},
   "source": [
    "El análisis estadístico es una herramienta importante para extraer información útil de los datos. En Python, la biblioteca Pandas se utiliza comúnmente para el análisis de datos. Pandas proporciona estructuras de datos poderosas y eficientes para trabajar con datos tabulares, incluyendo la capacidad de leer y escribir diferentes formatos de archivo, un conjunto completo de herramientas para el procesamiento de datos, así como funcionalidades de visualización.\n",
    "\n",
    "Con Pandas, podemos leer y cargar datos en varios formatos, realizar manipulaciones de datos, limpiar y transformar datos, hacer cálculos estadísticos y análisis exploratorios de datos,."
   ]
  },
  {
   "cell_type": "code",
   "execution_count": 1,
   "id": "fbda4907",
   "metadata": {},
   "outputs": [],
   "source": [
    "import pandas as pd"
   ]
  },
  {
   "cell_type": "markdown",
   "id": "3b52cfd0",
   "metadata": {},
   "source": [
    "En este caso vamos a explorar el dataset 1. Para ello, comenzaremos cargando los datos del archivo CSV correspondiente."
   ]
  },
  {
   "cell_type": "code",
   "execution_count": 2,
   "id": "70bb6447",
   "metadata": {},
   "outputs": [],
   "source": [
    "datos = pd.read_csv(\"../datos_analisis/dataset_produccion_clima_chubut_actualizado.csv\")"
   ]
  },
  {
   "cell_type": "markdown",
   "id": "7c6f202d",
   "metadata": {},
   "source": [
    "La expresión `datos.shape` devuelve una tupla con dos elementos, (164, 17). Esto significa que el dataframe datos está compuesto por 164 registros, cada uno de ellos con información en 17 variables o características diferentes."
   ]
  },
  {
   "cell_type": "code",
   "execution_count": 3,
   "id": "5634741e",
   "metadata": {},
   "outputs": [
    {
     "data": {
      "text/plain": [
       "(164, 17)"
      ]
     },
     "execution_count": 3,
     "metadata": {},
     "output_type": "execute_result"
    }
   ],
   "source": [
    "datos.shape"
   ]
  },
  {
   "cell_type": "markdown",
   "id": "236a11a0",
   "metadata": {},
   "source": [
    "El atributo `columns` de un objeto `DataFrame` de pandas devuelve un objeto de tipo `Index` que contiene los nombres de las columnas del DataFrame. Esta propiedad permite acceder a las columnas del conjunto de datos y operar con ellas."
   ]
  },
  {
   "cell_type": "code",
   "execution_count": 4,
   "id": "2a719bf7",
   "metadata": {},
   "outputs": [
    {
     "data": {
      "text/plain": [
       "Index(['fecha', 'provincia', 'departamento', 'carneros', 'ovejas', 'borregos',\n",
       "       'capones', 'corderos_corderas', 'total_ovinos', 'kilos_lana', 'finura',\n",
       "       'rinde', 'humedad', 'cant_lluvia', 'tem_max', 'temp_media', 'temp_min'],\n",
       "      dtype='object')"
      ]
     },
     "execution_count": 4,
     "metadata": {},
     "output_type": "execute_result"
    }
   ],
   "source": [
    "datos.columns"
   ]
  },
  {
   "cell_type": "markdown",
   "id": "a5288135",
   "metadata": {},
   "source": [
    "La variable \"fecha\" indica la fecha en que se tomó la medición. \"Provincia\" y \"departamento\" indican la ubicación geográfica donde se tomó la medición. Las siguientes columnas \"carneros\", \"ovejas\", \"borregos\", \"capones\" y \"cordero/as\" indican la cantidad de animales de cada tipo que se midieron. La columna \"total_ovinos\" es la suma de todas las columnas de animales y representa el total de ovinos medidos en cada registro. La columna \"kilos_lana\" indica la cantidad de lana medida en kilos. Las columnas \"finura\" y \"rinde\" son mediciones de la calidad de la lana. Las columnas \"humedad\", \"cant_lluvia\", \"tem_max\", \"temp_media\" y \"temp_min\" son mediciones meteorológicas."
   ]
  },
  {
   "cell_type": "markdown",
   "id": "96159e48",
   "metadata": {},
   "source": [
    "La función `datos.head()` de Pandas permite visualizar las primeras filas de un DataFrame, por defecto muestra las primeras 5 filas. Nos da una idea general de los datos cargados y nos permite ver si hay algún problema con la carga de datos. "
   ]
  },
  {
   "cell_type": "code",
   "execution_count": 5,
   "id": "c9782ee8",
   "metadata": {},
   "outputs": [
    {
     "data": {
      "text/html": [
       "<div>\n",
       "<style scoped>\n",
       "    .dataframe tbody tr th:only-of-type {\n",
       "        vertical-align: middle;\n",
       "    }\n",
       "\n",
       "    .dataframe tbody tr th {\n",
       "        vertical-align: top;\n",
       "    }\n",
       "\n",
       "    .dataframe thead th {\n",
       "        text-align: right;\n",
       "    }\n",
       "</style>\n",
       "<table border=\"1\" class=\"dataframe\">\n",
       "  <thead>\n",
       "    <tr style=\"text-align: right;\">\n",
       "      <th></th>\n",
       "      <th>fecha</th>\n",
       "      <th>provincia</th>\n",
       "      <th>departamento</th>\n",
       "      <th>carneros</th>\n",
       "      <th>ovejas</th>\n",
       "      <th>borregos</th>\n",
       "      <th>capones</th>\n",
       "      <th>corderos_corderas</th>\n",
       "      <th>total_ovinos</th>\n",
       "      <th>kilos_lana</th>\n",
       "      <th>finura</th>\n",
       "      <th>rinde</th>\n",
       "      <th>humedad</th>\n",
       "      <th>cant_lluvia</th>\n",
       "      <th>tem_max</th>\n",
       "      <th>temp_media</th>\n",
       "      <th>temp_min</th>\n",
       "    </tr>\n",
       "  </thead>\n",
       "  <tbody>\n",
       "    <tr>\n",
       "      <th>0</th>\n",
       "      <td>2012-12-31</td>\n",
       "      <td>CHUBUT</td>\n",
       "      <td>BIEDMA</td>\n",
       "      <td>2740</td>\n",
       "      <td>52320</td>\n",
       "      <td>22319</td>\n",
       "      <td>25489</td>\n",
       "      <td>29517</td>\n",
       "      <td>132385</td>\n",
       "      <td>478116.0</td>\n",
       "      <td>19.30</td>\n",
       "      <td>55.68</td>\n",
       "      <td>58.4</td>\n",
       "      <td>46.4</td>\n",
       "      <td>18.1</td>\n",
       "      <td>12.4</td>\n",
       "      <td>6.7</td>\n",
       "    </tr>\n",
       "    <tr>\n",
       "      <th>1</th>\n",
       "      <td>2013-12-31</td>\n",
       "      <td>CHUBUT</td>\n",
       "      <td>BIEDMA</td>\n",
       "      <td>3925</td>\n",
       "      <td>70677</td>\n",
       "      <td>27227</td>\n",
       "      <td>33389</td>\n",
       "      <td>36961</td>\n",
       "      <td>172179</td>\n",
       "      <td>544941.0</td>\n",
       "      <td>19.80</td>\n",
       "      <td>55.00</td>\n",
       "      <td>64.7</td>\n",
       "      <td>226.5</td>\n",
       "      <td>19.9</td>\n",
       "      <td>14.2</td>\n",
       "      <td>8.8</td>\n",
       "    </tr>\n",
       "    <tr>\n",
       "      <th>2</th>\n",
       "      <td>2014-12-31</td>\n",
       "      <td>CHUBUT</td>\n",
       "      <td>BIEDMA</td>\n",
       "      <td>3223</td>\n",
       "      <td>61195</td>\n",
       "      <td>29491</td>\n",
       "      <td>29688</td>\n",
       "      <td>34926</td>\n",
       "      <td>158523</td>\n",
       "      <td>513951.0</td>\n",
       "      <td>19.22</td>\n",
       "      <td>58.86</td>\n",
       "      <td>60.5</td>\n",
       "      <td>331.3</td>\n",
       "      <td>20.6</td>\n",
       "      <td>14.7</td>\n",
       "      <td>9.2</td>\n",
       "    </tr>\n",
       "    <tr>\n",
       "      <th>3</th>\n",
       "      <td>2015-12-31</td>\n",
       "      <td>CHUBUT</td>\n",
       "      <td>BIEDMA</td>\n",
       "      <td>3885</td>\n",
       "      <td>67528</td>\n",
       "      <td>28319</td>\n",
       "      <td>33296</td>\n",
       "      <td>38117</td>\n",
       "      <td>171145</td>\n",
       "      <td>540818.2</td>\n",
       "      <td>19.32</td>\n",
       "      <td>58.36</td>\n",
       "      <td>58.7</td>\n",
       "      <td>114.2</td>\n",
       "      <td>22.2</td>\n",
       "      <td>15.8</td>\n",
       "      <td>10.2</td>\n",
       "    </tr>\n",
       "    <tr>\n",
       "      <th>4</th>\n",
       "      <td>2016-12-31</td>\n",
       "      <td>CHUBUT</td>\n",
       "      <td>BIEDMA</td>\n",
       "      <td>3743</td>\n",
       "      <td>70451</td>\n",
       "      <td>30050</td>\n",
       "      <td>33038</td>\n",
       "      <td>37923</td>\n",
       "      <td>175205</td>\n",
       "      <td>606209.3</td>\n",
       "      <td>19.29</td>\n",
       "      <td>57.35</td>\n",
       "      <td>57.5</td>\n",
       "      <td>88.9</td>\n",
       "      <td>25.2</td>\n",
       "      <td>18.6</td>\n",
       "      <td>12.9</td>\n",
       "    </tr>\n",
       "  </tbody>\n",
       "</table>\n",
       "</div>"
      ],
      "text/plain": [
       "        fecha provincia departamento  carneros  ovejas  borregos  capones  \\\n",
       "0  2012-12-31    CHUBUT       BIEDMA      2740   52320     22319    25489   \n",
       "1  2013-12-31    CHUBUT       BIEDMA      3925   70677     27227    33389   \n",
       "2  2014-12-31    CHUBUT       BIEDMA      3223   61195     29491    29688   \n",
       "3  2015-12-31    CHUBUT       BIEDMA      3885   67528     28319    33296   \n",
       "4  2016-12-31    CHUBUT       BIEDMA      3743   70451     30050    33038   \n",
       "\n",
       "   corderos_corderas  total_ovinos  kilos_lana  finura  rinde  humedad  \\\n",
       "0              29517        132385    478116.0   19.30  55.68     58.4   \n",
       "1              36961        172179    544941.0   19.80  55.00     64.7   \n",
       "2              34926        158523    513951.0   19.22  58.86     60.5   \n",
       "3              38117        171145    540818.2   19.32  58.36     58.7   \n",
       "4              37923        175205    606209.3   19.29  57.35     57.5   \n",
       "\n",
       "   cant_lluvia  tem_max  temp_media  temp_min  \n",
       "0         46.4     18.1        12.4       6.7  \n",
       "1        226.5     19.9        14.2       8.8  \n",
       "2        331.3     20.6        14.7       9.2  \n",
       "3        114.2     22.2        15.8      10.2  \n",
       "4         88.9     25.2        18.6      12.9  "
      ]
     },
     "execution_count": 5,
     "metadata": {},
     "output_type": "execute_result"
    }
   ],
   "source": [
    "datos.head()"
   ]
  },
  {
   "cell_type": "markdown",
   "id": "b0311d53",
   "metadata": {},
   "source": [
    "La función `tail()` de Pandas muestra las últimas filas del dataframe, por defecto las últimas 5. Esta función nos da una vista previa rápida de los últimos datos de un dataframe y nos permite comprobar que los datos se han cargado correctamente y se están procesando adecuadamente. "
   ]
  },
  {
   "cell_type": "code",
   "execution_count": 6,
   "id": "ae113516",
   "metadata": {},
   "outputs": [
    {
     "data": {
      "text/html": [
       "<div>\n",
       "<style scoped>\n",
       "    .dataframe tbody tr th:only-of-type {\n",
       "        vertical-align: middle;\n",
       "    }\n",
       "\n",
       "    .dataframe tbody tr th {\n",
       "        vertical-align: top;\n",
       "    }\n",
       "\n",
       "    .dataframe thead th {\n",
       "        text-align: right;\n",
       "    }\n",
       "</style>\n",
       "<table border=\"1\" class=\"dataframe\">\n",
       "  <thead>\n",
       "    <tr style=\"text-align: right;\">\n",
       "      <th></th>\n",
       "      <th>fecha</th>\n",
       "      <th>provincia</th>\n",
       "      <th>departamento</th>\n",
       "      <th>carneros</th>\n",
       "      <th>ovejas</th>\n",
       "      <th>borregos</th>\n",
       "      <th>capones</th>\n",
       "      <th>corderos_corderas</th>\n",
       "      <th>total_ovinos</th>\n",
       "      <th>kilos_lana</th>\n",
       "      <th>finura</th>\n",
       "      <th>rinde</th>\n",
       "      <th>humedad</th>\n",
       "      <th>cant_lluvia</th>\n",
       "      <th>tem_max</th>\n",
       "      <th>temp_media</th>\n",
       "      <th>temp_min</th>\n",
       "    </tr>\n",
       "  </thead>\n",
       "  <tbody>\n",
       "    <tr>\n",
       "      <th>159</th>\n",
       "      <td>2016-12-31</td>\n",
       "      <td>CHUBUT</td>\n",
       "      <td>TELSEN</td>\n",
       "      <td>4711</td>\n",
       "      <td>74125</td>\n",
       "      <td>28715</td>\n",
       "      <td>31728</td>\n",
       "      <td>31883</td>\n",
       "      <td>171162</td>\n",
       "      <td>665820.18</td>\n",
       "      <td>19.97</td>\n",
       "      <td>53.52</td>\n",
       "      <td>50.80</td>\n",
       "      <td>273.33</td>\n",
       "      <td>17.47</td>\n",
       "      <td>11.57</td>\n",
       "      <td>5.77</td>\n",
       "    </tr>\n",
       "    <tr>\n",
       "      <th>160</th>\n",
       "      <td>2017-12-31</td>\n",
       "      <td>CHUBUT</td>\n",
       "      <td>TELSEN</td>\n",
       "      <td>4496</td>\n",
       "      <td>71149</td>\n",
       "      <td>27574</td>\n",
       "      <td>28606</td>\n",
       "      <td>31987</td>\n",
       "      <td>163812</td>\n",
       "      <td>617571.24</td>\n",
       "      <td>20.00</td>\n",
       "      <td>52.95</td>\n",
       "      <td>47.17</td>\n",
       "      <td>220.03</td>\n",
       "      <td>16.60</td>\n",
       "      <td>10.93</td>\n",
       "      <td>5.03</td>\n",
       "    </tr>\n",
       "    <tr>\n",
       "      <th>161</th>\n",
       "      <td>2018-12-31</td>\n",
       "      <td>CHUBUT</td>\n",
       "      <td>TELSEN</td>\n",
       "      <td>4634</td>\n",
       "      <td>74179</td>\n",
       "      <td>28793</td>\n",
       "      <td>35979</td>\n",
       "      <td>28221</td>\n",
       "      <td>171806</td>\n",
       "      <td>627091.90</td>\n",
       "      <td>19.81</td>\n",
       "      <td>52.41</td>\n",
       "      <td>47.93</td>\n",
       "      <td>201.40</td>\n",
       "      <td>17.63</td>\n",
       "      <td>11.33</td>\n",
       "      <td>5.03</td>\n",
       "    </tr>\n",
       "    <tr>\n",
       "      <th>162</th>\n",
       "      <td>2019-12-31</td>\n",
       "      <td>CHUBUT</td>\n",
       "      <td>TELSEN</td>\n",
       "      <td>4305</td>\n",
       "      <td>72515</td>\n",
       "      <td>27648</td>\n",
       "      <td>35273</td>\n",
       "      <td>29417</td>\n",
       "      <td>169158</td>\n",
       "      <td>622501.44</td>\n",
       "      <td>19.87</td>\n",
       "      <td>53.99</td>\n",
       "      <td>47.57</td>\n",
       "      <td>119.47</td>\n",
       "      <td>17.53</td>\n",
       "      <td>11.17</td>\n",
       "      <td>4.83</td>\n",
       "    </tr>\n",
       "    <tr>\n",
       "      <th>163</th>\n",
       "      <td>2020-12-31</td>\n",
       "      <td>CHUBUT</td>\n",
       "      <td>TELSEN</td>\n",
       "      <td>4416</td>\n",
       "      <td>70736</td>\n",
       "      <td>27084</td>\n",
       "      <td>31418</td>\n",
       "      <td>30062</td>\n",
       "      <td>163716</td>\n",
       "      <td>620483.64</td>\n",
       "      <td>19.84</td>\n",
       "      <td>52.71</td>\n",
       "      <td>46.63</td>\n",
       "      <td>101.47</td>\n",
       "      <td>16.60</td>\n",
       "      <td>10.60</td>\n",
       "      <td>4.63</td>\n",
       "    </tr>\n",
       "  </tbody>\n",
       "</table>\n",
       "</div>"
      ],
      "text/plain": [
       "          fecha provincia departamento  carneros  ovejas  borregos  capones  \\\n",
       "159  2016-12-31    CHUBUT       TELSEN      4711   74125     28715    31728   \n",
       "160  2017-12-31    CHUBUT       TELSEN      4496   71149     27574    28606   \n",
       "161  2018-12-31    CHUBUT       TELSEN      4634   74179     28793    35979   \n",
       "162  2019-12-31    CHUBUT       TELSEN      4305   72515     27648    35273   \n",
       "163  2020-12-31    CHUBUT       TELSEN      4416   70736     27084    31418   \n",
       "\n",
       "     corderos_corderas  total_ovinos  kilos_lana  finura  rinde  humedad  \\\n",
       "159              31883        171162   665820.18   19.97  53.52    50.80   \n",
       "160              31987        163812   617571.24   20.00  52.95    47.17   \n",
       "161              28221        171806   627091.90   19.81  52.41    47.93   \n",
       "162              29417        169158   622501.44   19.87  53.99    47.57   \n",
       "163              30062        163716   620483.64   19.84  52.71    46.63   \n",
       "\n",
       "     cant_lluvia  tem_max  temp_media  temp_min  \n",
       "159       273.33    17.47       11.57      5.77  \n",
       "160       220.03    16.60       10.93      5.03  \n",
       "161       201.40    17.63       11.33      5.03  \n",
       "162       119.47    17.53       11.17      4.83  \n",
       "163       101.47    16.60       10.60      4.63  "
      ]
     },
     "execution_count": 6,
     "metadata": {},
     "output_type": "execute_result"
    }
   ],
   "source": [
    "datos.tail()"
   ]
  },
  {
   "cell_type": "markdown",
   "id": "20a08954",
   "metadata": {},
   "source": [
    "El resultado de `datos.info()` muestra información sobre el conjunto de datos en cuestión. En este caso, se trata de un DataFrame de pandas con 164 entradas y 17 columnas. Cada columna representa una variable diferente, como la fecha, la provincia, el departamento, el número de carneros, el número de ovejas, la cantidad de lluvia, etc.\n",
    "\n",
    "La tabla indica la cantidad de valores no nulos para cada columna y su tipo de dato. En este caso, todas las columnas tienen 164 valores no nulos y hay tres tipos de datos diferentes: float64, int64 y object. La información de memoria utilizada también se proporciona al final, indicando que el DataFrame ocupa 21.9+ KB de memoria."
   ]
  },
  {
   "cell_type": "code",
   "execution_count": 7,
   "id": "db85795b",
   "metadata": {},
   "outputs": [
    {
     "name": "stdout",
     "output_type": "stream",
     "text": [
      "<class 'pandas.core.frame.DataFrame'>\n",
      "RangeIndex: 164 entries, 0 to 163\n",
      "Data columns (total 17 columns):\n",
      " #   Column             Non-Null Count  Dtype  \n",
      "---  ------             --------------  -----  \n",
      " 0   fecha              164 non-null    object \n",
      " 1   provincia          164 non-null    object \n",
      " 2   departamento       164 non-null    object \n",
      " 3   carneros           164 non-null    int64  \n",
      " 4   ovejas             164 non-null    int64  \n",
      " 5   borregos           164 non-null    int64  \n",
      " 6   capones            164 non-null    int64  \n",
      " 7   corderos_corderas  164 non-null    int64  \n",
      " 8   total_ovinos       164 non-null    int64  \n",
      " 9   kilos_lana         164 non-null    float64\n",
      " 10  finura             164 non-null    float64\n",
      " 11  rinde              164 non-null    float64\n",
      " 12  humedad            164 non-null    float64\n",
      " 13  cant_lluvia        164 non-null    float64\n",
      " 14  tem_max            164 non-null    float64\n",
      " 15  temp_media         164 non-null    float64\n",
      " 16  temp_min           164 non-null    float64\n",
      "dtypes: float64(8), int64(6), object(3)\n",
      "memory usage: 21.9+ KB\n"
     ]
    }
   ],
   "source": [
    "datos.info()"
   ]
  },
  {
   "cell_type": "markdown",
   "id": "f597087a",
   "metadata": {},
   "source": [
    "La función `describe()` de Pandas proporciona un resumen estadístico de cada columna numérica en el DataFrame. Este resumen incluye el recuento de valores no nulos (count), la media (mean), la desviación estándar (std), los valores mínimo (min) y máximo (max) de cada columna, y los percentiles 25%, 50% y 75%.\n",
    "\n",
    "Nos da una idea general del rango y la distribución de los datos en cada columna. "
   ]
  },
  {
   "cell_type": "code",
   "execution_count": 8,
   "id": "e4ed11b5",
   "metadata": {},
   "outputs": [
    {
     "data": {
      "text/html": [
       "<div>\n",
       "<style scoped>\n",
       "    .dataframe tbody tr th:only-of-type {\n",
       "        vertical-align: middle;\n",
       "    }\n",
       "\n",
       "    .dataframe tbody tr th {\n",
       "        vertical-align: top;\n",
       "    }\n",
       "\n",
       "    .dataframe thead th {\n",
       "        text-align: right;\n",
       "    }\n",
       "</style>\n",
       "<table border=\"1\" class=\"dataframe\">\n",
       "  <thead>\n",
       "    <tr style=\"text-align: right;\">\n",
       "      <th></th>\n",
       "      <th>carneros</th>\n",
       "      <th>ovejas</th>\n",
       "      <th>borregos</th>\n",
       "      <th>capones</th>\n",
       "      <th>corderos_corderas</th>\n",
       "      <th>total_ovinos</th>\n",
       "      <th>kilos_lana</th>\n",
       "      <th>finura</th>\n",
       "      <th>rinde</th>\n",
       "      <th>humedad</th>\n",
       "      <th>cant_lluvia</th>\n",
       "      <th>tem_max</th>\n",
       "      <th>temp_media</th>\n",
       "      <th>temp_min</th>\n",
       "    </tr>\n",
       "  </thead>\n",
       "  <tbody>\n",
       "    <tr>\n",
       "      <th>count</th>\n",
       "      <td>164.000000</td>\n",
       "      <td>164.000000</td>\n",
       "      <td>164.000000</td>\n",
       "      <td>164.000000</td>\n",
       "      <td>164.000000</td>\n",
       "      <td>164.000000</td>\n",
       "      <td>1.640000e+02</td>\n",
       "      <td>164.000000</td>\n",
       "      <td>164.000000</td>\n",
       "      <td>164.000000</td>\n",
       "      <td>164.000000</td>\n",
       "      <td>164.000000</td>\n",
       "      <td>164.000000</td>\n",
       "      <td>164.000000</td>\n",
       "    </tr>\n",
       "    <tr>\n",
       "      <th>mean</th>\n",
       "      <td>6795.079268</td>\n",
       "      <td>109195.097561</td>\n",
       "      <td>40317.048780</td>\n",
       "      <td>39883.079268</td>\n",
       "      <td>54915.945122</td>\n",
       "      <td>251106.250000</td>\n",
       "      <td>8.940005e+05</td>\n",
       "      <td>20.081463</td>\n",
       "      <td>57.112927</td>\n",
       "      <td>53.523171</td>\n",
       "      <td>214.457317</td>\n",
       "      <td>18.458659</td>\n",
       "      <td>11.603354</td>\n",
       "      <td>4.924695</td>\n",
       "    </tr>\n",
       "    <tr>\n",
       "      <th>std</th>\n",
       "      <td>4791.898721</td>\n",
       "      <td>74333.016127</td>\n",
       "      <td>31458.372487</td>\n",
       "      <td>28173.486877</td>\n",
       "      <td>39221.660324</td>\n",
       "      <td>175984.465887</td>\n",
       "      <td>6.468892e+05</td>\n",
       "      <td>0.470081</td>\n",
       "      <td>4.167566</td>\n",
       "      <td>10.921819</td>\n",
       "      <td>184.585356</td>\n",
       "      <td>3.125622</td>\n",
       "      <td>2.495552</td>\n",
       "      <td>2.200040</td>\n",
       "    </tr>\n",
       "    <tr>\n",
       "      <th>min</th>\n",
       "      <td>1421.000000</td>\n",
       "      <td>21913.000000</td>\n",
       "      <td>7264.000000</td>\n",
       "      <td>8605.000000</td>\n",
       "      <td>11300.000000</td>\n",
       "      <td>50513.000000</td>\n",
       "      <td>1.669010e+05</td>\n",
       "      <td>19.220000</td>\n",
       "      <td>48.210000</td>\n",
       "      <td>0.300000</td>\n",
       "      <td>7.100000</td>\n",
       "      <td>10.830000</td>\n",
       "      <td>5.330000</td>\n",
       "      <td>-0.600000</td>\n",
       "    </tr>\n",
       "    <tr>\n",
       "      <th>25%</th>\n",
       "      <td>3875.500000</td>\n",
       "      <td>63116.500000</td>\n",
       "      <td>21414.500000</td>\n",
       "      <td>19209.750000</td>\n",
       "      <td>30004.000000</td>\n",
       "      <td>138213.000000</td>\n",
       "      <td>5.239102e+05</td>\n",
       "      <td>19.807500</td>\n",
       "      <td>54.160000</td>\n",
       "      <td>48.325000</td>\n",
       "      <td>104.225000</td>\n",
       "      <td>16.122500</td>\n",
       "      <td>9.792500</td>\n",
       "      <td>3.452500</td>\n",
       "    </tr>\n",
       "    <tr>\n",
       "      <th>50%</th>\n",
       "      <td>5374.500000</td>\n",
       "      <td>85986.000000</td>\n",
       "      <td>28544.000000</td>\n",
       "      <td>31487.000000</td>\n",
       "      <td>42456.500000</td>\n",
       "      <td>183361.000000</td>\n",
       "      <td>6.633841e+05</td>\n",
       "      <td>20.010000</td>\n",
       "      <td>57.465000</td>\n",
       "      <td>54.050000</td>\n",
       "      <td>155.800000</td>\n",
       "      <td>18.550000</td>\n",
       "      <td>11.750000</td>\n",
       "      <td>4.900000</td>\n",
       "    </tr>\n",
       "    <tr>\n",
       "      <th>75%</th>\n",
       "      <td>7508.750000</td>\n",
       "      <td>125565.250000</td>\n",
       "      <td>45959.250000</td>\n",
       "      <td>47709.500000</td>\n",
       "      <td>60730.000000</td>\n",
       "      <td>293195.500000</td>\n",
       "      <td>9.947833e+05</td>\n",
       "      <td>20.242500</td>\n",
       "      <td>60.395000</td>\n",
       "      <td>59.812500</td>\n",
       "      <td>243.100000</td>\n",
       "      <td>20.785000</td>\n",
       "      <td>13.600000</td>\n",
       "      <td>6.232500</td>\n",
       "    </tr>\n",
       "    <tr>\n",
       "      <th>max</th>\n",
       "      <td>21067.000000</td>\n",
       "      <td>345839.000000</td>\n",
       "      <td>139387.000000</td>\n",
       "      <td>114801.000000</td>\n",
       "      <td>178182.000000</td>\n",
       "      <td>797790.000000</td>\n",
       "      <td>2.991712e+06</td>\n",
       "      <td>21.600000</td>\n",
       "      <td>63.900000</td>\n",
       "      <td>77.000000</td>\n",
       "      <td>1041.160000</td>\n",
       "      <td>26.600000</td>\n",
       "      <td>18.600000</td>\n",
       "      <td>12.900000</td>\n",
       "    </tr>\n",
       "  </tbody>\n",
       "</table>\n",
       "</div>"
      ],
      "text/plain": [
       "           carneros         ovejas       borregos        capones  \\\n",
       "count    164.000000     164.000000     164.000000     164.000000   \n",
       "mean    6795.079268  109195.097561   40317.048780   39883.079268   \n",
       "std     4791.898721   74333.016127   31458.372487   28173.486877   \n",
       "min     1421.000000   21913.000000    7264.000000    8605.000000   \n",
       "25%     3875.500000   63116.500000   21414.500000   19209.750000   \n",
       "50%     5374.500000   85986.000000   28544.000000   31487.000000   \n",
       "75%     7508.750000  125565.250000   45959.250000   47709.500000   \n",
       "max    21067.000000  345839.000000  139387.000000  114801.000000   \n",
       "\n",
       "       corderos_corderas   total_ovinos    kilos_lana      finura       rinde  \\\n",
       "count         164.000000     164.000000  1.640000e+02  164.000000  164.000000   \n",
       "mean        54915.945122  251106.250000  8.940005e+05   20.081463   57.112927   \n",
       "std         39221.660324  175984.465887  6.468892e+05    0.470081    4.167566   \n",
       "min         11300.000000   50513.000000  1.669010e+05   19.220000   48.210000   \n",
       "25%         30004.000000  138213.000000  5.239102e+05   19.807500   54.160000   \n",
       "50%         42456.500000  183361.000000  6.633841e+05   20.010000   57.465000   \n",
       "75%         60730.000000  293195.500000  9.947833e+05   20.242500   60.395000   \n",
       "max        178182.000000  797790.000000  2.991712e+06   21.600000   63.900000   \n",
       "\n",
       "          humedad  cant_lluvia     tem_max  temp_media    temp_min  \n",
       "count  164.000000   164.000000  164.000000  164.000000  164.000000  \n",
       "mean    53.523171   214.457317   18.458659   11.603354    4.924695  \n",
       "std     10.921819   184.585356    3.125622    2.495552    2.200040  \n",
       "min      0.300000     7.100000   10.830000    5.330000   -0.600000  \n",
       "25%     48.325000   104.225000   16.122500    9.792500    3.452500  \n",
       "50%     54.050000   155.800000   18.550000   11.750000    4.900000  \n",
       "75%     59.812500   243.100000   20.785000   13.600000    6.232500  \n",
       "max     77.000000  1041.160000   26.600000   18.600000   12.900000  "
      ]
     },
     "execution_count": 8,
     "metadata": {},
     "output_type": "execute_result"
    }
   ],
   "source": [
    "datos.describe()"
   ]
  },
  {
   "cell_type": "markdown",
   "id": "400f3f42",
   "metadata": {},
   "source": [
    "La siguiente celda de código calcula la mediana de cada columna del dataset. Esto es útil para obtener una idea de la tendencia central de los datos en cada variable. La mediana es una medida de posición que divide a un conjunto de datos ordenados en dos partes iguales, de modo que el 50% de los datos son mayores que la mediana y el 50% son menores que la mediana."
   ]
  },
  {
   "cell_type": "code",
   "execution_count": 9,
   "id": "9516daa8",
   "metadata": {
    "scrolled": true
   },
   "outputs": [
    {
     "data": {
      "text/plain": [
       "carneros               5374.500\n",
       "ovejas                85986.000\n",
       "borregos              28544.000\n",
       "capones               31487.000\n",
       "corderos_corderas     42456.500\n",
       "total_ovinos         183361.000\n",
       "kilos_lana           663384.050\n",
       "finura                   20.010\n",
       "rinde                    57.465\n",
       "humedad                  54.050\n",
       "cant_lluvia             155.800\n",
       "tem_max                  18.550\n",
       "temp_media               11.750\n",
       "temp_min                  4.900\n",
       "dtype: float64"
      ]
     },
     "execution_count": 9,
     "metadata": {},
     "output_type": "execute_result"
    }
   ],
   "source": [
    "datos.median()"
   ]
  },
  {
   "cell_type": "markdown",
   "id": "e3a8ed54",
   "metadata": {},
   "source": [
    "Para evaluar si los datos tienen algún tipo de sesgo, es fundamental analizar la distribución de los mismos. Una distribución sesgada indica que los datos se concentran en un lado de la distribución, lo que puede afectar la interpretación de los resultados obtenidos.\n",
    "\n",
    "La asimetría de una distribución es una medida que nos permite determinar si la distribución está sesgada hacia la derecha o hacia la izquierda. Una forma común de medir la asimetría es mediante el coeficiente de asimetría (skewness en inglés), que puede ser calculado utilizando la función `skew()` de Pandas. Si el valor del coeficiente de asimetría es cercano a cero, entonces la distribución es simétrica, mientras que si el valor es mayor a cero, indica una distribución sesgada hacia la derecha (positivo) y si es menor a cero, indica una distribución sesgada hacia la izquierda (negativo). "
   ]
  },
  {
   "cell_type": "code",
   "execution_count": 10,
   "id": "890e24a5",
   "metadata": {},
   "outputs": [
    {
     "data": {
      "text/plain": [
       "carneros             1.552531\n",
       "ovejas               1.669065\n",
       "borregos             1.588924\n",
       "capones              1.245943\n",
       "corderos_corderas    1.607333\n",
       "total_ovinos         1.579539\n",
       "kilos_lana           1.625766\n",
       "finura               0.865873\n",
       "rinde               -0.346975\n",
       "humedad             -1.584182\n",
       "cant_lluvia          1.949903\n",
       "tem_max             -0.008854\n",
       "temp_media           0.106191\n",
       "temp_min             0.444767\n",
       "dtype: float64"
      ]
     },
     "execution_count": 10,
     "metadata": {},
     "output_type": "execute_result"
    }
   ],
   "source": [
    "datos.skew()"
   ]
  },
  {
   "cell_type": "markdown",
   "id": "bb7ea0cd",
   "metadata": {},
   "source": [
    "Podemos observar que los valores del coeficiente de asimetría (skewness) para las existencias ovinas se encuentran en el rango de 1.245943 a 1.669065. Este rango indica que la distribución de los datos en todas estas columnas presenta sesgo positivo, es decir, una cola larga hacia la derecha. Esto significa que la mayor concentración de valores se encuentra en el lado izquierdo de la distribución, mientras que hay pocos valores en el lado derecho. En otras palabras, para estas columnas, la mayoría de los datos están agrupados en valores bajos o moderados y hay pocos valores atípicos en el extremo derecho de la distribución."
   ]
  },
  {
   "cell_type": "markdown",
   "id": "9155e7d2",
   "metadata": {},
   "source": [
    "En relación a la variable \"kilos de lana\", se puede observar un coeficiente de asimetría (skewness) de 1.625766, lo que indica que la distribución de los datos está sesgada hacia la derecha. Esto significa que la mayoría de los valores se concentran en el lado izquierdo de la distribución, mientras que hay pocos valores en el lado derecho. Por otro lado, las variables \"rinde\" (-0.346975) y \"finura\" (0.865873) presentan asimetría negativa y positiva, respectivamente, aunque en menor medida que la variable \"lana\", ya que sus coeficientes de asimetría están más cercanos a cero."
   ]
  },
  {
   "cell_type": "markdown",
   "id": "1bd4346a",
   "metadata": {},
   "source": [
    "Al analizar los datos meteorológicos, se puede observar que la humedad y la temperatura máxima tienen una asimetría negativa de -1.584182 y -0.008854, respectivamente. La humedad presenta una gran asimetría, mientras que la temperatura máxima es casi simétrica.\n",
    "Por otro lado, la lluvia (1.949903) tiene una asimetría positiva más pronunciada y la temperatura mínima (0.444767) y la temperatura media (0.106191) presentan una ligera asimetría positiva. En estos últimos tres casos, se puede afirmar que la cola de la distribución se extiende más hacia la derecha que hacia la izquierda en relación con la media."
   ]
  },
  {
   "cell_type": "markdown",
   "id": "96d44501",
   "metadata": {},
   "source": [
    "Conocer la cantidad de valores únicos en un dataset es fundamental para comprender la diversidad y distribución de los datos. En este sentido, empezaremos analizando tanto la fecha como el departamento de los registros."
   ]
  },
  {
   "cell_type": "code",
   "execution_count": 11,
   "id": "457e19c5",
   "metadata": {},
   "outputs": [],
   "source": [
    "def ver_valores_unicos(col_names):\n",
    "    for col in col_names:\n",
    "        vc = datos[col].value_counts()\n",
    "        print(f\"Valores únicos en la columna {col}: \\n{vc}\\n\")"
   ]
  },
  {
   "cell_type": "code",
   "execution_count": 12,
   "id": "9945a1ed",
   "metadata": {},
   "outputs": [
    {
     "name": "stdout",
     "output_type": "stream",
     "text": [
      "Valores únicos en la columna fecha: \n",
      "2012-12-31    12\n",
      "2016-12-31    12\n",
      "2017-12-31    12\n",
      "2019-12-31    12\n",
      "2013-12-31    12\n",
      "2014-12-31    11\n",
      "2015-12-31    11\n",
      "2018-12-31    11\n",
      "2020-12-31    11\n",
      "2009-12-31    10\n",
      "2010-12-31     9\n",
      "2011-12-31     9\n",
      "2008-12-31     9\n",
      "2007-12-31     7\n",
      "2006-12-31     7\n",
      "2005-12-31     4\n",
      "2000-12-31     1\n",
      "2001-12-31     1\n",
      "2002-12-31     1\n",
      "2003-12-31     1\n",
      "2004-12-31     1\n",
      "Name: fecha, dtype: int64\n",
      "\n",
      "Valores únicos en la columna departamento: \n",
      "RAWSON                 21\n",
      "FUTALEUFU              16\n",
      "RIO SENGUERR           16\n",
      "CUSHAMEN               15\n",
      "GAIMAN                 15\n",
      "SARMIENTO              15\n",
      "PASO DE INDIOS         14\n",
      "TELSEN                 13\n",
      "TEHUELCHES             12\n",
      "FLORENTINO AMEGHINO    11\n",
      "BIEDMA                  9\n",
      "LANGUIÑEO               7\n",
      "Name: departamento, dtype: int64\n",
      "\n"
     ]
    }
   ],
   "source": [
    "col_names = ['fecha', 'departamento']\n",
    "ver_valores_unicos(col_names)"
   ]
  },
  {
   "cell_type": "markdown",
   "id": "3f4211a0",
   "metadata": {},
   "source": [
    "Podemos observar que a partir del año 2009 hasta el 2020 se registra una cantidad de datos anual que varía entre 10 y 12. Sin embargo, para años anteriores a este periodo, se registra una disminución en la cantidad de datos debido quizás a la falta de recolección de información. En cuanto a los valores únicos de la columna \"departamento\", se puede notar que el departamento de Rawson cuenta con la mayor cantidad de registros, con un total de 21. Además, existen dos departamentos con 16 registros, tres con 15 registros, y varios departamentos con un número menor de registros, incluyendo Biedma con 9 registros y Languiñeo con 7 registros."
   ]
  },
  {
   "cell_type": "markdown",
   "id": "8bf0d6f5",
   "metadata": {},
   "source": [
    "Lo siguiente es ver los valores únicos para las existencias."
   ]
  },
  {
   "cell_type": "code",
   "execution_count": 13,
   "id": "4d639564",
   "metadata": {},
   "outputs": [
    {
     "name": "stdout",
     "output_type": "stream",
     "text": [
      "Valores únicos en la columna carneros: \n",
      "3885     2\n",
      "6624     2\n",
      "2740     1\n",
      "14701    1\n",
      "2198     1\n",
      "        ..\n",
      "4286     1\n",
      "3191     1\n",
      "4102     1\n",
      "4936     1\n",
      "4416     1\n",
      "Name: carneros, Length: 162, dtype: int64\n",
      "\n",
      "Valores únicos en la columna ovejas: \n",
      "104515    2\n",
      "52320     1\n",
      "282372    1\n",
      "31221     1\n",
      "36271     1\n",
      "         ..\n",
      "85321     1\n",
      "78610     1\n",
      "61268     1\n",
      "87337     1\n",
      "70736     1\n",
      "Name: ovejas, Length: 163, dtype: int64\n",
      "\n",
      "Valores únicos en la columna borregos: \n",
      "22319    1\n",
      "8937     1\n",
      "12300    1\n",
      "11357    1\n",
      "9613     1\n",
      "        ..\n",
      "21365    1\n",
      "22475    1\n",
      "16706    1\n",
      "20059    1\n",
      "27084    1\n",
      "Name: borregos, Length: 164, dtype: int64\n",
      "\n",
      "Valores únicos en la columna corderos_corderas: \n",
      "33896     2\n",
      "29517     1\n",
      "139943    1\n",
      "17463     1\n",
      "16450     1\n",
      "         ..\n",
      "36282     1\n",
      "34392     1\n",
      "29065     1\n",
      "31970     1\n",
      "30062     1\n",
      "Name: corderos_corderas, Length: 163, dtype: int64\n",
      "\n",
      "Valores únicos en la columna total_ovinos: \n",
      "132385    1\n",
      "62330     1\n",
      "82996     1\n",
      "76846     1\n",
      "65796     1\n",
      "         ..\n",
      "171408    1\n",
      "164712    1\n",
      "128210    1\n",
      "168566    1\n",
      "163716    1\n",
      "Name: total_ovinos, Length: 164, dtype: int64\n",
      "\n"
     ]
    }
   ],
   "source": [
    "col_names = ['carneros','ovejas', 'borregos','corderos_corderas','total_ovinos']\n",
    "ver_valores_unicos(col_names)"
   ]
  },
  {
   "cell_type": "markdown",
   "id": "da8006be",
   "metadata": {},
   "source": [
    "Al analizar los datos de existencias ovinas, se puede observar que en su mayoría los valores no se repiten, ya que la mayoría de las veces sólo aparecen una vez y en algunos casos dos. Dado que una alta cantidad de valores únicos puede aumentar la complejidad de un modelo de aprendizaje automático y hacer que sea más difícil de entrenar y optimizar, esta bueno conocer esta información. "
   ]
  },
  {
   "cell_type": "markdown",
   "id": "c3cd45f0",
   "metadata": {},
   "source": [
    "La siguiente celda se utiliza para contar la cantidad de valores faltantes en cada columna del conjunto de datos datos. Los valores faltantes, también conocidos como valores nulos o NA, son aquellos que no tienen un valor asignado en la tabla de datos. Saber la cantidad de valores faltantes en cada columna es importante porque puede afectar la calidad de los análisis y modelos de aprendizaje automático que se realicen con los datos. "
   ]
  },
  {
   "cell_type": "code",
   "execution_count": 14,
   "id": "d8feb511",
   "metadata": {},
   "outputs": [
    {
     "data": {
      "text/plain": [
       "fecha                0\n",
       "provincia            0\n",
       "departamento         0\n",
       "carneros             0\n",
       "ovejas               0\n",
       "borregos             0\n",
       "capones              0\n",
       "corderos_corderas    0\n",
       "total_ovinos         0\n",
       "kilos_lana           0\n",
       "finura               0\n",
       "rinde                0\n",
       "humedad              0\n",
       "cant_lluvia          0\n",
       "tem_max              0\n",
       "temp_media           0\n",
       "temp_min             0\n",
       "dtype: int64"
      ]
     },
     "execution_count": 14,
     "metadata": {},
     "output_type": "execute_result"
    }
   ],
   "source": [
    "datos.isnull().sum()"
   ]
  },
  {
   "cell_type": "markdown",
   "id": "b57e617f",
   "metadata": {},
   "source": [
    "En este caso, no falta ningún dato, ya que se trabajó arduamente con los scrapers y el procesamiento de datos para garantizar su integridad."
   ]
  },
  {
   "cell_type": "markdown",
   "id": "94a96cb2",
   "metadata": {},
   "source": [
    "Con este primer análisis estadístico, estamos preparados para analizar el conjunto de datos de manera gráfica."
   ]
  }
 ],
 "metadata": {
  "kernelspec": {
   "display_name": "Python 3 (ipykernel)",
   "language": "python",
   "name": "python3"
  },
  "language_info": {
   "codemirror_mode": {
    "name": "ipython",
    "version": 3
   },
   "file_extension": ".py",
   "mimetype": "text/x-python",
   "name": "python",
   "nbconvert_exporter": "python",
   "pygments_lexer": "ipython3",
   "version": "3.9.7"
  },
  "toc": {
   "base_numbering": 1,
   "nav_menu": {},
   "number_sections": true,
   "sideBar": true,
   "skip_h1_title": false,
   "title_cell": "Table of Contents",
   "title_sidebar": "Contents",
   "toc_cell": false,
   "toc_position": {},
   "toc_section_display": true,
   "toc_window_display": false
  }
 },
 "nbformat": 4,
 "nbformat_minor": 5
}
