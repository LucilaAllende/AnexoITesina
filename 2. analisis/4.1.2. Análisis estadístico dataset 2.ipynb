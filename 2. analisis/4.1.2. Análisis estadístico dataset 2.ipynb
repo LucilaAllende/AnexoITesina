{
 "cells": [
  {
   "cell_type": "markdown",
   "id": "0662f218",
   "metadata": {},
   "source": [
    "# Análisis estadístico - Dataset 2"
   ]
  },
  {
   "cell_type": "markdown",
   "id": "d8cd7673",
   "metadata": {},
   "source": [
    "El análisis estadístico es una herramienta importante para extraer información útil de los datos. En Python, la biblioteca Pandas se utiliza comúnmente para el análisis de datos. Pandas proporciona estructuras de datos poderosas y eficientes para trabajar con datos tabulares, incluyendo la capacidad de leer y escribir diferentes formatos de archivo, un conjunto completo de herramientas para el procesamiento de datos, así como funcionalidades de visualización.\n",
    "\n",
    "Con Pandas, podemos leer y cargar datos en varios formatos, realizar manipulaciones de datos, limpiar y transformar datos, hacer cálculos estadísticos y análisis exploratorios de datos,."
   ]
  },
  {
   "cell_type": "code",
   "execution_count": 1,
   "id": "fbda4907",
   "metadata": {},
   "outputs": [],
   "source": [
    "import pandas as pd"
   ]
  },
  {
   "cell_type": "markdown",
   "id": "3b52cfd0",
   "metadata": {},
   "source": [
    "En este caso vamos a explorar el dataset 2. Para ello, comenzaremos cargando los datos del archivo CSV correspondiente."
   ]
  },
  {
   "cell_type": "code",
   "execution_count": 2,
   "id": "70bb6447",
   "metadata": {},
   "outputs": [],
   "source": [
    "datos = pd.read_csv(\"../datos_analisis/dataset_produccion_clima_chubut_mirabueno.csv\")"
   ]
  },
  {
   "cell_type": "markdown",
   "id": "7c6f202d",
   "metadata": {},
   "source": [
    "La expresión `datos.shape` devuelve una tupla con dos elementos, (201, 17). Esto significa que el dataframe datos está compuesto por 201 registros, cada uno de ellos con información en 17 variables o características diferentes."
   ]
  },
  {
   "cell_type": "code",
   "execution_count": 3,
   "id": "5634741e",
   "metadata": {},
   "outputs": [
    {
     "data": {
      "text/plain": [
       "(201, 17)"
      ]
     },
     "execution_count": 3,
     "metadata": {},
     "output_type": "execute_result"
    }
   ],
   "source": [
    "datos.shape"
   ]
  },
  {
   "cell_type": "markdown",
   "id": "236a11a0",
   "metadata": {},
   "source": [
    "El atributo `columns` de un objeto `DataFrame` de pandas devuelve un objeto de tipo `Index` que contiene los nombres de las columnas del DataFrame. Esta propiedad permite acceder a las columnas del conjunto de datos y operar con ellas."
   ]
  },
  {
   "cell_type": "code",
   "execution_count": 4,
   "id": "2a719bf7",
   "metadata": {},
   "outputs": [
    {
     "data": {
      "text/plain": [
       "Index(['fecha', 'hectareas', 'departamento', 'carneros', 'ovejas', 'borregos',\n",
       "       'capones', 'cordero/as', 'total_ovinos', 'kilos_lana', 'finura',\n",
       "       'rinde', 'humedad', 'cant_lluvia', 'tem_max', 'temp_media', 'temp_min'],\n",
       "      dtype='object')"
      ]
     },
     "execution_count": 4,
     "metadata": {},
     "output_type": "execute_result"
    }
   ],
   "source": [
    "datos.columns"
   ]
  },
  {
   "cell_type": "markdown",
   "id": "a5288135",
   "metadata": {},
   "source": [
    "La columna \"fecha\" contiene la fecha en que se realizó la medición, mientras que la columna \"departamento\" indica la ubicación geográfica donde se llevó a cabo la medición. La columna \"hectáreas\" indica el área de tierra ocupada por cada departamento en hectáreas. Las columnas \"carneros\", \"ovejas\", \"borregos\", \"capones\" y \"corderos/as\" indican la cantidad de animales de cada tipo medidos en cada registro. La columna \"total_ovinos\" es la suma de todas estas columnas de animales y representa el total de ovinos medidos en cada registro. La columna \"kilos_lana\" indica la cantidad de lana medida en kilos para cada registro. Además, las columnas \"finura\" y \"rinde\" proporcionan mediciones de la calidad de la lana. Por otro lado, las columnas \"humedad\", \"cant_lluvia\", \"tem_max\", \"temp_media\" y \"temp_min\" indican mediciones meteorológicas relevantes para cada registro."
   ]
  },
  {
   "cell_type": "markdown",
   "id": "96159e48",
   "metadata": {},
   "source": [
    "La función `datos.head()` de Pandas permite visualizar las primeras filas de un DataFrame, por defecto muestra las primeras 5 filas. Nos da una idea general de los datos cargados y nos permite ver si hay algún problema con la carga de datos. "
   ]
  },
  {
   "cell_type": "code",
   "execution_count": 5,
   "id": "c9782ee8",
   "metadata": {},
   "outputs": [
    {
     "data": {
      "text/html": [
       "<div>\n",
       "<style scoped>\n",
       "    .dataframe tbody tr th:only-of-type {\n",
       "        vertical-align: middle;\n",
       "    }\n",
       "\n",
       "    .dataframe tbody tr th {\n",
       "        vertical-align: top;\n",
       "    }\n",
       "\n",
       "    .dataframe thead th {\n",
       "        text-align: right;\n",
       "    }\n",
       "</style>\n",
       "<table border=\"1\" class=\"dataframe\">\n",
       "  <thead>\n",
       "    <tr style=\"text-align: right;\">\n",
       "      <th></th>\n",
       "      <th>fecha</th>\n",
       "      <th>hectareas</th>\n",
       "      <th>departamento</th>\n",
       "      <th>carneros</th>\n",
       "      <th>ovejas</th>\n",
       "      <th>borregos</th>\n",
       "      <th>capones</th>\n",
       "      <th>cordero/as</th>\n",
       "      <th>total_ovinos</th>\n",
       "      <th>kilos_lana</th>\n",
       "      <th>finura</th>\n",
       "      <th>rinde</th>\n",
       "      <th>humedad</th>\n",
       "      <th>cant_lluvia</th>\n",
       "      <th>tem_max</th>\n",
       "      <th>temp_media</th>\n",
       "      <th>temp_min</th>\n",
       "    </tr>\n",
       "  </thead>\n",
       "  <tbody>\n",
       "    <tr>\n",
       "      <th>0</th>\n",
       "      <td>2012-12-31</td>\n",
       "      <td>1294000</td>\n",
       "      <td>BIEDMA</td>\n",
       "      <td>5785</td>\n",
       "      <td>93378</td>\n",
       "      <td>30168</td>\n",
       "      <td>48447</td>\n",
       "      <td>16071</td>\n",
       "      <td>193849</td>\n",
       "      <td>649130.0</td>\n",
       "      <td>19.80</td>\n",
       "      <td>58.06</td>\n",
       "      <td>58.4</td>\n",
       "      <td>46.4</td>\n",
       "      <td>18.1</td>\n",
       "      <td>12.4</td>\n",
       "      <td>6.7</td>\n",
       "    </tr>\n",
       "    <tr>\n",
       "      <th>1</th>\n",
       "      <td>2013-12-31</td>\n",
       "      <td>1294000</td>\n",
       "      <td>BIEDMA</td>\n",
       "      <td>5376</td>\n",
       "      <td>82998</td>\n",
       "      <td>25341</td>\n",
       "      <td>47350</td>\n",
       "      <td>26832</td>\n",
       "      <td>187897</td>\n",
       "      <td>620176.0</td>\n",
       "      <td>19.60</td>\n",
       "      <td>56.68</td>\n",
       "      <td>64.7</td>\n",
       "      <td>226.5</td>\n",
       "      <td>19.9</td>\n",
       "      <td>14.2</td>\n",
       "      <td>8.8</td>\n",
       "    </tr>\n",
       "    <tr>\n",
       "      <th>2</th>\n",
       "      <td>2014-12-31</td>\n",
       "      <td>1294000</td>\n",
       "      <td>BIEDMA</td>\n",
       "      <td>4785</td>\n",
       "      <td>82706</td>\n",
       "      <td>29379</td>\n",
       "      <td>35155</td>\n",
       "      <td>29900</td>\n",
       "      <td>181925</td>\n",
       "      <td>649130.0</td>\n",
       "      <td>20.10</td>\n",
       "      <td>61.19</td>\n",
       "      <td>60.5</td>\n",
       "      <td>331.3</td>\n",
       "      <td>20.6</td>\n",
       "      <td>14.7</td>\n",
       "      <td>9.2</td>\n",
       "    </tr>\n",
       "    <tr>\n",
       "      <th>3</th>\n",
       "      <td>2015-12-31</td>\n",
       "      <td>1294000</td>\n",
       "      <td>BIEDMA</td>\n",
       "      <td>4440</td>\n",
       "      <td>89262</td>\n",
       "      <td>29663</td>\n",
       "      <td>35437</td>\n",
       "      <td>32343</td>\n",
       "      <td>191145</td>\n",
       "      <td>672480.0</td>\n",
       "      <td>18.58</td>\n",
       "      <td>58.18</td>\n",
       "      <td>58.7</td>\n",
       "      <td>114.2</td>\n",
       "      <td>22.2</td>\n",
       "      <td>15.8</td>\n",
       "      <td>10.2</td>\n",
       "    </tr>\n",
       "    <tr>\n",
       "      <th>4</th>\n",
       "      <td>2016-12-31</td>\n",
       "      <td>1294000</td>\n",
       "      <td>BIEDMA</td>\n",
       "      <td>4452</td>\n",
       "      <td>82295</td>\n",
       "      <td>33662</td>\n",
       "      <td>33470</td>\n",
       "      <td>21326</td>\n",
       "      <td>175205</td>\n",
       "      <td>653800.0</td>\n",
       "      <td>17.99</td>\n",
       "      <td>59.93</td>\n",
       "      <td>57.5</td>\n",
       "      <td>88.9</td>\n",
       "      <td>25.2</td>\n",
       "      <td>18.6</td>\n",
       "      <td>12.9</td>\n",
       "    </tr>\n",
       "  </tbody>\n",
       "</table>\n",
       "</div>"
      ],
      "text/plain": [
       "        fecha  hectareas departamento  carneros  ovejas  borregos  capones  \\\n",
       "0  2012-12-31    1294000       BIEDMA      5785   93378     30168    48447   \n",
       "1  2013-12-31    1294000       BIEDMA      5376   82998     25341    47350   \n",
       "2  2014-12-31    1294000       BIEDMA      4785   82706     29379    35155   \n",
       "3  2015-12-31    1294000       BIEDMA      4440   89262     29663    35437   \n",
       "4  2016-12-31    1294000       BIEDMA      4452   82295     33662    33470   \n",
       "\n",
       "   cordero/as  total_ovinos  kilos_lana  finura  rinde  humedad  cant_lluvia  \\\n",
       "0       16071        193849    649130.0   19.80  58.06     58.4         46.4   \n",
       "1       26832        187897    620176.0   19.60  56.68     64.7        226.5   \n",
       "2       29900        181925    649130.0   20.10  61.19     60.5        331.3   \n",
       "3       32343        191145    672480.0   18.58  58.18     58.7        114.2   \n",
       "4       21326        175205    653800.0   17.99  59.93     57.5         88.9   \n",
       "\n",
       "   tem_max  temp_media  temp_min  \n",
       "0     18.1        12.4       6.7  \n",
       "1     19.9        14.2       8.8  \n",
       "2     20.6        14.7       9.2  \n",
       "3     22.2        15.8      10.2  \n",
       "4     25.2        18.6      12.9  "
      ]
     },
     "execution_count": 5,
     "metadata": {},
     "output_type": "execute_result"
    }
   ],
   "source": [
    "datos.head()"
   ]
  },
  {
   "cell_type": "markdown",
   "id": "b0311d53",
   "metadata": {},
   "source": [
    "La función `tail()` de Pandas muestra las últimas filas del dataframe, por defecto las últimas 5. Esta función nos da una vista previa rápida de los últimos datos de un dataframe y nos permite comprobar que los datos se han cargado correctamente y se están procesando adecuadamente. "
   ]
  },
  {
   "cell_type": "code",
   "execution_count": 6,
   "id": "ae113516",
   "metadata": {},
   "outputs": [
    {
     "data": {
      "text/html": [
       "<div>\n",
       "<style scoped>\n",
       "    .dataframe tbody tr th:only-of-type {\n",
       "        vertical-align: middle;\n",
       "    }\n",
       "\n",
       "    .dataframe tbody tr th {\n",
       "        vertical-align: top;\n",
       "    }\n",
       "\n",
       "    .dataframe thead th {\n",
       "        text-align: right;\n",
       "    }\n",
       "</style>\n",
       "<table border=\"1\" class=\"dataframe\">\n",
       "  <thead>\n",
       "    <tr style=\"text-align: right;\">\n",
       "      <th></th>\n",
       "      <th>fecha</th>\n",
       "      <th>hectareas</th>\n",
       "      <th>departamento</th>\n",
       "      <th>carneros</th>\n",
       "      <th>ovejas</th>\n",
       "      <th>borregos</th>\n",
       "      <th>capones</th>\n",
       "      <th>cordero/as</th>\n",
       "      <th>total_ovinos</th>\n",
       "      <th>kilos_lana</th>\n",
       "      <th>finura</th>\n",
       "      <th>rinde</th>\n",
       "      <th>humedad</th>\n",
       "      <th>cant_lluvia</th>\n",
       "      <th>tem_max</th>\n",
       "      <th>temp_media</th>\n",
       "      <th>temp_min</th>\n",
       "    </tr>\n",
       "  </thead>\n",
       "  <tbody>\n",
       "    <tr>\n",
       "      <th>196</th>\n",
       "      <td>2016-12-31</td>\n",
       "      <td>1989300</td>\n",
       "      <td>TELSEN</td>\n",
       "      <td>4896</td>\n",
       "      <td>80262</td>\n",
       "      <td>26471</td>\n",
       "      <td>39243</td>\n",
       "      <td>20290</td>\n",
       "      <td>171162</td>\n",
       "      <td>637000.0</td>\n",
       "      <td>20.20</td>\n",
       "      <td>53.55</td>\n",
       "      <td>50.80</td>\n",
       "      <td>273.33</td>\n",
       "      <td>17.47</td>\n",
       "      <td>11.57</td>\n",
       "      <td>5.77</td>\n",
       "    </tr>\n",
       "    <tr>\n",
       "      <th>197</th>\n",
       "      <td>2017-12-31</td>\n",
       "      <td>1989300</td>\n",
       "      <td>TELSEN</td>\n",
       "      <td>4640</td>\n",
       "      <td>77556</td>\n",
       "      <td>27296</td>\n",
       "      <td>36570</td>\n",
       "      <td>17750</td>\n",
       "      <td>163812</td>\n",
       "      <td>637000.0</td>\n",
       "      <td>19.11</td>\n",
       "      <td>56.01</td>\n",
       "      <td>47.17</td>\n",
       "      <td>220.03</td>\n",
       "      <td>16.60</td>\n",
       "      <td>10.93</td>\n",
       "      <td>5.03</td>\n",
       "    </tr>\n",
       "    <tr>\n",
       "      <th>198</th>\n",
       "      <td>2018-12-31</td>\n",
       "      <td>1989300</td>\n",
       "      <td>TELSEN</td>\n",
       "      <td>4832</td>\n",
       "      <td>79117</td>\n",
       "      <td>28366</td>\n",
       "      <td>37558</td>\n",
       "      <td>21933</td>\n",
       "      <td>171806</td>\n",
       "      <td>637000.0</td>\n",
       "      <td>20.38</td>\n",
       "      <td>54.64</td>\n",
       "      <td>47.93</td>\n",
       "      <td>201.40</td>\n",
       "      <td>17.63</td>\n",
       "      <td>11.33</td>\n",
       "      <td>5.03</td>\n",
       "    </tr>\n",
       "    <tr>\n",
       "      <th>199</th>\n",
       "      <td>2019-12-31</td>\n",
       "      <td>1989300</td>\n",
       "      <td>TELSEN</td>\n",
       "      <td>4781</td>\n",
       "      <td>80109</td>\n",
       "      <td>28428</td>\n",
       "      <td>38109</td>\n",
       "      <td>17731</td>\n",
       "      <td>169158</td>\n",
       "      <td>613021.5</td>\n",
       "      <td>16.88</td>\n",
       "      <td>53.83</td>\n",
       "      <td>47.57</td>\n",
       "      <td>119.47</td>\n",
       "      <td>17.53</td>\n",
       "      <td>11.17</td>\n",
       "      <td>4.83</td>\n",
       "    </tr>\n",
       "    <tr>\n",
       "      <th>200</th>\n",
       "      <td>2020-12-31</td>\n",
       "      <td>1989300</td>\n",
       "      <td>TELSEN</td>\n",
       "      <td>2870</td>\n",
       "      <td>79157</td>\n",
       "      <td>25804</td>\n",
       "      <td>36901</td>\n",
       "      <td>18984</td>\n",
       "      <td>163716</td>\n",
       "      <td>614250.0</td>\n",
       "      <td>21.55</td>\n",
       "      <td>52.96</td>\n",
       "      <td>46.63</td>\n",
       "      <td>101.47</td>\n",
       "      <td>16.60</td>\n",
       "      <td>10.60</td>\n",
       "      <td>4.60</td>\n",
       "    </tr>\n",
       "  </tbody>\n",
       "</table>\n",
       "</div>"
      ],
      "text/plain": [
       "          fecha  hectareas departamento  carneros  ovejas  borregos  capones  \\\n",
       "196  2016-12-31    1989300       TELSEN      4896   80262     26471    39243   \n",
       "197  2017-12-31    1989300       TELSEN      4640   77556     27296    36570   \n",
       "198  2018-12-31    1989300       TELSEN      4832   79117     28366    37558   \n",
       "199  2019-12-31    1989300       TELSEN      4781   80109     28428    38109   \n",
       "200  2020-12-31    1989300       TELSEN      2870   79157     25804    36901   \n",
       "\n",
       "     cordero/as  total_ovinos  kilos_lana  finura  rinde  humedad  \\\n",
       "196       20290        171162    637000.0   20.20  53.55    50.80   \n",
       "197       17750        163812    637000.0   19.11  56.01    47.17   \n",
       "198       21933        171806    637000.0   20.38  54.64    47.93   \n",
       "199       17731        169158    613021.5   16.88  53.83    47.57   \n",
       "200       18984        163716    614250.0   21.55  52.96    46.63   \n",
       "\n",
       "     cant_lluvia  tem_max  temp_media  temp_min  \n",
       "196       273.33    17.47       11.57      5.77  \n",
       "197       220.03    16.60       10.93      5.03  \n",
       "198       201.40    17.63       11.33      5.03  \n",
       "199       119.47    17.53       11.17      4.83  \n",
       "200       101.47    16.60       10.60      4.60  "
      ]
     },
     "execution_count": 6,
     "metadata": {},
     "output_type": "execute_result"
    }
   ],
   "source": [
    "datos.tail()"
   ]
  },
  {
   "cell_type": "markdown",
   "id": "20a08954",
   "metadata": {},
   "source": [
    "El resultado de `datos.info()` muestra información sobre el conjunto de datos en cuestión. En este caso, se trata de un DataFrame de pandas con 201 entradas y 17 columnas. Cada columna representa una variable diferente, como la fecha, la provincia, el departamento, el número de carneros, el número de ovejas, la cantidad de lluvia, etc.\n",
    "\n",
    "La tabla indica la cantidad de valores no nulos para cada columna y su tipo de dato. En este caso, todas las columnas tienen 201 valores no nulos y hay tres tipos de datos diferentes: float64, int64 y object. La información de memoria utilizada también se proporciona al final, indicando que el DataFrame ocupa 26.8+ KB de memoria."
   ]
  },
  {
   "cell_type": "code",
   "execution_count": 7,
   "id": "db85795b",
   "metadata": {},
   "outputs": [
    {
     "name": "stdout",
     "output_type": "stream",
     "text": [
      "<class 'pandas.core.frame.DataFrame'>\n",
      "RangeIndex: 201 entries, 0 to 200\n",
      "Data columns (total 17 columns):\n",
      " #   Column        Non-Null Count  Dtype  \n",
      "---  ------        --------------  -----  \n",
      " 0   fecha         201 non-null    object \n",
      " 1   hectareas     201 non-null    int64  \n",
      " 2   departamento  201 non-null    object \n",
      " 3   carneros      201 non-null    int64  \n",
      " 4   ovejas        201 non-null    int64  \n",
      " 5   borregos      201 non-null    int64  \n",
      " 6   capones       201 non-null    int64  \n",
      " 7   cordero/as    201 non-null    int64  \n",
      " 8   total_ovinos  201 non-null    int64  \n",
      " 9   kilos_lana    201 non-null    float64\n",
      " 10  finura        201 non-null    float64\n",
      " 11  rinde         201 non-null    float64\n",
      " 12  humedad       201 non-null    float64\n",
      " 13  cant_lluvia   201 non-null    float64\n",
      " 14  tem_max       201 non-null    float64\n",
      " 15  temp_media    201 non-null    float64\n",
      " 16  temp_min      201 non-null    float64\n",
      "dtypes: float64(8), int64(7), object(2)\n",
      "memory usage: 26.8+ KB\n"
     ]
    }
   ],
   "source": [
    "datos.info()"
   ]
  },
  {
   "cell_type": "markdown",
   "id": "f597087a",
   "metadata": {},
   "source": [
    "La función `describe()` de Pandas proporciona un resumen estadístico de cada columna numérica en el DataFrame. Este resumen incluye el recuento de valores no nulos (count), la media (mean), la desviación estándar (std), los valores mínimo (min) y máximo (max) de cada columna, y los percentiles 25%, 50% y 75%.\n",
    "\n",
    "Nos da una idea general del rango y la distribución de los datos en cada columna. "
   ]
  },
  {
   "cell_type": "code",
   "execution_count": 8,
   "id": "e4ed11b5",
   "metadata": {},
   "outputs": [
    {
     "data": {
      "text/html": [
       "<div>\n",
       "<style scoped>\n",
       "    .dataframe tbody tr th:only-of-type {\n",
       "        vertical-align: middle;\n",
       "    }\n",
       "\n",
       "    .dataframe tbody tr th {\n",
       "        vertical-align: top;\n",
       "    }\n",
       "\n",
       "    .dataframe thead th {\n",
       "        text-align: right;\n",
       "    }\n",
       "</style>\n",
       "<table border=\"1\" class=\"dataframe\">\n",
       "  <thead>\n",
       "    <tr style=\"text-align: right;\">\n",
       "      <th></th>\n",
       "      <th>hectareas</th>\n",
       "      <th>carneros</th>\n",
       "      <th>ovejas</th>\n",
       "      <th>borregos</th>\n",
       "      <th>capones</th>\n",
       "      <th>cordero/as</th>\n",
       "      <th>total_ovinos</th>\n",
       "      <th>kilos_lana</th>\n",
       "      <th>finura</th>\n",
       "      <th>rinde</th>\n",
       "      <th>humedad</th>\n",
       "      <th>cant_lluvia</th>\n",
       "      <th>tem_max</th>\n",
       "      <th>temp_media</th>\n",
       "      <th>temp_min</th>\n",
       "    </tr>\n",
       "  </thead>\n",
       "  <tbody>\n",
       "    <tr>\n",
       "      <th>count</th>\n",
       "      <td>2.010000e+02</td>\n",
       "      <td>201.000000</td>\n",
       "      <td>201.000000</td>\n",
       "      <td>201.000000</td>\n",
       "      <td>201.000000</td>\n",
       "      <td>201.000000</td>\n",
       "      <td>201.000000</td>\n",
       "      <td>2.010000e+02</td>\n",
       "      <td>201.000000</td>\n",
       "      <td>201.000000</td>\n",
       "      <td>201.000000</td>\n",
       "      <td>201.000000</td>\n",
       "      <td>201.000000</td>\n",
       "      <td>201.000000</td>\n",
       "      <td>201.000000</td>\n",
       "    </tr>\n",
       "    <tr>\n",
       "      <th>mean</th>\n",
       "      <td>1.185600e+06</td>\n",
       "      <td>7059.592040</td>\n",
       "      <td>117623.000000</td>\n",
       "      <td>39972.074627</td>\n",
       "      <td>42412.358209</td>\n",
       "      <td>35389.223881</td>\n",
       "      <td>242456.233831</td>\n",
       "      <td>8.943014e+05</td>\n",
       "      <td>19.757164</td>\n",
       "      <td>58.265970</td>\n",
       "      <td>53.437313</td>\n",
       "      <td>208.020398</td>\n",
       "      <td>18.934428</td>\n",
       "      <td>11.927114</td>\n",
       "      <td>5.073483</td>\n",
       "    </tr>\n",
       "    <tr>\n",
       "      <th>std</th>\n",
       "      <td>7.553617e+05</td>\n",
       "      <td>6422.172245</td>\n",
       "      <td>96258.454605</td>\n",
       "      <td>38397.581433</td>\n",
       "      <td>36583.899122</td>\n",
       "      <td>35547.605098</td>\n",
       "      <td>209323.799005</td>\n",
       "      <td>8.161410e+05</td>\n",
       "      <td>1.004677</td>\n",
       "      <td>4.311247</td>\n",
       "      <td>10.607092</td>\n",
       "      <td>169.949310</td>\n",
       "      <td>3.037241</td>\n",
       "      <td>2.382942</td>\n",
       "      <td>2.058007</td>\n",
       "    </tr>\n",
       "    <tr>\n",
       "      <th>min</th>\n",
       "      <td>2.500000e+02</td>\n",
       "      <td>27.000000</td>\n",
       "      <td>768.000000</td>\n",
       "      <td>275.000000</td>\n",
       "      <td>134.000000</td>\n",
       "      <td>34.000000</td>\n",
       "      <td>1771.000000</td>\n",
       "      <td>5.245000e+03</td>\n",
       "      <td>16.880000</td>\n",
       "      <td>47.510000</td>\n",
       "      <td>0.300000</td>\n",
       "      <td>7.100000</td>\n",
       "      <td>10.830000</td>\n",
       "      <td>5.330000</td>\n",
       "      <td>-0.600000</td>\n",
       "    </tr>\n",
       "    <tr>\n",
       "      <th>25%</th>\n",
       "      <td>3.922000e+05</td>\n",
       "      <td>2520.000000</td>\n",
       "      <td>61699.000000</td>\n",
       "      <td>19514.000000</td>\n",
       "      <td>21340.000000</td>\n",
       "      <td>17144.000000</td>\n",
       "      <td>123321.000000</td>\n",
       "      <td>2.602240e+05</td>\n",
       "      <td>19.100000</td>\n",
       "      <td>55.260000</td>\n",
       "      <td>48.800000</td>\n",
       "      <td>105.770000</td>\n",
       "      <td>16.500000</td>\n",
       "      <td>10.070000</td>\n",
       "      <td>3.600000</td>\n",
       "    </tr>\n",
       "    <tr>\n",
       "      <th>50%</th>\n",
       "      <td>1.456300e+06</td>\n",
       "      <td>5785.000000</td>\n",
       "      <td>106471.000000</td>\n",
       "      <td>30119.000000</td>\n",
       "      <td>34584.000000</td>\n",
       "      <td>27014.000000</td>\n",
       "      <td>214592.000000</td>\n",
       "      <td>7.689120e+05</td>\n",
       "      <td>19.770000</td>\n",
       "      <td>59.060000</td>\n",
       "      <td>54.300000</td>\n",
       "      <td>161.000000</td>\n",
       "      <td>19.850000</td>\n",
       "      <td>12.500000</td>\n",
       "      <td>5.300000</td>\n",
       "    </tr>\n",
       "    <tr>\n",
       "      <th>75%</th>\n",
       "      <td>1.625000e+06</td>\n",
       "      <td>8550.000000</td>\n",
       "      <td>150454.000000</td>\n",
       "      <td>46140.000000</td>\n",
       "      <td>52400.000000</td>\n",
       "      <td>41337.000000</td>\n",
       "      <td>287755.000000</td>\n",
       "      <td>1.143408e+06</td>\n",
       "      <td>20.450000</td>\n",
       "      <td>61.660000</td>\n",
       "      <td>59.150000</td>\n",
       "      <td>222.050000</td>\n",
       "      <td>21.000000</td>\n",
       "      <td>13.600000</td>\n",
       "      <td>6.300000</td>\n",
       "    </tr>\n",
       "    <tr>\n",
       "      <th>max</th>\n",
       "      <td>2.233500e+06</td>\n",
       "      <td>26957.000000</td>\n",
       "      <td>443288.000000</td>\n",
       "      <td>175695.000000</td>\n",
       "      <td>147855.000000</td>\n",
       "      <td>159654.000000</td>\n",
       "      <td>921789.000000</td>\n",
       "      <td>4.108800e+06</td>\n",
       "      <td>22.480000</td>\n",
       "      <td>65.450000</td>\n",
       "      <td>77.000000</td>\n",
       "      <td>1041.160000</td>\n",
       "      <td>26.600000</td>\n",
       "      <td>18.600000</td>\n",
       "      <td>12.900000</td>\n",
       "    </tr>\n",
       "  </tbody>\n",
       "</table>\n",
       "</div>"
      ],
      "text/plain": [
       "          hectareas      carneros         ovejas       borregos  \\\n",
       "count  2.010000e+02    201.000000     201.000000     201.000000   \n",
       "mean   1.185600e+06   7059.592040  117623.000000   39972.074627   \n",
       "std    7.553617e+05   6422.172245   96258.454605   38397.581433   \n",
       "min    2.500000e+02     27.000000     768.000000     275.000000   \n",
       "25%    3.922000e+05   2520.000000   61699.000000   19514.000000   \n",
       "50%    1.456300e+06   5785.000000  106471.000000   30119.000000   \n",
       "75%    1.625000e+06   8550.000000  150454.000000   46140.000000   \n",
       "max    2.233500e+06  26957.000000  443288.000000  175695.000000   \n",
       "\n",
       "             capones     cordero/as   total_ovinos    kilos_lana      finura  \\\n",
       "count     201.000000     201.000000     201.000000  2.010000e+02  201.000000   \n",
       "mean    42412.358209   35389.223881  242456.233831  8.943014e+05   19.757164   \n",
       "std     36583.899122   35547.605098  209323.799005  8.161410e+05    1.004677   \n",
       "min       134.000000      34.000000    1771.000000  5.245000e+03   16.880000   \n",
       "25%     21340.000000   17144.000000  123321.000000  2.602240e+05   19.100000   \n",
       "50%     34584.000000   27014.000000  214592.000000  7.689120e+05   19.770000   \n",
       "75%     52400.000000   41337.000000  287755.000000  1.143408e+06   20.450000   \n",
       "max    147855.000000  159654.000000  921789.000000  4.108800e+06   22.480000   \n",
       "\n",
       "            rinde     humedad  cant_lluvia     tem_max  temp_media    temp_min  \n",
       "count  201.000000  201.000000   201.000000  201.000000  201.000000  201.000000  \n",
       "mean    58.265970   53.437313   208.020398   18.934428   11.927114    5.073483  \n",
       "std      4.311247   10.607092   169.949310    3.037241    2.382942    2.058007  \n",
       "min     47.510000    0.300000     7.100000   10.830000    5.330000   -0.600000  \n",
       "25%     55.260000   48.800000   105.770000   16.500000   10.070000    3.600000  \n",
       "50%     59.060000   54.300000   161.000000   19.850000   12.500000    5.300000  \n",
       "75%     61.660000   59.150000   222.050000   21.000000   13.600000    6.300000  \n",
       "max     65.450000   77.000000  1041.160000   26.600000   18.600000   12.900000  "
      ]
     },
     "execution_count": 8,
     "metadata": {},
     "output_type": "execute_result"
    }
   ],
   "source": [
    "datos.describe()"
   ]
  },
  {
   "cell_type": "markdown",
   "id": "400f3f42",
   "metadata": {},
   "source": [
    "La siguiente celda de código calcula la mediana de cada columna del dataset. Esto es útil para obtener una idea de la tendencia central de los datos en cada variable. La mediana es una medida de posición que divide a un conjunto de datos ordenados en dos partes iguales, de modo que el 50% de los datos son mayores que la mediana y el 50% son menores que la mediana."
   ]
  },
  {
   "cell_type": "code",
   "execution_count": 9,
   "id": "9516daa8",
   "metadata": {
    "scrolled": true
   },
   "outputs": [
    {
     "data": {
      "text/plain": [
       "hectareas       1456300.00\n",
       "carneros           5785.00\n",
       "ovejas           106471.00\n",
       "borregos          30119.00\n",
       "capones           34584.00\n",
       "cordero/as        27014.00\n",
       "total_ovinos     214592.00\n",
       "kilos_lana       768912.00\n",
       "finura               19.77\n",
       "rinde                59.06\n",
       "humedad              54.30\n",
       "cant_lluvia         161.00\n",
       "tem_max              19.85\n",
       "temp_media           12.50\n",
       "temp_min              5.30\n",
       "dtype: float64"
      ]
     },
     "execution_count": 9,
     "metadata": {},
     "output_type": "execute_result"
    }
   ],
   "source": [
    "datos.median()"
   ]
  },
  {
   "cell_type": "markdown",
   "id": "e3a8ed54",
   "metadata": {},
   "source": [
    "Para evaluar si los datos tienen algún tipo de sesgo, es fundamental analizar la distribución de los mismos. Una distribución sesgada indica que los datos se concentran en un lado de la distribución, lo que puede afectar la interpretación de los resultados obtenidos.\n",
    "\n",
    "La asimetría de una distribución es una medida que nos permite determinar si la distribución está sesgada hacia la derecha o hacia la izquierda. Una forma común de medir la asimetría es mediante el coeficiente de asimetría (skewness en inglés), que puede ser calculado utilizando la función `skew()` de Pandas. Si el valor del coeficiente de asimetría es cercano a cero, entonces la distribución es simétrica, mientras que si el valor es mayor a cero, indica una distribución sesgada hacia la derecha (positivo) y si es menor a cero, indica una distribución sesgada hacia la izquierda (negativo). "
   ]
  },
  {
   "cell_type": "code",
   "execution_count": 10,
   "id": "890e24a5",
   "metadata": {},
   "outputs": [
    {
     "data": {
      "text/plain": [
       "hectareas      -0.310836\n",
       "carneros        1.430845\n",
       "ovejas          1.349549\n",
       "borregos        1.629180\n",
       "capones         1.219575\n",
       "cordero/as      1.815691\n",
       "total_ovinos    1.461836\n",
       "kilos_lana      1.508300\n",
       "finura         -0.125210\n",
       "rinde          -0.728973\n",
       "humedad        -1.695929\n",
       "cant_lluvia     2.131434\n",
       "tem_max        -0.302842\n",
       "temp_media     -0.198763\n",
       "temp_min        0.257953\n",
       "dtype: float64"
      ]
     },
     "execution_count": 10,
     "metadata": {},
     "output_type": "execute_result"
    }
   ],
   "source": [
    "datos.skew()"
   ]
  },
  {
   "cell_type": "markdown",
   "id": "bb7ea0cd",
   "metadata": {},
   "source": [
    "Podemos observar que los valores del coeficiente de asimetría (skewness) para las existencias ovinas se encuentran en el rango de 1.219575 a 1.815691. Este rango indica que la distribución de los datos en todas estas columnas presenta sesgo positivo, es decir, una cola larga hacia la derecha. Esto significa que la mayor concentración de valores se encuentra en el lado izquierdo de la distribución, mientras que hay pocos valores en el lado derecho. En otras palabras, para estas columnas, la mayoría de los datos están agrupados en valores bajos o moderados y hay pocos valores atípicos en el extremo derecho de la distribución."
   ]
  },
  {
   "cell_type": "markdown",
   "id": "9155e7d2",
   "metadata": {},
   "source": [
    "En relación a la variable \"kilos de lana\", se observa un coeficiente de asimetría (skewness) de 1.508300, lo que indica que la distribución de los datos está sesgada hacia la derecha. Esto implica que la mayoría de los valores se encuentran en el lado izquierdo de la distribución, mientras que hay pocos valores en el lado derecho. Por otro lado, las variables \"rinde\" (-0.728973) y \"finura\" (-0.125210) presentan una asimetría negativa, aunque en menor medida que la variable \"lana\", ya que sus coeficientes de asimetría están más cercanos a cero. Esto significa que la cola de la distribución se extiende más hacia la izquierda en relación con la media."
   ]
  },
  {
   "cell_type": "markdown",
   "id": "1bd4346a",
   "metadata": {},
   "source": [
    "Al analizar los datos meteorológicos, se puede observar que la cantidad de lluvia y la temperatura minima tienen una asimetría positiva de 2.131434 y 0.257953, respectivamente. La lluvia presenta una gran asimetría, mientras que la temperatura máxima es mas simétrica.\n",
    "Por otro lado, la humedad (-1.695929) tiene una asimetría negativa más pronunciada y la temperatura máxima (-0.302842) y la temperatura media (-0.198763) presentan una ligera asimetría positiva. En estos últimos tres casos, se puede afirmar que la cola de la distribución se extiende más hacia la izquierda que hacia la derecha en relación con la media."
   ]
  },
  {
   "cell_type": "markdown",
   "id": "96d44501",
   "metadata": {},
   "source": [
    "Conocer la cantidad de valores únicos en un dataset es fundamental para comprender la diversidad y distribución de los datos. En este sentido, empezaremos analizando tanto la fecha como el departamento de los registros."
   ]
  },
  {
   "cell_type": "code",
   "execution_count": 11,
   "id": "457e19c5",
   "metadata": {},
   "outputs": [],
   "source": [
    "def ver_valores_unicos(col_names):\n",
    "    for col in col_names:\n",
    "        vc = datos[col].value_counts()\n",
    "        print(f\"Valores únicos en la columna {col}: \\n{vc}\\n\")"
   ]
  },
  {
   "cell_type": "code",
   "execution_count": 12,
   "id": "9945a1ed",
   "metadata": {},
   "outputs": [
    {
     "name": "stdout",
     "output_type": "stream",
     "text": [
      "Valores únicos en la columna fecha: \n",
      "2012-12-31    13\n",
      "2016-12-31    13\n",
      "2017-12-31    13\n",
      "2019-12-31    13\n",
      "2020-12-31    13\n",
      "2013-12-31    13\n",
      "2014-12-31    12\n",
      "2015-12-31    12\n",
      "2018-12-31    12\n",
      "2009-12-31    11\n",
      "2010-12-31    10\n",
      "2011-12-31    10\n",
      "2008-12-31    10\n",
      "2007-12-31     8\n",
      "2006-12-31     8\n",
      "2005-12-31     5\n",
      "2000-12-31     2\n",
      "2003-12-31     2\n",
      "2002-12-31     2\n",
      "2001-12-31     2\n",
      "2004-12-31     2\n",
      "1990-12-31     1\n",
      "1991-12-31     1\n",
      "1992-12-31     1\n",
      "1993-12-31     1\n",
      "1994-12-31     1\n",
      "1995-12-31     1\n",
      "1996-12-31     1\n",
      "1997-12-31     1\n",
      "1998-12-31     1\n",
      "1999-12-31     1\n",
      "1989-12-31     1\n",
      "1988-12-31     1\n",
      "1986-12-31     1\n",
      "1985-12-31     1\n",
      "1987-12-31     1\n",
      "Name: fecha, dtype: int64\n",
      "\n",
      "Valores únicos en la columna departamento: \n",
      "MIRABUENO              36\n",
      "RAWSON                 21\n",
      "FUTALEUFU              16\n",
      "RIO SENGUERR           16\n",
      "CUSHAMEN               15\n",
      "GAIMAN                 15\n",
      "SARMIENTO              15\n",
      "PASO DE INDIOS         14\n",
      "TELSEN                 13\n",
      "TEHUELCHES             12\n",
      "FLORENTINO AMEGHINO    11\n",
      "BIEDMA                  9\n",
      "LANGUIÑEO               8\n",
      "Name: departamento, dtype: int64\n",
      "\n"
     ]
    }
   ],
   "source": [
    "col_names = ['fecha', 'departamento']\n",
    "ver_valores_unicos(col_names)"
   ]
  },
  {
   "cell_type": "markdown",
   "id": "3f4211a0",
   "metadata": {},
   "source": [
    "Podemos observar que entre los años 2008 y 2020, la cantidad de datos anuales registrados varía entre 10 y 13. No obstante, para los años anteriores a este periodo, se observa una disminución en la cantidad de datos, quizás debido a una falta de recolección de información. En cuanto a los valores únicos de la columna \"departamento\", se puede notar que el falso departamento \"Mirabueno\" cuenta con la mayor cantidad de registros, con un total de 36, seguido de Rawson con 21. Además, hay dos departamentos con 16 registros, tres con 15 registros, y varios departamentos con un número menor de registros, incluyendo Biedma con 9 registros y Languiñeo con 8 registros."
   ]
  },
  {
   "cell_type": "markdown",
   "id": "8bf0d6f5",
   "metadata": {},
   "source": [
    "Lo siguiente es ver los valores únicos para las existencias."
   ]
  },
  {
   "cell_type": "code",
   "execution_count": 13,
   "id": "4d639564",
   "metadata": {},
   "outputs": [
    {
     "name": "stdout",
     "output_type": "stream",
     "text": [
      "Valores únicos en la columna carneros: \n",
      "39      5\n",
      "9623    2\n",
      "71      2\n",
      "42      2\n",
      "35      2\n",
      "       ..\n",
      "8309    1\n",
      "5295    1\n",
      "8550    1\n",
      "8875    1\n",
      "2870    1\n",
      "Name: carneros, Length: 189, dtype: int64\n",
      "\n",
      "Valores únicos en la columna ovejas: \n",
      "1124      2\n",
      "93378     1\n",
      "61212     1\n",
      "52805     1\n",
      "55886     1\n",
      "         ..\n",
      "112547    1\n",
      "103552    1\n",
      "107526    1\n",
      "102562    1\n",
      "79157     1\n",
      "Name: ovejas, Length: 200, dtype: int64\n",
      "\n",
      "Valores únicos en la columna borregos: \n",
      "451      2\n",
      "30168    1\n",
      "15436    1\n",
      "22032    1\n",
      "19007    1\n",
      "        ..\n",
      "47178    1\n",
      "38645    1\n",
      "43471    1\n",
      "38569    1\n",
      "25804    1\n",
      "Name: borregos, Length: 200, dtype: int64\n",
      "\n",
      "Valores únicos en la columna cordero/as: \n",
      "507      2\n",
      "1200     2\n",
      "79       2\n",
      "820      2\n",
      "19079    1\n",
      "        ..\n",
      "21887    1\n",
      "42894    1\n",
      "17445    1\n",
      "40508    1\n",
      "18984    1\n",
      "Name: cordero/as, Length: 197, dtype: int64\n",
      "\n",
      "Valores únicos en la columna total_ovinos: \n",
      "193849    1\n",
      "120837    1\n",
      "128999    1\n",
      "131693    1\n",
      "113609    1\n",
      "         ..\n",
      "229837    1\n",
      "214592    1\n",
      "228473    1\n",
      "231763    1\n",
      "163716    1\n",
      "Name: total_ovinos, Length: 201, dtype: int64\n",
      "\n"
     ]
    }
   ],
   "source": [
    "col_names = ['carneros','ovejas', 'borregos','cordero/as','total_ovinos']\n",
    "ver_valores_unicos(col_names)"
   ]
  },
  {
   "cell_type": "markdown",
   "id": "da8006be",
   "metadata": {},
   "source": [
    "Al analizar los datos de existencias ovinas, se puede observar que en su mayoría los valores no se repiten, ya que la mayoría de las veces sólo aparecen una vez y en algunos casos dos. Dado que una alta cantidad de valores únicos puede aumentar la complejidad de un modelo de aprendizaje automático y hacer que sea más difícil de entrenar y optimizar, esta bueno conocer esta información. "
   ]
  },
  {
   "cell_type": "markdown",
   "id": "c3cd45f0",
   "metadata": {},
   "source": [
    "La siguiente celda se utiliza para contar la cantidad de valores faltantes en cada columna del conjunto de datos datos. Los valores faltantes, también conocidos como valores nulos o NA, son aquellos que no tienen un valor asignado en la tabla de datos. Saber la cantidad de valores faltantes en cada columna es importante porque puede afectar la calidad de los análisis y modelos de aprendizaje automático que se realicen con los datos. "
   ]
  },
  {
   "cell_type": "code",
   "execution_count": 14,
   "id": "d8feb511",
   "metadata": {},
   "outputs": [
    {
     "data": {
      "text/plain": [
       "fecha           0\n",
       "hectareas       0\n",
       "departamento    0\n",
       "carneros        0\n",
       "ovejas          0\n",
       "borregos        0\n",
       "capones         0\n",
       "cordero/as      0\n",
       "total_ovinos    0\n",
       "kilos_lana      0\n",
       "finura          0\n",
       "rinde           0\n",
       "humedad         0\n",
       "cant_lluvia     0\n",
       "tem_max         0\n",
       "temp_media      0\n",
       "temp_min        0\n",
       "dtype: int64"
      ]
     },
     "execution_count": 14,
     "metadata": {},
     "output_type": "execute_result"
    }
   ],
   "source": [
    "datos.isnull().sum()"
   ]
  },
  {
   "cell_type": "markdown",
   "id": "b57e617f",
   "metadata": {},
   "source": [
    "En este caso, no falta ningún dato, ya que se trabajó arduamente con los scrapers y el procesamiento de datos para garantizar su integridad."
   ]
  },
  {
   "cell_type": "markdown",
   "id": "94a96cb2",
   "metadata": {},
   "source": [
    "Con este primer análisis estadístico, estamos preparados para analizar el conjunto de datos de manera gráfica."
   ]
  }
 ],
 "metadata": {
  "kernelspec": {
   "display_name": "Python 3 (ipykernel)",
   "language": "python",
   "name": "python3"
  },
  "language_info": {
   "codemirror_mode": {
    "name": "ipython",
    "version": 3
   },
   "file_extension": ".py",
   "mimetype": "text/x-python",
   "name": "python",
   "nbconvert_exporter": "python",
   "pygments_lexer": "ipython3",
   "version": "3.9.7"
  },
  "toc": {
   "base_numbering": 1,
   "nav_menu": {},
   "number_sections": true,
   "sideBar": true,
   "skip_h1_title": false,
   "title_cell": "Table of Contents",
   "title_sidebar": "Contents",
   "toc_cell": false,
   "toc_position": {},
   "toc_section_display": true,
   "toc_window_display": false
  }
 },
 "nbformat": 4,
 "nbformat_minor": 5
}
