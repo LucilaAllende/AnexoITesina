{
 "cells": [
  {
   "attachments": {},
   "cell_type": "markdown",
   "id": "0662f218",
   "metadata": {},
   "source": [
    "# 2.1. Análisis estadístico - Dataset 1"
   ]
  },
  {
   "cell_type": "markdown",
   "id": "d8cd7673",
   "metadata": {},
   "source": [
    "El análisis estadístico es una herramienta importante para extraer información útil de los datos. En Python, la biblioteca Pandas se utiliza comúnmente para el análisis de datos. Pandas proporciona estructuras de datos poderosas y eficientes para trabajar con datos tabulares, incluyendo la capacidad de leer y escribir diferentes formatos de archivo, un conjunto completo de herramientas para el procesamiento de datos, así como funcionalidades de visualización.\n",
    "\n",
    "Con Pandas, podemos leer y cargar datos en varios formatos, realizar manipulaciones de datos, limpiar y transformar datos, hacer cálculos estadísticos y análisis exploratorios de datos,."
   ]
  },
  {
   "cell_type": "code",
   "execution_count": 1,
   "id": "fbda4907",
   "metadata": {},
   "outputs": [],
   "source": [
    "import pandas as pd"
   ]
  },
  {
   "cell_type": "markdown",
   "id": "3b52cfd0",
   "metadata": {},
   "source": [
    "En este caso vamos a explorar el dataset 1. Para ello, comenzaremos cargando los datos del archivo CSV correspondiente."
   ]
  },
  {
   "cell_type": "code",
   "execution_count": 2,
   "id": "70bb6447",
   "metadata": {},
   "outputs": [],
   "source": [
    "datos = pd.read_csv(\"../datos_analisis/dataset_produccion_clima_chubut.csv\")"
   ]
  },
  {
   "cell_type": "markdown",
   "id": "7c6f202d",
   "metadata": {},
   "source": [
    "La expresión `datos.shape` devuelve una tupla con dos elementos, (165, 17). Esto significa que el dataframe datos está compuesto por 165 registros, cada uno de ellos con información en 17 variables o características diferentes."
   ]
  },
  {
   "cell_type": "code",
   "execution_count": 3,
   "id": "5634741e",
   "metadata": {},
   "outputs": [
    {
     "data": {
      "text/plain": [
       "(165, 17)"
      ]
     },
     "execution_count": 3,
     "metadata": {},
     "output_type": "execute_result"
    }
   ],
   "source": [
    "datos.shape"
   ]
  },
  {
   "cell_type": "markdown",
   "id": "236a11a0",
   "metadata": {},
   "source": [
    "El atributo `columns` de un objeto `DataFrame` de pandas devuelve un objeto de tipo `Index` que contiene los nombres de las columnas del DataFrame. Esta propiedad permite acceder a las columnas del conjunto de datos y operar con ellas."
   ]
  },
  {
   "cell_type": "code",
   "execution_count": 4,
   "id": "2a719bf7",
   "metadata": {},
   "outputs": [
    {
     "data": {
      "text/plain": [
       "Index(['fecha', 'provincia', 'departamento', 'carneros', 'ovejas', 'borregos',\n",
       "       'capones', 'cordero/as', 'total_ovinos', 'kilos_lana', 'finura',\n",
       "       'rinde', 'humedad', 'cant_lluvia', 'tem_max', 'temp_media', 'temp_min'],\n",
       "      dtype='object')"
      ]
     },
     "execution_count": 4,
     "metadata": {},
     "output_type": "execute_result"
    }
   ],
   "source": [
    "datos.columns"
   ]
  },
  {
   "cell_type": "markdown",
   "id": "a5288135",
   "metadata": {},
   "source": [
    "La variable \"fecha\" indica la fecha en que se tomó la medición. \"Provincia\" y \"departamento\" indican la ubicación geográfica donde se tomó la medición. Las siguientes columnas \"carneros\", \"ovejas\", \"borregos\", \"capones\" y \"cordero/as\" indican la cantidad de animales de cada tipo que se midieron. La columna \"total_ovinos\" es la suma de todas las columnas de animales y representa el total de ovinos medidos en cada registro. La columna \"kilos_lana\" indica la cantidad de lana medida en kilos. Las columnas \"finura\" y \"rinde\" son mediciones de la calidad de la lana. Las columnas \"humedad\", \"cant_lluvia\", \"tem_max\", \"temp_media\" y \"temp_min\" son mediciones meteorológicas."
   ]
  },
  {
   "cell_type": "markdown",
   "id": "96159e48",
   "metadata": {},
   "source": [
    "La función `datos.head()` de Pandas permite visualizar las primeras filas de un DataFrame, por defecto muestra las primeras 5 filas. Nos da una idea general de los datos cargados y nos permite ver si hay algún problema con la carga de datos. "
   ]
  },
  {
   "cell_type": "code",
   "execution_count": 5,
   "id": "c9782ee8",
   "metadata": {},
   "outputs": [
    {
     "data": {
      "text/html": [
       "<div>\n",
       "<style scoped>\n",
       "    .dataframe tbody tr th:only-of-type {\n",
       "        vertical-align: middle;\n",
       "    }\n",
       "\n",
       "    .dataframe tbody tr th {\n",
       "        vertical-align: top;\n",
       "    }\n",
       "\n",
       "    .dataframe thead th {\n",
       "        text-align: right;\n",
       "    }\n",
       "</style>\n",
       "<table border=\"1\" class=\"dataframe\">\n",
       "  <thead>\n",
       "    <tr style=\"text-align: right;\">\n",
       "      <th></th>\n",
       "      <th>fecha</th>\n",
       "      <th>provincia</th>\n",
       "      <th>departamento</th>\n",
       "      <th>carneros</th>\n",
       "      <th>ovejas</th>\n",
       "      <th>borregos</th>\n",
       "      <th>capones</th>\n",
       "      <th>cordero/as</th>\n",
       "      <th>total_ovinos</th>\n",
       "      <th>kilos_lana</th>\n",
       "      <th>finura</th>\n",
       "      <th>rinde</th>\n",
       "      <th>humedad</th>\n",
       "      <th>cant_lluvia</th>\n",
       "      <th>tem_max</th>\n",
       "      <th>temp_media</th>\n",
       "      <th>temp_min</th>\n",
       "    </tr>\n",
       "  </thead>\n",
       "  <tbody>\n",
       "    <tr>\n",
       "      <th>0</th>\n",
       "      <td>2012-12-31</td>\n",
       "      <td>CHUBUT</td>\n",
       "      <td>BIEDMA</td>\n",
       "      <td>5785</td>\n",
       "      <td>93378</td>\n",
       "      <td>30168</td>\n",
       "      <td>48447</td>\n",
       "      <td>16071</td>\n",
       "      <td>193849</td>\n",
       "      <td>649130.0</td>\n",
       "      <td>19.80</td>\n",
       "      <td>58.06</td>\n",
       "      <td>58.4</td>\n",
       "      <td>46.4</td>\n",
       "      <td>18.1</td>\n",
       "      <td>12.4</td>\n",
       "      <td>6.7</td>\n",
       "    </tr>\n",
       "    <tr>\n",
       "      <th>1</th>\n",
       "      <td>2013-12-31</td>\n",
       "      <td>CHUBUT</td>\n",
       "      <td>BIEDMA</td>\n",
       "      <td>5376</td>\n",
       "      <td>82998</td>\n",
       "      <td>25341</td>\n",
       "      <td>47350</td>\n",
       "      <td>26832</td>\n",
       "      <td>187897</td>\n",
       "      <td>620176.0</td>\n",
       "      <td>19.60</td>\n",
       "      <td>56.68</td>\n",
       "      <td>64.7</td>\n",
       "      <td>226.5</td>\n",
       "      <td>19.9</td>\n",
       "      <td>14.2</td>\n",
       "      <td>8.8</td>\n",
       "    </tr>\n",
       "    <tr>\n",
       "      <th>2</th>\n",
       "      <td>2014-12-31</td>\n",
       "      <td>CHUBUT</td>\n",
       "      <td>BIEDMA</td>\n",
       "      <td>4785</td>\n",
       "      <td>82706</td>\n",
       "      <td>29379</td>\n",
       "      <td>35155</td>\n",
       "      <td>29900</td>\n",
       "      <td>181925</td>\n",
       "      <td>649130.0</td>\n",
       "      <td>20.10</td>\n",
       "      <td>61.19</td>\n",
       "      <td>60.5</td>\n",
       "      <td>331.3</td>\n",
       "      <td>20.6</td>\n",
       "      <td>14.7</td>\n",
       "      <td>9.2</td>\n",
       "    </tr>\n",
       "    <tr>\n",
       "      <th>3</th>\n",
       "      <td>2015-12-31</td>\n",
       "      <td>CHUBUT</td>\n",
       "      <td>BIEDMA</td>\n",
       "      <td>4440</td>\n",
       "      <td>89262</td>\n",
       "      <td>29663</td>\n",
       "      <td>35437</td>\n",
       "      <td>32343</td>\n",
       "      <td>191145</td>\n",
       "      <td>672480.0</td>\n",
       "      <td>18.58</td>\n",
       "      <td>58.18</td>\n",
       "      <td>58.7</td>\n",
       "      <td>114.2</td>\n",
       "      <td>22.2</td>\n",
       "      <td>15.8</td>\n",
       "      <td>10.2</td>\n",
       "    </tr>\n",
       "    <tr>\n",
       "      <th>4</th>\n",
       "      <td>2016-12-31</td>\n",
       "      <td>CHUBUT</td>\n",
       "      <td>BIEDMA</td>\n",
       "      <td>4452</td>\n",
       "      <td>82295</td>\n",
       "      <td>33662</td>\n",
       "      <td>33470</td>\n",
       "      <td>21326</td>\n",
       "      <td>175205</td>\n",
       "      <td>653800.0</td>\n",
       "      <td>17.99</td>\n",
       "      <td>59.93</td>\n",
       "      <td>57.5</td>\n",
       "      <td>88.9</td>\n",
       "      <td>25.2</td>\n",
       "      <td>18.6</td>\n",
       "      <td>12.9</td>\n",
       "    </tr>\n",
       "  </tbody>\n",
       "</table>\n",
       "</div>"
      ],
      "text/plain": [
       "        fecha provincia departamento  carneros  ovejas  borregos  capones  \\\n",
       "0  2012-12-31    CHUBUT       BIEDMA      5785   93378     30168    48447   \n",
       "1  2013-12-31    CHUBUT       BIEDMA      5376   82998     25341    47350   \n",
       "2  2014-12-31    CHUBUT       BIEDMA      4785   82706     29379    35155   \n",
       "3  2015-12-31    CHUBUT       BIEDMA      4440   89262     29663    35437   \n",
       "4  2016-12-31    CHUBUT       BIEDMA      4452   82295     33662    33470   \n",
       "\n",
       "   cordero/as  total_ovinos  kilos_lana  finura  rinde  humedad  cant_lluvia  \\\n",
       "0       16071        193849    649130.0   19.80  58.06     58.4         46.4   \n",
       "1       26832        187897    620176.0   19.60  56.68     64.7        226.5   \n",
       "2       29900        181925    649130.0   20.10  61.19     60.5        331.3   \n",
       "3       32343        191145    672480.0   18.58  58.18     58.7        114.2   \n",
       "4       21326        175205    653800.0   17.99  59.93     57.5         88.9   \n",
       "\n",
       "   tem_max  temp_media  temp_min  \n",
       "0     18.1        12.4       6.7  \n",
       "1     19.9        14.2       8.8  \n",
       "2     20.6        14.7       9.2  \n",
       "3     22.2        15.8      10.2  \n",
       "4     25.2        18.6      12.9  "
      ]
     },
     "execution_count": 5,
     "metadata": {},
     "output_type": "execute_result"
    }
   ],
   "source": [
    "datos.head()"
   ]
  },
  {
   "cell_type": "markdown",
   "id": "b0311d53",
   "metadata": {},
   "source": [
    "La función `tail()` de Pandas muestra las últimas filas del dataframe, por defecto las últimas 5. Esta función nos da una vista previa rápida de los últimos datos de un dataframe y nos permite comprobar que los datos se han cargado correctamente y se están procesando adecuadamente. "
   ]
  },
  {
   "cell_type": "code",
   "execution_count": 6,
   "id": "ae113516",
   "metadata": {},
   "outputs": [
    {
     "data": {
      "text/html": [
       "<div>\n",
       "<style scoped>\n",
       "    .dataframe tbody tr th:only-of-type {\n",
       "        vertical-align: middle;\n",
       "    }\n",
       "\n",
       "    .dataframe tbody tr th {\n",
       "        vertical-align: top;\n",
       "    }\n",
       "\n",
       "    .dataframe thead th {\n",
       "        text-align: right;\n",
       "    }\n",
       "</style>\n",
       "<table border=\"1\" class=\"dataframe\">\n",
       "  <thead>\n",
       "    <tr style=\"text-align: right;\">\n",
       "      <th></th>\n",
       "      <th>fecha</th>\n",
       "      <th>provincia</th>\n",
       "      <th>departamento</th>\n",
       "      <th>carneros</th>\n",
       "      <th>ovejas</th>\n",
       "      <th>borregos</th>\n",
       "      <th>capones</th>\n",
       "      <th>cordero/as</th>\n",
       "      <th>total_ovinos</th>\n",
       "      <th>kilos_lana</th>\n",
       "      <th>finura</th>\n",
       "      <th>rinde</th>\n",
       "      <th>humedad</th>\n",
       "      <th>cant_lluvia</th>\n",
       "      <th>tem_max</th>\n",
       "      <th>temp_media</th>\n",
       "      <th>temp_min</th>\n",
       "    </tr>\n",
       "  </thead>\n",
       "  <tbody>\n",
       "    <tr>\n",
       "      <th>160</th>\n",
       "      <td>2016-12-31</td>\n",
       "      <td>CHUBUT</td>\n",
       "      <td>TELSEN</td>\n",
       "      <td>4896</td>\n",
       "      <td>80262</td>\n",
       "      <td>26471</td>\n",
       "      <td>39243</td>\n",
       "      <td>20290</td>\n",
       "      <td>171162</td>\n",
       "      <td>637000.0</td>\n",
       "      <td>20.20</td>\n",
       "      <td>53.55</td>\n",
       "      <td>50.80</td>\n",
       "      <td>273.33</td>\n",
       "      <td>17.47</td>\n",
       "      <td>11.57</td>\n",
       "      <td>5.77</td>\n",
       "    </tr>\n",
       "    <tr>\n",
       "      <th>161</th>\n",
       "      <td>2017-12-31</td>\n",
       "      <td>CHUBUT</td>\n",
       "      <td>TELSEN</td>\n",
       "      <td>4640</td>\n",
       "      <td>77556</td>\n",
       "      <td>27296</td>\n",
       "      <td>36570</td>\n",
       "      <td>17750</td>\n",
       "      <td>163812</td>\n",
       "      <td>637000.0</td>\n",
       "      <td>19.11</td>\n",
       "      <td>56.01</td>\n",
       "      <td>47.17</td>\n",
       "      <td>220.03</td>\n",
       "      <td>16.60</td>\n",
       "      <td>10.93</td>\n",
       "      <td>5.03</td>\n",
       "    </tr>\n",
       "    <tr>\n",
       "      <th>162</th>\n",
       "      <td>2018-12-31</td>\n",
       "      <td>CHUBUT</td>\n",
       "      <td>TELSEN</td>\n",
       "      <td>4832</td>\n",
       "      <td>79117</td>\n",
       "      <td>28366</td>\n",
       "      <td>37558</td>\n",
       "      <td>21933</td>\n",
       "      <td>171806</td>\n",
       "      <td>637000.0</td>\n",
       "      <td>20.38</td>\n",
       "      <td>54.64</td>\n",
       "      <td>47.93</td>\n",
       "      <td>201.40</td>\n",
       "      <td>17.63</td>\n",
       "      <td>11.33</td>\n",
       "      <td>5.03</td>\n",
       "    </tr>\n",
       "    <tr>\n",
       "      <th>163</th>\n",
       "      <td>2019-12-31</td>\n",
       "      <td>CHUBUT</td>\n",
       "      <td>TELSEN</td>\n",
       "      <td>4781</td>\n",
       "      <td>80109</td>\n",
       "      <td>28428</td>\n",
       "      <td>38109</td>\n",
       "      <td>17731</td>\n",
       "      <td>169158</td>\n",
       "      <td>613021.5</td>\n",
       "      <td>16.88</td>\n",
       "      <td>53.83</td>\n",
       "      <td>47.57</td>\n",
       "      <td>119.47</td>\n",
       "      <td>17.53</td>\n",
       "      <td>11.17</td>\n",
       "      <td>4.83</td>\n",
       "    </tr>\n",
       "    <tr>\n",
       "      <th>164</th>\n",
       "      <td>2020-12-31</td>\n",
       "      <td>CHUBUT</td>\n",
       "      <td>TELSEN</td>\n",
       "      <td>2870</td>\n",
       "      <td>79157</td>\n",
       "      <td>25804</td>\n",
       "      <td>36901</td>\n",
       "      <td>18984</td>\n",
       "      <td>163716</td>\n",
       "      <td>614250.0</td>\n",
       "      <td>21.55</td>\n",
       "      <td>52.96</td>\n",
       "      <td>46.63</td>\n",
       "      <td>101.47</td>\n",
       "      <td>16.60</td>\n",
       "      <td>10.60</td>\n",
       "      <td>4.63</td>\n",
       "    </tr>\n",
       "  </tbody>\n",
       "</table>\n",
       "</div>"
      ],
      "text/plain": [
       "          fecha provincia departamento  carneros  ovejas  borregos  capones  \\\n",
       "160  2016-12-31    CHUBUT       TELSEN      4896   80262     26471    39243   \n",
       "161  2017-12-31    CHUBUT       TELSEN      4640   77556     27296    36570   \n",
       "162  2018-12-31    CHUBUT       TELSEN      4832   79117     28366    37558   \n",
       "163  2019-12-31    CHUBUT       TELSEN      4781   80109     28428    38109   \n",
       "164  2020-12-31    CHUBUT       TELSEN      2870   79157     25804    36901   \n",
       "\n",
       "     cordero/as  total_ovinos  kilos_lana  finura  rinde  humedad  \\\n",
       "160       20290        171162    637000.0   20.20  53.55    50.80   \n",
       "161       17750        163812    637000.0   19.11  56.01    47.17   \n",
       "162       21933        171806    637000.0   20.38  54.64    47.93   \n",
       "163       17731        169158    613021.5   16.88  53.83    47.57   \n",
       "164       18984        163716    614250.0   21.55  52.96    46.63   \n",
       "\n",
       "     cant_lluvia  tem_max  temp_media  temp_min  \n",
       "160       273.33    17.47       11.57      5.77  \n",
       "161       220.03    16.60       10.93      5.03  \n",
       "162       201.40    17.63       11.33      5.03  \n",
       "163       119.47    17.53       11.17      4.83  \n",
       "164       101.47    16.60       10.60      4.63  "
      ]
     },
     "execution_count": 6,
     "metadata": {},
     "output_type": "execute_result"
    }
   ],
   "source": [
    "datos.tail()"
   ]
  },
  {
   "cell_type": "markdown",
   "id": "20a08954",
   "metadata": {},
   "source": [
    "El resultado de `datos.info()` muestra información sobre el conjunto de datos en cuestión. En este caso, se trata de un DataFrame de pandas con 165 entradas y 17 columnas. Cada columna representa una variable diferente, como la fecha, la provincia, el departamento, el número de carneros, el número de ovejas, la cantidad de lluvia, etc.\n",
    "\n",
    "La tabla indica la cantidad de valores no nulos para cada columna y su tipo de dato. En este caso, todas las columnas tienen 165 valores no nulos y hay tres tipos de datos diferentes: float64, int64 y object. La información de memoria utilizada también se proporciona al final, indicando que el DataFrame ocupa 22.0+ KB de memoria."
   ]
  },
  {
   "cell_type": "code",
   "execution_count": 7,
   "id": "db85795b",
   "metadata": {},
   "outputs": [
    {
     "name": "stdout",
     "output_type": "stream",
     "text": [
      "<class 'pandas.core.frame.DataFrame'>\n",
      "RangeIndex: 165 entries, 0 to 164\n",
      "Data columns (total 17 columns):\n",
      " #   Column        Non-Null Count  Dtype  \n",
      "---  ------        --------------  -----  \n",
      " 0   fecha         165 non-null    object \n",
      " 1   provincia     165 non-null    object \n",
      " 2   departamento  165 non-null    object \n",
      " 3   carneros      165 non-null    int64  \n",
      " 4   ovejas        165 non-null    int64  \n",
      " 5   borregos      165 non-null    int64  \n",
      " 6   capones       165 non-null    int64  \n",
      " 7   cordero/as    165 non-null    int64  \n",
      " 8   total_ovinos  165 non-null    int64  \n",
      " 9   kilos_lana    165 non-null    float64\n",
      " 10  finura        165 non-null    float64\n",
      " 11  rinde         165 non-null    float64\n",
      " 12  humedad       165 non-null    float64\n",
      " 13  cant_lluvia   165 non-null    float64\n",
      " 14  tem_max       165 non-null    float64\n",
      " 15  temp_media    165 non-null    float64\n",
      " 16  temp_min      165 non-null    float64\n",
      "dtypes: float64(8), int64(6), object(3)\n",
      "memory usage: 22.0+ KB\n"
     ]
    }
   ],
   "source": [
    "datos.info()"
   ]
  },
  {
   "cell_type": "markdown",
   "id": "f597087a",
   "metadata": {},
   "source": [
    "La función `describe()` de Pandas proporciona un resumen estadístico de cada columna numérica en el DataFrame. Este resumen incluye el recuento de valores no nulos (count), la media (mean), la desviación estándar (std), los valores mínimo (min) y máximo (max) de cada columna, y los percentiles 25%, 50% y 75%.\n",
    "\n",
    "Nos da una idea general del rango y la distribución de los datos en cada columna. "
   ]
  },
  {
   "cell_type": "code",
   "execution_count": 8,
   "id": "e4ed11b5",
   "metadata": {},
   "outputs": [
    {
     "data": {
      "text/html": [
       "<div>\n",
       "<style scoped>\n",
       "    .dataframe tbody tr th:only-of-type {\n",
       "        vertical-align: middle;\n",
       "    }\n",
       "\n",
       "    .dataframe tbody tr th {\n",
       "        vertical-align: top;\n",
       "    }\n",
       "\n",
       "    .dataframe thead th {\n",
       "        text-align: right;\n",
       "    }\n",
       "</style>\n",
       "<table border=\"1\" class=\"dataframe\">\n",
       "  <thead>\n",
       "    <tr style=\"text-align: right;\">\n",
       "      <th></th>\n",
       "      <th>carneros</th>\n",
       "      <th>ovejas</th>\n",
       "      <th>borregos</th>\n",
       "      <th>capones</th>\n",
       "      <th>cordero/as</th>\n",
       "      <th>total_ovinos</th>\n",
       "      <th>kilos_lana</th>\n",
       "      <th>finura</th>\n",
       "      <th>rinde</th>\n",
       "      <th>humedad</th>\n",
       "      <th>cant_lluvia</th>\n",
       "      <th>tem_max</th>\n",
       "      <th>temp_media</th>\n",
       "      <th>temp_min</th>\n",
       "    </tr>\n",
       "  </thead>\n",
       "  <tbody>\n",
       "    <tr>\n",
       "      <th>count</th>\n",
       "      <td>165.000000</td>\n",
       "      <td>165.000000</td>\n",
       "      <td>165.000000</td>\n",
       "      <td>165.000000</td>\n",
       "      <td>165.000000</td>\n",
       "      <td>165.000000</td>\n",
       "      <td>1.650000e+02</td>\n",
       "      <td>165.000000</td>\n",
       "      <td>165.000000</td>\n",
       "      <td>165.000000</td>\n",
       "      <td>165.000000</td>\n",
       "      <td>165.000000</td>\n",
       "      <td>165.000000</td>\n",
       "      <td>165.000000</td>\n",
       "    </tr>\n",
       "    <tr>\n",
       "      <th>mean</th>\n",
       "      <td>8588.442424</td>\n",
       "      <td>142959.406061</td>\n",
       "      <td>48585.266667</td>\n",
       "      <td>51529.509091</td>\n",
       "      <td>42996.503030</td>\n",
       "      <td>294659.109091</td>\n",
       "      <td>1.086844e+06</td>\n",
       "      <td>19.797212</td>\n",
       "      <td>58.204303</td>\n",
       "      <td>53.571515</td>\n",
       "      <td>213.753939</td>\n",
       "      <td>18.451030</td>\n",
       "      <td>11.594242</td>\n",
       "      <td>4.913939</td>\n",
       "    </tr>\n",
       "    <tr>\n",
       "      <th>std</th>\n",
       "      <td>6096.545968</td>\n",
       "      <td>87713.008151</td>\n",
       "      <td>37165.529596</td>\n",
       "      <td>34135.200210</td>\n",
       "      <td>34869.840309</td>\n",
       "      <td>195259.805974</td>\n",
       "      <td>7.772044e+05</td>\n",
       "      <td>1.061267</td>\n",
       "      <td>4.535875</td>\n",
       "      <td>10.906164</td>\n",
       "      <td>184.243402</td>\n",
       "      <td>3.117619</td>\n",
       "      <td>2.490684</td>\n",
       "      <td>2.197669</td>\n",
       "    </tr>\n",
       "    <tr>\n",
       "      <th>min</th>\n",
       "      <td>1584.000000</td>\n",
       "      <td>38558.000000</td>\n",
       "      <td>13879.000000</td>\n",
       "      <td>12477.000000</td>\n",
       "      <td>11071.000000</td>\n",
       "      <td>82956.000000</td>\n",
       "      <td>2.018560e+05</td>\n",
       "      <td>16.880000</td>\n",
       "      <td>47.510000</td>\n",
       "      <td>0.300000</td>\n",
       "      <td>7.100000</td>\n",
       "      <td>10.830000</td>\n",
       "      <td>5.330000</td>\n",
       "      <td>-0.600000</td>\n",
       "    </tr>\n",
       "    <tr>\n",
       "      <th>25%</th>\n",
       "      <td>4896.000000</td>\n",
       "      <td>86473.000000</td>\n",
       "      <td>26471.000000</td>\n",
       "      <td>28734.000000</td>\n",
       "      <td>21294.000000</td>\n",
       "      <td>176065.000000</td>\n",
       "      <td>6.370000e+05</td>\n",
       "      <td>19.090000</td>\n",
       "      <td>54.640000</td>\n",
       "      <td>48.400000</td>\n",
       "      <td>103.700000</td>\n",
       "      <td>16.130000</td>\n",
       "      <td>9.800000</td>\n",
       "      <td>3.400000</td>\n",
       "    </tr>\n",
       "    <tr>\n",
       "      <th>50%</th>\n",
       "      <td>6609.000000</td>\n",
       "      <td>123241.000000</td>\n",
       "      <td>32080.000000</td>\n",
       "      <td>40482.000000</td>\n",
       "      <td>29740.000000</td>\n",
       "      <td>230802.000000</td>\n",
       "      <td>8.770900e+05</td>\n",
       "      <td>19.800000</td>\n",
       "      <td>59.180000</td>\n",
       "      <td>54.100000</td>\n",
       "      <td>155.400000</td>\n",
       "      <td>18.400000</td>\n",
       "      <td>11.700000</td>\n",
       "      <td>4.900000</td>\n",
       "    </tr>\n",
       "    <tr>\n",
       "      <th>75%</th>\n",
       "      <td>9410.000000</td>\n",
       "      <td>161713.000000</td>\n",
       "      <td>56336.000000</td>\n",
       "      <td>59153.000000</td>\n",
       "      <td>44013.000000</td>\n",
       "      <td>317981.000000</td>\n",
       "      <td>1.250640e+06</td>\n",
       "      <td>20.530000</td>\n",
       "      <td>61.770000</td>\n",
       "      <td>59.850000</td>\n",
       "      <td>238.600000</td>\n",
       "      <td>20.780000</td>\n",
       "      <td>13.600000</td>\n",
       "      <td>6.220000</td>\n",
       "    </tr>\n",
       "    <tr>\n",
       "      <th>max</th>\n",
       "      <td>26957.000000</td>\n",
       "      <td>443288.000000</td>\n",
       "      <td>175695.000000</td>\n",
       "      <td>147855.000000</td>\n",
       "      <td>159654.000000</td>\n",
       "      <td>921789.000000</td>\n",
       "      <td>4.108800e+06</td>\n",
       "      <td>22.480000</td>\n",
       "      <td>65.450000</td>\n",
       "      <td>77.000000</td>\n",
       "      <td>1041.160000</td>\n",
       "      <td>26.600000</td>\n",
       "      <td>18.600000</td>\n",
       "      <td>12.900000</td>\n",
       "    </tr>\n",
       "  </tbody>\n",
       "</table>\n",
       "</div>"
      ],
      "text/plain": [
       "           carneros         ovejas       borregos        capones  \\\n",
       "count    165.000000     165.000000     165.000000     165.000000   \n",
       "mean    8588.442424  142959.406061   48585.266667   51529.509091   \n",
       "std     6096.545968   87713.008151   37165.529596   34135.200210   \n",
       "min     1584.000000   38558.000000   13879.000000   12477.000000   \n",
       "25%     4896.000000   86473.000000   26471.000000   28734.000000   \n",
       "50%     6609.000000  123241.000000   32080.000000   40482.000000   \n",
       "75%     9410.000000  161713.000000   56336.000000   59153.000000   \n",
       "max    26957.000000  443288.000000  175695.000000  147855.000000   \n",
       "\n",
       "          cordero/as   total_ovinos    kilos_lana      finura       rinde  \\\n",
       "count     165.000000     165.000000  1.650000e+02  165.000000  165.000000   \n",
       "mean    42996.503030  294659.109091  1.086844e+06   19.797212   58.204303   \n",
       "std     34869.840309  195259.805974  7.772044e+05    1.061267    4.535875   \n",
       "min     11071.000000   82956.000000  2.018560e+05   16.880000   47.510000   \n",
       "25%     21294.000000  176065.000000  6.370000e+05   19.090000   54.640000   \n",
       "50%     29740.000000  230802.000000  8.770900e+05   19.800000   59.180000   \n",
       "75%     44013.000000  317981.000000  1.250640e+06   20.530000   61.770000   \n",
       "max    159654.000000  921789.000000  4.108800e+06   22.480000   65.450000   \n",
       "\n",
       "          humedad  cant_lluvia     tem_max  temp_media    temp_min  \n",
       "count  165.000000   165.000000  165.000000  165.000000  165.000000  \n",
       "mean    53.571515   213.753939   18.451030   11.594242    4.913939  \n",
       "std     10.906164   184.243402    3.117619    2.490684    2.197669  \n",
       "min      0.300000     7.100000   10.830000    5.330000   -0.600000  \n",
       "25%     48.400000   103.700000   16.130000    9.800000    3.400000  \n",
       "50%     54.100000   155.400000   18.400000   11.700000    4.900000  \n",
       "75%     59.850000   238.600000   20.780000   13.600000    6.220000  \n",
       "max     77.000000  1041.160000   26.600000   18.600000   12.900000  "
      ]
     },
     "execution_count": 8,
     "metadata": {},
     "output_type": "execute_result"
    }
   ],
   "source": [
    "datos.describe()"
   ]
  },
  {
   "cell_type": "markdown",
   "id": "400f3f42",
   "metadata": {},
   "source": [
    "La siguiente celda de código calcula la mediana de cada columna del dataset. Esto es útil para obtener una idea de la tendencia central de los datos en cada variable. La mediana es una medida de posición que divide a un conjunto de datos ordenados en dos partes iguales, de modo que el 50% de los datos son mayores que la mediana y el 50% son menores que la mediana."
   ]
  },
  {
   "cell_type": "code",
   "execution_count": 9,
   "id": "9516daa8",
   "metadata": {
    "scrolled": true
   },
   "outputs": [
    {
     "data": {
      "text/plain": [
       "carneros          6609.00\n",
       "ovejas          123241.00\n",
       "borregos         32080.00\n",
       "capones          40482.00\n",
       "cordero/as       29740.00\n",
       "total_ovinos    230802.00\n",
       "kilos_lana      877090.00\n",
       "finura              19.80\n",
       "rinde               59.18\n",
       "humedad             54.10\n",
       "cant_lluvia        155.40\n",
       "tem_max             18.40\n",
       "temp_media          11.70\n",
       "temp_min             4.90\n",
       "dtype: float64"
      ]
     },
     "execution_count": 9,
     "metadata": {},
     "output_type": "execute_result"
    }
   ],
   "source": [
    "datos.median()"
   ]
  },
  {
   "cell_type": "markdown",
   "id": "e3a8ed54",
   "metadata": {},
   "source": [
    "Para evaluar si los datos tienen algún tipo de sesgo, es fundamental analizar la distribución de los mismos. Una distribución sesgada indica que los datos se concentran en un lado de la distribución, lo que puede afectar la interpretación de los resultados obtenidos.\n",
    "\n",
    "La asimetría de una distribución es una medida que nos permite determinar si la distribución está sesgada hacia la derecha o hacia la izquierda. Una forma común de medir la asimetría es mediante el coeficiente de asimetría (skewness en inglés), que puede ser calculado utilizando la función `skew()` de Pandas. Si el valor del coeficiente de asimetría es cercano a cero, entonces la distribución es simétrica, mientras que si el valor es mayor a cero, indica una distribución sesgada hacia la derecha (positivo) y si es menor a cero, indica una distribución sesgada hacia la izquierda (negativo). "
   ]
  },
  {
   "cell_type": "code",
   "execution_count": 10,
   "id": "890e24a5",
   "metadata": {},
   "outputs": [
    {
     "data": {
      "text/plain": [
       "carneros        1.604009\n",
       "ovejas          1.793906\n",
       "borregos        1.745677\n",
       "capones         1.412119\n",
       "cordero/as      1.900176\n",
       "total_ovinos    1.778671\n",
       "kilos_lana      1.692090\n",
       "finura         -0.213958\n",
       "rinde          -0.743358\n",
       "humedad        -1.592241\n",
       "cant_lluvia     1.958729\n",
       "tem_max        -0.001843\n",
       "temp_media      0.115908\n",
       "temp_min        0.455066\n",
       "dtype: float64"
      ]
     },
     "execution_count": 10,
     "metadata": {},
     "output_type": "execute_result"
    }
   ],
   "source": [
    "datos.skew()"
   ]
  },
  {
   "cell_type": "markdown",
   "id": "bb7ea0cd",
   "metadata": {},
   "source": [
    "Podemos observar que los valores del coeficiente de asimetría (skewness) para las existencias ovinas se encuentran en el rango de 1.412119 a 1.900176. Este rango indica que la distribución de los datos en todas estas columnas presenta sesgo positivo, es decir, una cola larga hacia la derecha. Esto significa que la mayor concentración de valores se encuentra en el lado izquierdo de la distribución, mientras que hay pocos valores en el lado derecho. En otras palabras, para estas columnas, la mayoría de los datos están agrupados en valores bajos o moderados y hay pocos valores atípicos en el extremo derecho de la distribución."
   ]
  },
  {
   "cell_type": "markdown",
   "id": "9155e7d2",
   "metadata": {},
   "source": [
    "En relación a la variable \"kilos de lana\", se observa un coeficiente de asimetría (skewness) de 1.692090, lo que indica que la distribución de los datos está sesgada hacia la derecha. Esto implica que la mayoría de los valores se encuentran en el lado izquierdo de la distribución, mientras que hay pocos valores en el lado derecho. Por otro lado, las variables \"rinde\" (-0.743358) y \"finura\" (-0.213958) presentan una asimetría negativa, aunque en menor medida que la variable \"lana\", ya que sus coeficientes de asimetría están más cercanos a cero. Esto significa que la cola de la distribución se extiende más hacia la izquierda en relación con la media."
   ]
  },
  {
   "cell_type": "markdown",
   "id": "1bd4346a",
   "metadata": {},
   "source": [
    "Al analizar los datos meteorológicos, se puede observar que la humedad y la temperatura máxima tienen una asimetría negativa de -1.592241 y -0.001843, respectivamente. La humedad presenta una gran asimetría, mientras que la temperatura máxima es casi simétrica.\n",
    "Por otro lado, la lluvia (1.958729) tiene una asimetría positiva más pronunciada y la temperatura mínima (0.455066) y la temperatura media (0.115908) presentan una ligera asimetría positiva. En estos últimos tres casos, se puede afirmar que la cola de la distribución se extiende más hacia la derecha que hacia la izquierda en relación con la media."
   ]
  },
  {
   "cell_type": "markdown",
   "id": "96d44501",
   "metadata": {},
   "source": [
    "Conocer la cantidad de valores únicos en un dataset es fundamental para comprender la diversidad y distribución de los datos. En este sentido, empezaremos analizando tanto la fecha como el departamento de los registros."
   ]
  },
  {
   "cell_type": "code",
   "execution_count": 11,
   "id": "457e19c5",
   "metadata": {},
   "outputs": [],
   "source": [
    "def ver_valores_unicos(col_names):\n",
    "    for col in col_names:\n",
    "        vc = datos[col].value_counts()\n",
    "        print(f\"Valores únicos en la columna {col}: \\n{vc}\\n\")"
   ]
  },
  {
   "cell_type": "code",
   "execution_count": 12,
   "id": "9945a1ed",
   "metadata": {},
   "outputs": [
    {
     "name": "stdout",
     "output_type": "stream",
     "text": [
      "Valores únicos en la columna fecha: \n",
      "2012-12-31    12\n",
      "2016-12-31    12\n",
      "2017-12-31    12\n",
      "2019-12-31    12\n",
      "2020-12-31    12\n",
      "2013-12-31    12\n",
      "2014-12-31    11\n",
      "2015-12-31    11\n",
      "2018-12-31    11\n",
      "2009-12-31    10\n",
      "2010-12-31     9\n",
      "2011-12-31     9\n",
      "2008-12-31     9\n",
      "2007-12-31     7\n",
      "2006-12-31     7\n",
      "2005-12-31     4\n",
      "2000-12-31     1\n",
      "2001-12-31     1\n",
      "2002-12-31     1\n",
      "2003-12-31     1\n",
      "2004-12-31     1\n",
      "Name: fecha, dtype: int64\n",
      "\n",
      "Valores únicos en la columna departamento: \n",
      "RAWSON                 21\n",
      "FUTALEUFU              16\n",
      "RIO SENGUERR           16\n",
      "CUSHAMEN               15\n",
      "GAIMAN                 15\n",
      "SARMIENTO              15\n",
      "PASO DE INDIOS         14\n",
      "TELSEN                 13\n",
      "TEHUELCHES             12\n",
      "FLORENTINO AMEGHINO    11\n",
      "BIEDMA                  9\n",
      "LANGUIÑEO               8\n",
      "Name: departamento, dtype: int64\n",
      "\n"
     ]
    }
   ],
   "source": [
    "col_names = ['fecha', 'departamento']\n",
    "ver_valores_unicos(col_names)"
   ]
  },
  {
   "cell_type": "markdown",
   "id": "3f4211a0",
   "metadata": {},
   "source": [
    "Podemos observar que a partir del año 2009 hasta el 2020 se registra una cantidad de datos anual que varía entre 10 y 12. Sin embargo, para años anteriores a este periodo, se registra una disminución en la cantidad de datos debido quizás a la falta de recolección de información. En cuanto a los valores únicos de la columna \"departamento\", se puede notar que el departamento de Rawson cuenta con la mayor cantidad de registros, con un total de 21. Además, existen dos departamentos con 16 registros, tres con 15 registros, y varios departamentos con un número menor de registros, incluyendo Biedma con 9 registros y Languiñeo con 8 registros."
   ]
  },
  {
   "cell_type": "markdown",
   "id": "8bf0d6f5",
   "metadata": {},
   "source": [
    "Lo siguiente es ver los valores únicos para las existencias."
   ]
  },
  {
   "cell_type": "code",
   "execution_count": 13,
   "id": "4d639564",
   "metadata": {},
   "outputs": [
    {
     "name": "stdout",
     "output_type": "stream",
     "text": [
      "Valores únicos en la columna carneros: \n",
      "6650     2\n",
      "9623     2\n",
      "5785     1\n",
      "24926    1\n",
      "2273     1\n",
      "        ..\n",
      "5802     1\n",
      "7647     1\n",
      "8503     1\n",
      "8368     1\n",
      "2870     1\n",
      "Name: carneros, Length: 163, dtype: int64\n",
      "\n",
      "Valores únicos en la columna ovejas: \n",
      "93378     1\n",
      "66374     1\n",
      "68936     1\n",
      "74009     1\n",
      "74096     1\n",
      "         ..\n",
      "132221    1\n",
      "123977    1\n",
      "138573    1\n",
      "143403    1\n",
      "79157     1\n",
      "Name: ovejas, Length: 165, dtype: int64\n",
      "\n",
      "Valores únicos en la columna borregos: \n",
      "30168    1\n",
      "17693    1\n",
      "20065    1\n",
      "19514    1\n",
      "18058    1\n",
      "        ..\n",
      "27090    1\n",
      "20057    1\n",
      "20059    1\n",
      "21683    1\n",
      "25804    1\n",
      "Name: borregos, Length: 165, dtype: int64\n",
      "\n",
      "Valores únicos en la columna cordero/as: \n",
      "16071    1\n",
      "19079    1\n",
      "21294    1\n",
      "18895    1\n",
      "22102    1\n",
      "        ..\n",
      "27345    1\n",
      "23647    1\n",
      "20514    1\n",
      "27900    1\n",
      "18984    1\n",
      "Name: cordero/as, Length: 165, dtype: int64\n",
      "\n",
      "Valores únicos en la columna total_ovinos: \n",
      "193849    1\n",
      "128330    1\n",
      "132996    1\n",
      "136846    1\n",
      "135796    1\n",
      "         ..\n",
      "234952    1\n",
      "219186    1\n",
      "230046    1\n",
      "245238    1\n",
      "163716    1\n",
      "Name: total_ovinos, Length: 165, dtype: int64\n",
      "\n"
     ]
    }
   ],
   "source": [
    "col_names = ['carneros','ovejas', 'borregos','cordero/as','total_ovinos']\n",
    "ver_valores_unicos(col_names)"
   ]
  },
  {
   "cell_type": "markdown",
   "id": "da8006be",
   "metadata": {},
   "source": [
    "Al analizar los datos de existencias ovinas, se puede observar que en su mayoría los valores no se repiten, ya que la mayoría de las veces sólo aparecen una vez y en algunos casos dos. Dado que una alta cantidad de valores únicos puede aumentar la complejidad de un modelo de aprendizaje automático y hacer que sea más difícil de entrenar y optimizar, esta bueno conocer esta información. "
   ]
  },
  {
   "cell_type": "markdown",
   "id": "c3cd45f0",
   "metadata": {},
   "source": [
    "La siguiente celda se utiliza para contar la cantidad de valores faltantes en cada columna del conjunto de datos datos. Los valores faltantes, también conocidos como valores nulos o NA, son aquellos que no tienen un valor asignado en la tabla de datos. Saber la cantidad de valores faltantes en cada columna es importante porque puede afectar la calidad de los análisis y modelos de aprendizaje automático que se realicen con los datos. "
   ]
  },
  {
   "cell_type": "code",
   "execution_count": 14,
   "id": "d8feb511",
   "metadata": {},
   "outputs": [
    {
     "data": {
      "text/plain": [
       "fecha           0\n",
       "provincia       0\n",
       "departamento    0\n",
       "carneros        0\n",
       "ovejas          0\n",
       "borregos        0\n",
       "capones         0\n",
       "cordero/as      0\n",
       "total_ovinos    0\n",
       "kilos_lana      0\n",
       "finura          0\n",
       "rinde           0\n",
       "humedad         0\n",
       "cant_lluvia     0\n",
       "tem_max         0\n",
       "temp_media      0\n",
       "temp_min        0\n",
       "dtype: int64"
      ]
     },
     "execution_count": 14,
     "metadata": {},
     "output_type": "execute_result"
    }
   ],
   "source": [
    "datos.isnull().sum()"
   ]
  },
  {
   "cell_type": "markdown",
   "id": "b57e617f",
   "metadata": {},
   "source": [
    "En este caso, no falta ningún dato, ya que se trabajó arduamente con los scrapers y el procesamiento de datos para garantizar su integridad."
   ]
  },
  {
   "cell_type": "markdown",
   "id": "94a96cb2",
   "metadata": {},
   "source": [
    "Con este primer análisis estadístico, estamos preparados para analizar el conjunto de datos de manera gráfica."
   ]
  }
 ],
 "metadata": {
  "kernelspec": {
   "display_name": "Python 3 (ipykernel)",
   "language": "python",
   "name": "python3"
  },
  "language_info": {
   "codemirror_mode": {
    "name": "ipython",
    "version": 3
   },
   "file_extension": ".py",
   "mimetype": "text/x-python",
   "name": "python",
   "nbconvert_exporter": "python",
   "pygments_lexer": "ipython3",
   "version": "3.9.7"
  },
  "toc": {
   "base_numbering": 1,
   "nav_menu": {},
   "number_sections": true,
   "sideBar": true,
   "skip_h1_title": false,
   "title_cell": "Table of Contents",
   "title_sidebar": "Contents",
   "toc_cell": false,
   "toc_position": {},
   "toc_section_display": true,
   "toc_window_display": false
  }
 },
 "nbformat": 4,
 "nbformat_minor": 5
}
